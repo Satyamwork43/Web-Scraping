{
  "nbformat": 4,
  "nbformat_minor": 0,
  "metadata": {
    "colab": {
      "name": "Web scraping_9.ipynb",
      "provenance": []
    },
    "kernelspec": {
      "name": "python3",
      "display_name": "Python 3"
    },
    "language_info": {
      "name": "python"
    }
  },
  "cells": [
    {
      "cell_type": "markdown",
      "metadata": {
        "id": "SMAoBJYa5N-T"
      },
      "source": [
        "#Write a python program to scrape fresher job listings from ‘https://internshala.com/’. It should include job title, company name, CTC, and apply date.\n",
        "\n"
      ]
    },
    {
      "cell_type": "code",
      "metadata": {
        "id": "1d7uKsfa5Gaq"
      },
      "source": [
        "import pandas as pd\n",
        "from bs4 import BeautifulSoup as bs\n",
        "import requests"
      ],
      "execution_count": 1,
      "outputs": []
    },
    {
      "cell_type": "code",
      "metadata": {
        "id": "AeVcoP3Yivgb"
      },
      "source": [
        "link='https://internshala.com/fresher-jobs'"
      ],
      "execution_count": 2,
      "outputs": []
    },
    {
      "cell_type": "code",
      "metadata": {
        "colab": {
          "base_uri": "https://localhost:8080/"
        },
        "id": "W8cBuGzFEwTP",
        "outputId": "a71e8d74-3d77-405c-ae67-20b394de37ab"
      },
      "source": [
        "page=requests.get(link)\n",
        "page"
      ],
      "execution_count": 3,
      "outputs": [
        {
          "output_type": "execute_result",
          "data": {
            "text/plain": [
              "<Response [200]>"
            ]
          },
          "metadata": {
            "tags": []
          },
          "execution_count": 3
        }
      ]
    },
    {
      "cell_type": "code",
      "metadata": {
        "id": "L-c46OKZE0XZ"
      },
      "source": [
        "soup=bs(page.content,\"html.parser\")"
      ],
      "execution_count": 4,
      "outputs": []
    },
    {
      "cell_type": "code",
      "metadata": {
        "id": "SE-BL63yE9Op"
      },
      "source": [
        "job_title=soup.find_all('div',class_=\"heading_4_5 profile\")"
      ],
      "execution_count": 5,
      "outputs": []
    },
    {
      "cell_type": "code",
      "metadata": {
        "id": "hyDLazKqlSIb"
      },
      "source": [
        "job_titles=[]\n",
        "for i in job_title:\n",
        "  job_titles.append(i.text.replace(\"\\n\",\"\"))"
      ],
      "execution_count": 6,
      "outputs": []
    },
    {
      "cell_type": "code",
      "metadata": {
        "id": "MnktXtT0lcQx",
        "colab": {
          "base_uri": "https://localhost:8080/"
        },
        "outputId": "92a30981-ddb0-4805-c308-97957f4c1de1"
      },
      "source": [
        "job_titles"
      ],
      "execution_count": 7,
      "outputs": [
        {
          "output_type": "execute_result",
          "data": {
            "text/plain": [
              "['Order Processor ',\n",
              " 'Full Stack Developer ',\n",
              " 'Associate Software Developer ',\n",
              " 'Reactjs Developer ',\n",
              " 'Full Stack Developer ',\n",
              " 'Business Development Executive ',\n",
              " 'Corporate Sales Associate ',\n",
              " 'Inside Sales Associate ',\n",
              " 'Mobile App Developer ',\n",
              " 'Junior MERN STack Developer ',\n",
              " 'Education Innovation Manager ',\n",
              " 'General Management Associate ',\n",
              " 'Content & E-commerce Management Trainee ',\n",
              " 'Software Engineer ',\n",
              " 'Sales Support & Operations Executive ',\n",
              " 'Backend Developer ',\n",
              " 'Accountant ',\n",
              " 'Business Development (Sales) Associate ',\n",
              " 'Corporate Sales Associate ',\n",
              " 'Sales Executive - Mobile/Electronics ',\n",
              " 'Reactjs Developer ',\n",
              " 'Software Engineer ',\n",
              " 'PHP & LARAVEL DEVELOPER ',\n",
              " 'Customer Service Specialist ',\n",
              " 'Graphic Designer ',\n",
              " 'Digital Marketing Specialist ',\n",
              " 'Junior Corporate Sales Executive ',\n",
              " 'Backend Developer ',\n",
              " 'Junior Operations Executive ',\n",
              " 'Internal Audit Associate ',\n",
              " 'Business Marketing Manager ',\n",
              " 'React Native Developer ',\n",
              " 'Research And Communications Associate ',\n",
              " 'Data Scientist ',\n",
              " 'Data Science Django Developer ',\n",
              " 'Corporate Sales Associate ',\n",
              " 'Full Stack Developer ',\n",
              " 'Full Stack Developer (MERN) ',\n",
              " 'Sales Development Representative ',\n",
              " 'Graphic Designer ']"
            ]
          },
          "metadata": {
            "tags": []
          },
          "execution_count": 7
        }
      ]
    },
    {
      "cell_type": "code",
      "metadata": {
        "id": "ae3khChwlehr"
      },
      "source": [
        "company=soup.find_all('a',class_='link_display_like_text')"
      ],
      "execution_count": 8,
      "outputs": []
    },
    {
      "cell_type": "code",
      "metadata": {
        "id": "bHtWMkGflz8L"
      },
      "source": [
        "company_names=[]\n",
        "for i in company:\n",
        "  company_names.append(i.text.replace(\"\\n\",\"\"))"
      ],
      "execution_count": 9,
      "outputs": []
    },
    {
      "cell_type": "code",
      "metadata": {
        "id": "xbox8jGCl9Io"
      },
      "source": [
        "salary=soup.find_all('div',class_='item_body')"
      ],
      "execution_count": 10,
      "outputs": []
    },
    {
      "cell_type": "code",
      "metadata": {
        "id": "B_-SMF-kmpU6"
      },
      "source": [
        "CTC=[]\n",
        "for i in salary:\n",
        "  CTC.append(i.text.replace(\"\\n\",\"\"))"
      ],
      "execution_count": 11,
      "outputs": []
    },
    {
      "cell_type": "code",
      "metadata": {
        "id": "ZRN-rz98ovFQ"
      },
      "source": [
        "K='Starts\\xa0Immediately                        '\n",
        "while (K in CTC):\n",
        "  CTC.remove(K)"
      ],
      "execution_count": 12,
      "outputs": []
    },
    {
      "cell_type": "code",
      "metadata": {
        "id": "uVuy0F2Kosty"
      },
      "source": [
        "Salary=[]\n",
        "Apply_Date=[]\n",
        "for i in range(0,len(CTC)):\n",
        "  if i == 0 or i/2 == i//2:\n",
        "    Salary.append(CTC[i])\n",
        "  else:\n",
        "    Apply_Date.append(CTC[i])"
      ],
      "execution_count": 14,
      "outputs": []
    },
    {
      "cell_type": "code",
      "metadata": {
        "colab": {
          "base_uri": "https://localhost:8080/"
        },
        "id": "W0_nWPRcpBjJ",
        "outputId": "3af49096-5f60-425f-9a5a-71920bcf1a47"
      },
      "source": [
        "Salary"
      ],
      "execution_count": 15,
      "outputs": [
        {
          "output_type": "execute_result",
          "data": {
            "text/plain": [
              "['  3 LPA                                                    ',\n",
              " '  3.5 - 5 LPA                                                    ',\n",
              " '  3.6 - 10 LPA                                                    ',\n",
              " '  3 - 4 LPA                                                    ',\n",
              " '  3.3 - 4 LPA                                                    ',\n",
              " '  3 - 4 LPA                                                    ',\n",
              " '  3 - 4 LPA                                                    ',\n",
              " '  3 - 6 LPA                                                    ',\n",
              " '  4.5 - 5.25 LPA                                                    ',\n",
              " '  3 - 5 LPA                                                    ',\n",
              " '  3 - 5 LPA                                                    ',\n",
              " '  4 - 5 LPA                                                    ',\n",
              " '  3 LPA                                                    ',\n",
              " '  3 - 4 LPA                                                    ',\n",
              " '  3 - 3.01 LPA                                                    ',\n",
              " '  3 - 7 LPA                                                    ',\n",
              " '  3 - 3.25 LPA                                                    ',\n",
              " '  3 - 4 LPA                                                    ',\n",
              " '  3 LPA                                                    ',\n",
              " '  3 - 6 LPA                                                    ',\n",
              " '  3 LPA                                                    ',\n",
              " '  5 - 15 LPA                                                    ',\n",
              " '  3 - 3.05 LPA                                                    ',\n",
              " '  5.2 - 6.4 LPA                                                    ',\n",
              " '  5 - 6.5 LPA                                                    ',\n",
              " '  5 - 6.5 LPA                                                    ',\n",
              " '  3 - 3.5 LPA                                                    ',\n",
              " '  7 - 8.5 LPA                                                    ',\n",
              " '  3 - 3.6 LPA                                                    ',\n",
              " '  4.8 - 6 LPA                                                    ',\n",
              " '  4 - 8.5 LPA                                                    ',\n",
              " '  6.62 - 7.95 LPA                                                    ',\n",
              " '  3 - 4.5 LPA                                                    ',\n",
              " '  3 - 3.5 LPA                                                    ',\n",
              " '  3 - 4.5 LPA                                                    ',\n",
              " '  5 - 6.5 LPA                                                    ',\n",
              " '  4 - 7 LPA                                                    ',\n",
              " '  4 - 7.2 LPA                                                    ',\n",
              " '  5.5 - 6.5 LPA                                                    ',\n",
              " '  3 - 5 LPA                                                    ']"
            ]
          },
          "metadata": {
            "tags": []
          },
          "execution_count": 15
        }
      ]
    },
    {
      "cell_type": "code",
      "metadata": {
        "id": "jYlUOPuuoj5d"
      },
      "source": [
        "data=pd.DataFrame(job_titles,columns=['Job_Title'])"
      ],
      "execution_count": 16,
      "outputs": []
    },
    {
      "cell_type": "code",
      "metadata": {
        "id": "0Kt9SYdnrWCI"
      },
      "source": [
        "data['Company_Name']=company_names"
      ],
      "execution_count": 17,
      "outputs": []
    },
    {
      "cell_type": "code",
      "metadata": {
        "id": "o4q_OUzArcvr"
      },
      "source": [
        "data['CTC']=Salary"
      ],
      "execution_count": 18,
      "outputs": []
    },
    {
      "cell_type": "code",
      "metadata": {
        "id": "vR1HrriXrj3-"
      },
      "source": [
        "data['Apply_Date']=Apply_Date"
      ],
      "execution_count": 19,
      "outputs": []
    },
    {
      "cell_type": "code",
      "metadata": {
        "colab": {
          "base_uri": "https://localhost:8080/",
          "height": 1000
        },
        "id": "jkAZ6Biarp7p",
        "outputId": "4425a301-f3ef-425a-e0b9-94a43aafe59e"
      },
      "source": [
        "data"
      ],
      "execution_count": 20,
      "outputs": [
        {
          "output_type": "execute_result",
          "data": {
            "text/html": [
              "<div>\n",
              "<style scoped>\n",
              "    .dataframe tbody tr th:only-of-type {\n",
              "        vertical-align: middle;\n",
              "    }\n",
              "\n",
              "    .dataframe tbody tr th {\n",
              "        vertical-align: top;\n",
              "    }\n",
              "\n",
              "    .dataframe thead th {\n",
              "        text-align: right;\n",
              "    }\n",
              "</style>\n",
              "<table border=\"1\" class=\"dataframe\">\n",
              "  <thead>\n",
              "    <tr style=\"text-align: right;\">\n",
              "      <th></th>\n",
              "      <th>Job_Title</th>\n",
              "      <th>Company_Name</th>\n",
              "      <th>CTC</th>\n",
              "      <th>Apply_Date</th>\n",
              "    </tr>\n",
              "  </thead>\n",
              "  <tbody>\n",
              "    <tr>\n",
              "      <th>0</th>\n",
              "      <td>Order Processor</td>\n",
              "      <td>InspectHOA            ...</td>\n",
              "      <td>3 LPA                                       ...</td>\n",
              "      <td>14 Jul' 21</td>\n",
              "    </tr>\n",
              "    <tr>\n",
              "      <th>1</th>\n",
              "      <td>Full Stack Developer</td>\n",
              "      <td>Nikulsan Technologies ...</td>\n",
              "      <td>3.5 - 5 LPA                                 ...</td>\n",
              "      <td>14 Jul' 21</td>\n",
              "    </tr>\n",
              "    <tr>\n",
              "      <th>2</th>\n",
              "      <td>Associate Software Developer</td>\n",
              "      <td>IQGateway             ...</td>\n",
              "      <td>3.6 - 10 LPA                                ...</td>\n",
              "      <td>11 Jul' 21</td>\n",
              "    </tr>\n",
              "    <tr>\n",
              "      <th>3</th>\n",
              "      <td>Reactjs Developer</td>\n",
              "      <td>Startxlabs Technologie...</td>\n",
              "      <td>3 - 4 LPA                                   ...</td>\n",
              "      <td>11 Jul' 21</td>\n",
              "    </tr>\n",
              "    <tr>\n",
              "      <th>4</th>\n",
              "      <td>Full Stack Developer</td>\n",
              "      <td>RavGins International ...</td>\n",
              "      <td>3.3 - 4 LPA                                 ...</td>\n",
              "      <td>11 Jul' 21</td>\n",
              "    </tr>\n",
              "    <tr>\n",
              "      <th>5</th>\n",
              "      <td>Business Development Executive</td>\n",
              "      <td>Varenyam Placements   ...</td>\n",
              "      <td>3 - 4 LPA                                   ...</td>\n",
              "      <td>11 Jul' 21</td>\n",
              "    </tr>\n",
              "    <tr>\n",
              "      <th>6</th>\n",
              "      <td>Corporate Sales Associate</td>\n",
              "      <td>HealthPlix Technologie...</td>\n",
              "      <td>3 - 4 LPA                                   ...</td>\n",
              "      <td>11 Jul' 21</td>\n",
              "    </tr>\n",
              "    <tr>\n",
              "      <th>7</th>\n",
              "      <td>Inside Sales Associate</td>\n",
              "      <td>Wizklub Learning      ...</td>\n",
              "      <td>3 - 6 LPA                                   ...</td>\n",
              "      <td>11 Jul' 21</td>\n",
              "    </tr>\n",
              "    <tr>\n",
              "      <th>8</th>\n",
              "      <td>Mobile App Developer</td>\n",
              "      <td>Fusion Engineering    ...</td>\n",
              "      <td>4.5 - 5.25 LPA                              ...</td>\n",
              "      <td>14 Jul' 21</td>\n",
              "    </tr>\n",
              "    <tr>\n",
              "      <th>9</th>\n",
              "      <td>Junior MERN STack Developer</td>\n",
              "      <td>DeepThought Edutech Ve...</td>\n",
              "      <td>3 - 5 LPA                                   ...</td>\n",
              "      <td>14 Jul' 21</td>\n",
              "    </tr>\n",
              "    <tr>\n",
              "      <th>10</th>\n",
              "      <td>Education Innovation Manager</td>\n",
              "      <td>DeepThought Edutech Ve...</td>\n",
              "      <td>3 - 5 LPA                                   ...</td>\n",
              "      <td>10 Jul' 21</td>\n",
              "    </tr>\n",
              "    <tr>\n",
              "      <th>11</th>\n",
              "      <td>General Management Associate</td>\n",
              "      <td>Redwood Algorithms    ...</td>\n",
              "      <td>4 - 5 LPA                                   ...</td>\n",
              "      <td>10 Jul' 21</td>\n",
              "    </tr>\n",
              "    <tr>\n",
              "      <th>12</th>\n",
              "      <td>Content &amp; E-commerce Management Trainee</td>\n",
              "      <td>Blooprint Ecom Consult...</td>\n",
              "      <td>3 LPA                                       ...</td>\n",
              "      <td>9 Jul' 21</td>\n",
              "    </tr>\n",
              "    <tr>\n",
              "      <th>13</th>\n",
              "      <td>Software Engineer</td>\n",
              "      <td>QuikieApps            ...</td>\n",
              "      <td>3 - 4 LPA                                   ...</td>\n",
              "      <td>9 Jul' 21</td>\n",
              "    </tr>\n",
              "    <tr>\n",
              "      <th>14</th>\n",
              "      <td>Sales Support &amp; Operations Executive</td>\n",
              "      <td>SysCloud Technologies ...</td>\n",
              "      <td>3 - 3.01 LPA                                ...</td>\n",
              "      <td>9 Jul' 21</td>\n",
              "    </tr>\n",
              "    <tr>\n",
              "      <th>15</th>\n",
              "      <td>Backend Developer</td>\n",
              "      <td>Medcords Healthcare So...</td>\n",
              "      <td>3 - 7 LPA                                   ...</td>\n",
              "      <td>9 Jul' 21</td>\n",
              "    </tr>\n",
              "    <tr>\n",
              "      <th>16</th>\n",
              "      <td>Accountant</td>\n",
              "      <td>Bagga Infrastructure L...</td>\n",
              "      <td>3 - 3.25 LPA                                ...</td>\n",
              "      <td>8 Jul' 21</td>\n",
              "    </tr>\n",
              "    <tr>\n",
              "      <th>17</th>\n",
              "      <td>Business Development (Sales) Associate</td>\n",
              "      <td>Exploring Infinities E...</td>\n",
              "      <td>3 - 4 LPA                                   ...</td>\n",
              "      <td>8 Jul' 21</td>\n",
              "    </tr>\n",
              "    <tr>\n",
              "      <th>18</th>\n",
              "      <td>Corporate Sales Associate</td>\n",
              "      <td>Best Roadways Limited ...</td>\n",
              "      <td>3 LPA                                       ...</td>\n",
              "      <td>7 Jul' 21</td>\n",
              "    </tr>\n",
              "    <tr>\n",
              "      <th>19</th>\n",
              "      <td>Sales Executive - Mobile/Electronics</td>\n",
              "      <td>iShopAtoZ             ...</td>\n",
              "      <td>3 - 6 LPA                                   ...</td>\n",
              "      <td>7 Jul' 21</td>\n",
              "    </tr>\n",
              "    <tr>\n",
              "      <th>20</th>\n",
              "      <td>Reactjs Developer</td>\n",
              "      <td>The Tech Bridge       ...</td>\n",
              "      <td>3 LPA                                       ...</td>\n",
              "      <td>7 Jul' 21</td>\n",
              "    </tr>\n",
              "    <tr>\n",
              "      <th>21</th>\n",
              "      <td>Software Engineer</td>\n",
              "      <td>SalaryBox             ...</td>\n",
              "      <td>5 - 15 LPA                                  ...</td>\n",
              "      <td>7 Jul' 21</td>\n",
              "    </tr>\n",
              "    <tr>\n",
              "      <th>22</th>\n",
              "      <td>PHP &amp; LARAVEL DEVELOPER</td>\n",
              "      <td>Nyx Wolves            ...</td>\n",
              "      <td>3 - 3.05 LPA                                ...</td>\n",
              "      <td>4 Jul' 21</td>\n",
              "    </tr>\n",
              "    <tr>\n",
              "      <th>23</th>\n",
              "      <td>Customer Service Specialist</td>\n",
              "      <td>Wono Inc              ...</td>\n",
              "      <td>5.2 - 6.4 LPA                               ...</td>\n",
              "      <td>3 Jul' 21</td>\n",
              "    </tr>\n",
              "    <tr>\n",
              "      <th>24</th>\n",
              "      <td>Graphic Designer</td>\n",
              "      <td>Wono Inc              ...</td>\n",
              "      <td>5 - 6.5 LPA                                 ...</td>\n",
              "      <td>3 Jul' 21</td>\n",
              "    </tr>\n",
              "    <tr>\n",
              "      <th>25</th>\n",
              "      <td>Digital Marketing Specialist</td>\n",
              "      <td>Wono Inc              ...</td>\n",
              "      <td>5 - 6.5 LPA                                 ...</td>\n",
              "      <td>3 Jul' 21</td>\n",
              "    </tr>\n",
              "    <tr>\n",
              "      <th>26</th>\n",
              "      <td>Junior Corporate Sales Executive</td>\n",
              "      <td>Wyntem                ...</td>\n",
              "      <td>3 - 3.5 LPA                                 ...</td>\n",
              "      <td>3 Jul' 21</td>\n",
              "    </tr>\n",
              "    <tr>\n",
              "      <th>27</th>\n",
              "      <td>Backend Developer</td>\n",
              "      <td>HomeJam               ...</td>\n",
              "      <td>7 - 8.5 LPA                                 ...</td>\n",
              "      <td>3 Jul' 21</td>\n",
              "    </tr>\n",
              "    <tr>\n",
              "      <th>28</th>\n",
              "      <td>Junior Operations Executive</td>\n",
              "      <td>NCTI LLP              ...</td>\n",
              "      <td>3 - 3.6 LPA                                 ...</td>\n",
              "      <td>3 Jul' 21</td>\n",
              "    </tr>\n",
              "    <tr>\n",
              "      <th>29</th>\n",
              "      <td>Internal Audit Associate</td>\n",
              "      <td>Global Group          ...</td>\n",
              "      <td>4.8 - 6 LPA                                 ...</td>\n",
              "      <td>3 Jul' 21</td>\n",
              "    </tr>\n",
              "    <tr>\n",
              "      <th>30</th>\n",
              "      <td>Business Marketing Manager</td>\n",
              "      <td>MentorBoxx            ...</td>\n",
              "      <td>4 - 8.5 LPA                                 ...</td>\n",
              "      <td>3 Jul' 21</td>\n",
              "    </tr>\n",
              "    <tr>\n",
              "      <th>31</th>\n",
              "      <td>React Native Developer</td>\n",
              "      <td>Runners Planet        ...</td>\n",
              "      <td>6.62 - 7.95 LPA                             ...</td>\n",
              "      <td>3 Jul' 21</td>\n",
              "    </tr>\n",
              "    <tr>\n",
              "      <th>32</th>\n",
              "      <td>Research And Communications Associate</td>\n",
              "      <td>Institute For Governan...</td>\n",
              "      <td>3 - 4.5 LPA                                 ...</td>\n",
              "      <td>3 Jul' 21</td>\n",
              "    </tr>\n",
              "    <tr>\n",
              "      <th>33</th>\n",
              "      <td>Data Scientist</td>\n",
              "      <td>ProtonAutoML          ...</td>\n",
              "      <td>3 - 3.5 LPA                                 ...</td>\n",
              "      <td>2 Jul' 21</td>\n",
              "    </tr>\n",
              "    <tr>\n",
              "      <th>34</th>\n",
              "      <td>Data Science Django Developer</td>\n",
              "      <td>Markytics             ...</td>\n",
              "      <td>3 - 4.5 LPA                                 ...</td>\n",
              "      <td>2 Jul' 21</td>\n",
              "    </tr>\n",
              "    <tr>\n",
              "      <th>35</th>\n",
              "      <td>Corporate Sales Associate</td>\n",
              "      <td>MiM-Essay             ...</td>\n",
              "      <td>5 - 6.5 LPA                                 ...</td>\n",
              "      <td>2 Jul' 21</td>\n",
              "    </tr>\n",
              "    <tr>\n",
              "      <th>36</th>\n",
              "      <td>Full Stack Developer</td>\n",
              "      <td>Wondermail            ...</td>\n",
              "      <td>4 - 7 LPA                                   ...</td>\n",
              "      <td>1 Jul' 21</td>\n",
              "    </tr>\n",
              "    <tr>\n",
              "      <th>37</th>\n",
              "      <td>Full Stack Developer (MERN)</td>\n",
              "      <td>Project Tinker        ...</td>\n",
              "      <td>4 - 7.2 LPA                                 ...</td>\n",
              "      <td>3 Jul' 21</td>\n",
              "    </tr>\n",
              "    <tr>\n",
              "      <th>38</th>\n",
              "      <td>Sales Development Representative</td>\n",
              "      <td>Amigobulls            ...</td>\n",
              "      <td>5.5 - 6.5 LPA                               ...</td>\n",
              "      <td>1 Jul' 21</td>\n",
              "    </tr>\n",
              "    <tr>\n",
              "      <th>39</th>\n",
              "      <td>Graphic Designer</td>\n",
              "      <td>Underground Movement L...</td>\n",
              "      <td>3 - 5 LPA                                   ...</td>\n",
              "      <td>1 Jul' 21</td>\n",
              "    </tr>\n",
              "  </tbody>\n",
              "</table>\n",
              "</div>"
            ],
            "text/plain": [
              "                                   Job_Title  ...  Apply_Date\n",
              "0                           Order Processor   ...  14 Jul' 21\n",
              "1                      Full Stack Developer   ...  14 Jul' 21\n",
              "2              Associate Software Developer   ...  11 Jul' 21\n",
              "3                         Reactjs Developer   ...  11 Jul' 21\n",
              "4                      Full Stack Developer   ...  11 Jul' 21\n",
              "5            Business Development Executive   ...  11 Jul' 21\n",
              "6                 Corporate Sales Associate   ...  11 Jul' 21\n",
              "7                    Inside Sales Associate   ...  11 Jul' 21\n",
              "8                      Mobile App Developer   ...  14 Jul' 21\n",
              "9               Junior MERN STack Developer   ...  14 Jul' 21\n",
              "10             Education Innovation Manager   ...  10 Jul' 21\n",
              "11             General Management Associate   ...  10 Jul' 21\n",
              "12  Content & E-commerce Management Trainee   ...   9 Jul' 21\n",
              "13                        Software Engineer   ...   9 Jul' 21\n",
              "14     Sales Support & Operations Executive   ...   9 Jul' 21\n",
              "15                        Backend Developer   ...   9 Jul' 21\n",
              "16                               Accountant   ...   8 Jul' 21\n",
              "17   Business Development (Sales) Associate   ...   8 Jul' 21\n",
              "18                Corporate Sales Associate   ...   7 Jul' 21\n",
              "19     Sales Executive - Mobile/Electronics   ...   7 Jul' 21\n",
              "20                        Reactjs Developer   ...   7 Jul' 21\n",
              "21                        Software Engineer   ...   7 Jul' 21\n",
              "22                  PHP & LARAVEL DEVELOPER   ...   4 Jul' 21\n",
              "23              Customer Service Specialist   ...   3 Jul' 21\n",
              "24                         Graphic Designer   ...   3 Jul' 21\n",
              "25             Digital Marketing Specialist   ...   3 Jul' 21\n",
              "26         Junior Corporate Sales Executive   ...   3 Jul' 21\n",
              "27                        Backend Developer   ...   3 Jul' 21\n",
              "28              Junior Operations Executive   ...   3 Jul' 21\n",
              "29                 Internal Audit Associate   ...   3 Jul' 21\n",
              "30               Business Marketing Manager   ...   3 Jul' 21\n",
              "31                   React Native Developer   ...   3 Jul' 21\n",
              "32    Research And Communications Associate   ...   3 Jul' 21\n",
              "33                           Data Scientist   ...   2 Jul' 21\n",
              "34            Data Science Django Developer   ...   2 Jul' 21\n",
              "35                Corporate Sales Associate   ...   2 Jul' 21\n",
              "36                     Full Stack Developer   ...   1 Jul' 21\n",
              "37              Full Stack Developer (MERN)   ...   3 Jul' 21\n",
              "38         Sales Development Representative   ...   1 Jul' 21\n",
              "39                         Graphic Designer   ...   1 Jul' 21\n",
              "\n",
              "[40 rows x 4 columns]"
            ]
          },
          "metadata": {
            "tags": []
          },
          "execution_count": 20
        }
      ]
    }
  ]
}
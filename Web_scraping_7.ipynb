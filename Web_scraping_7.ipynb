{
  "nbformat": 4,
  "nbformat_minor": 0,
  "metadata": {
    "colab": {
      "name": "Web scraping_7.ipynb",
      "provenance": []
    },
    "kernelspec": {
      "name": "python3",
      "display_name": "Python 3"
    },
    "language_info": {
      "name": "python"
    }
  },
  "cells": [
    {
      "cell_type": "markdown",
      "metadata": {
        "id": "SMAoBJYa5N-T"
      },
      "source": [
        "#Write a python program to scrape details of all the mobile phones under Rs. 20,000 listed on Amazon.in. The scraped data should include Product Name, Price, Image URL and Average Rating"
      ]
    },
    {
      "cell_type": "code",
      "metadata": {
        "id": "1d7uKsfa5Gaq"
      },
      "source": [
        "import pandas as pd\n",
        "from bs4 import BeautifulSoup as bs\n",
        "import requests"
      ],
      "execution_count": 1,
      "outputs": []
    },
    {
      "cell_type": "code",
      "metadata": {
        "id": "z8SR9s-d6fs_"
      },
      "source": [
        "HEADERS = ({'User-Agent':\n",
        "            'Mozilla/5.0 (Windows NT 10.0; Win64; x64) AppleWebKit/537.36 (KHTML, like Gecko) Chrome/91.0.4472.77 Safari/537.36',\n",
        "            'Accept-Language': 'en-US, en;q=0.5'})"
      ],
      "execution_count": 2,
      "outputs": []
    },
    {
      "cell_type": "code",
      "metadata": {
        "id": "AeVcoP3Yivgb"
      },
      "source": [
        "link='https://www.amazon.in/Mobile-Phone-Under-20000-Rupees/s?k=Mobile+Phone+Under+20000+Rupees'"
      ],
      "execution_count": 3,
      "outputs": []
    },
    {
      "cell_type": "code",
      "metadata": {
        "colab": {
          "base_uri": "https://localhost:8080/"
        },
        "id": "W8cBuGzFEwTP",
        "outputId": "fa4bc523-a07b-49a0-dc63-654d9214c8a8"
      },
      "source": [
        "page=requests.get(link,headers=HEADERS)\n",
        "page"
      ],
      "execution_count": 4,
      "outputs": [
        {
          "output_type": "execute_result",
          "data": {
            "text/plain": [
              "<Response [200]>"
            ]
          },
          "metadata": {
            "tags": []
          },
          "execution_count": 4
        }
      ]
    },
    {
      "cell_type": "code",
      "metadata": {
        "id": "L-c46OKZE0XZ"
      },
      "source": [
        "soup=bs(page.content,\"html.parser\")"
      ],
      "execution_count": 5,
      "outputs": []
    },
    {
      "cell_type": "code",
      "metadata": {
        "id": "SE-BL63yE9Op"
      },
      "source": [
        "mobile_name=soup.find_all('span',class_=\"a-size-medium a-color-base a-text-normal\")"
      ],
      "execution_count": 6,
      "outputs": []
    },
    {
      "cell_type": "code",
      "metadata": {
        "id": "qBxa7mnWLJKT"
      },
      "source": [
        "Name=[]\n",
        "for i in mobile_name:\n",
        "  Name.append(i.text.replace(\"\\n\",\"\"))"
      ],
      "execution_count": 7,
      "outputs": []
    },
    {
      "cell_type": "code",
      "metadata": {
        "colab": {
          "base_uri": "https://localhost:8080/"
        },
        "id": "GSZ9rSflLZAv",
        "outputId": "ef258dc8-312f-4e3d-c233-26dd9e142a7a"
      },
      "source": [
        "len(Name)"
      ],
      "execution_count": 8,
      "outputs": [
        {
          "output_type": "execute_result",
          "data": {
            "text/plain": [
              "22"
            ]
          },
          "metadata": {
            "tags": []
          },
          "execution_count": 8
        }
      ]
    },
    {
      "cell_type": "code",
      "metadata": {
        "id": "fNI7QSlza7RC"
      },
      "source": [
        "#for i in range(len(Name)):\n",
        "#  Name[i]=Name[i].split(\"(\")[0]"
      ],
      "execution_count": 9,
      "outputs": []
    },
    {
      "cell_type": "code",
      "metadata": {
        "id": "81VnATOhbMFL"
      },
      "source": [
        "#Name"
      ],
      "execution_count": 10,
      "outputs": []
    },
    {
      "cell_type": "code",
      "metadata": {
        "id": "quiknTFpLZvd"
      },
      "source": [
        "mobile_price=soup.find_all(\"span\",class_=\"a-price-whole\")"
      ],
      "execution_count": 11,
      "outputs": []
    },
    {
      "cell_type": "code",
      "metadata": {
        "id": "5C5jZogwL9tv"
      },
      "source": [
        "Price=[]\n",
        "for i in mobile_price:\n",
        "  Price.append(i.text)"
      ],
      "execution_count": 12,
      "outputs": []
    },
    {
      "cell_type": "code",
      "metadata": {
        "colab": {
          "base_uri": "https://localhost:8080/"
        },
        "id": "trSd2Mn0Nkh8",
        "outputId": "9f9ce6da-b87c-4ac7-8709-50b7cddcec21"
      },
      "source": [
        "len(Price)"
      ],
      "execution_count": 13,
      "outputs": [
        {
          "output_type": "execute_result",
          "data": {
            "text/plain": [
              "22"
            ]
          },
          "metadata": {
            "tags": []
          },
          "execution_count": 13
        }
      ]
    },
    {
      "cell_type": "code",
      "metadata": {
        "id": "PKAh8g8pMHNj"
      },
      "source": [
        "mobile_rating=soup.find_all('span',class_=\"a-declarative\")"
      ],
      "execution_count": 14,
      "outputs": []
    },
    {
      "cell_type": "code",
      "metadata": {
        "id": "6zYQuiEkMVDp"
      },
      "source": [
        "Rating=[]\n",
        "for i in mobile_rating:\n",
        "  Rating.append(i.text.replace(\"\\n\",\"\"))"
      ],
      "execution_count": 15,
      "outputs": []
    },
    {
      "cell_type": "code",
      "metadata": {
        "id": "yST_L7RpIkdq"
      },
      "source": [
        "K=\"Sort by:Featured\"\n",
        "while K in Rating:\n",
        "  Rating.remove(K)"
      ],
      "execution_count": 16,
      "outputs": []
    },
    {
      "cell_type": "code",
      "metadata": {
        "id": "D4HFxHGTLaSL"
      },
      "source": [
        "K=\"SponsoredSponsored \"\n",
        "while K in Rating:\n",
        "  Rating.remove(K)"
      ],
      "execution_count": 17,
      "outputs": []
    },
    {
      "cell_type": "code",
      "metadata": {
        "id": "u5oF-2nMLkth"
      },
      "source": [
        "K=\"Let us know  \"\n",
        "while K in Rating:\n",
        "  Rating.remove(K)"
      ],
      "execution_count": 18,
      "outputs": []
    },
    {
      "cell_type": "code",
      "metadata": {
        "id": "Zny6YoYULDFW"
      },
      "source": [
        "Rating=Rating[1:23]"
      ],
      "execution_count": 19,
      "outputs": []
    },
    {
      "cell_type": "code",
      "metadata": {
        "colab": {
          "base_uri": "https://localhost:8080/"
        },
        "id": "POslPJfuMebO",
        "outputId": "c5f98b56-99c6-436d-eebc-950bde2f3be7"
      },
      "source": [
        "mobile_image=soup.find_all('img',class_='s-image')\n",
        "len(mobile_image)"
      ],
      "execution_count": 20,
      "outputs": [
        {
          "output_type": "execute_result",
          "data": {
            "text/plain": [
              "22"
            ]
          },
          "metadata": {
            "tags": []
          },
          "execution_count": 20
        }
      ]
    },
    {
      "cell_type": "code",
      "metadata": {
        "id": "lAK_0t12M6Er"
      },
      "source": [
        "Image=[]\n",
        "for i in mobile_image:\n",
        "  Image.append(i.get('srcset'))"
      ],
      "execution_count": 21,
      "outputs": []
    },
    {
      "cell_type": "code",
      "metadata": {
        "colab": {
          "base_uri": "https://localhost:8080/"
        },
        "id": "t7wzHBklEBfm",
        "outputId": "9469b01b-4e30-4ba8-c7ef-64cf1869f5d9"
      },
      "source": [
        "len(Image)"
      ],
      "execution_count": 22,
      "outputs": [
        {
          "output_type": "execute_result",
          "data": {
            "text/plain": [
              "22"
            ]
          },
          "metadata": {
            "tags": []
          },
          "execution_count": 22
        }
      ]
    },
    {
      "cell_type": "code",
      "metadata": {
        "id": "ocp_UsvaNOBw"
      },
      "source": [
        "data=pd.DataFrame(Name,columns=['Name'])"
      ],
      "execution_count": 23,
      "outputs": []
    },
    {
      "cell_type": "code",
      "metadata": {
        "id": "XlAY4tKSNYUu"
      },
      "source": [
        "data['Price']=Price\n",
        "data['Image_URL']=Image\n",
        "data['Rating']=Rating"
      ],
      "execution_count": 24,
      "outputs": []
    },
    {
      "cell_type": "code",
      "metadata": {
        "id": "YkZDucj4NdB6"
      },
      "source": [
        "data['Name']=data['Name'].str.split('(').str[0]"
      ],
      "execution_count": 25,
      "outputs": []
    },
    {
      "cell_type": "code",
      "metadata": {
        "id": "L5uTAhm5aHjV",
        "colab": {
          "base_uri": "https://localhost:8080/",
          "height": 731
        },
        "outputId": "d771d70b-58e1-4feb-d62c-70cdd8721a62"
      },
      "source": [
        "data"
      ],
      "execution_count": 26,
      "outputs": [
        {
          "output_type": "execute_result",
          "data": {
            "text/html": [
              "<div>\n",
              "<style scoped>\n",
              "    .dataframe tbody tr th:only-of-type {\n",
              "        vertical-align: middle;\n",
              "    }\n",
              "\n",
              "    .dataframe tbody tr th {\n",
              "        vertical-align: top;\n",
              "    }\n",
              "\n",
              "    .dataframe thead th {\n",
              "        text-align: right;\n",
              "    }\n",
              "</style>\n",
              "<table border=\"1\" class=\"dataframe\">\n",
              "  <thead>\n",
              "    <tr style=\"text-align: right;\">\n",
              "      <th></th>\n",
              "      <th>Name</th>\n",
              "      <th>Price</th>\n",
              "      <th>Image_URL</th>\n",
              "      <th>Rating</th>\n",
              "    </tr>\n",
              "  </thead>\n",
              "  <tbody>\n",
              "    <tr>\n",
              "      <th>0</th>\n",
              "      <td>iQOO Z3 5G</td>\n",
              "      <td>19,990</td>\n",
              "      <td>https://m.media-amazon.com/images/I/615CXlFtDD...</td>\n",
              "      <td>4.4 out of 5 stars</td>\n",
              "    </tr>\n",
              "    <tr>\n",
              "      <th>1</th>\n",
              "      <td>Oppo F19</td>\n",
              "      <td>18,990</td>\n",
              "      <td>https://m.media-amazon.com/images/I/71crCF+ogw...</td>\n",
              "      <td>4.0 out of 5 stars</td>\n",
              "    </tr>\n",
              "    <tr>\n",
              "      <th>2</th>\n",
              "      <td>Redmi 9A</td>\n",
              "      <td>6,799</td>\n",
              "      <td>https://m.media-amazon.com/images/I/71sxlhYhKW...</td>\n",
              "      <td>4.2 out of 5 stars</td>\n",
              "    </tr>\n",
              "    <tr>\n",
              "      <th>3</th>\n",
              "      <td>Redmi 9</td>\n",
              "      <td>8,799</td>\n",
              "      <td>https://m.media-amazon.com/images/I/71A9Vo1Bat...</td>\n",
              "      <td>4.2 out of 5 stars</td>\n",
              "    </tr>\n",
              "    <tr>\n",
              "      <th>4</th>\n",
              "      <td>Samsung Galaxy M12</td>\n",
              "      <td>10,499</td>\n",
              "      <td>https://m.media-amazon.com/images/I/71yYaNztZ0...</td>\n",
              "      <td>4.1 out of 5 stars</td>\n",
              "    </tr>\n",
              "    <tr>\n",
              "      <th>5</th>\n",
              "      <td>Redmi 9</td>\n",
              "      <td>8,799</td>\n",
              "      <td>https://m.media-amazon.com/images/I/716nHhG9SW...</td>\n",
              "      <td>4.2 out of 5 stars</td>\n",
              "    </tr>\n",
              "    <tr>\n",
              "      <th>6</th>\n",
              "      <td>Redmi Note 10</td>\n",
              "      <td>14,499</td>\n",
              "      <td>https://m.media-amazon.com/images/I/71-BcSc9rh...</td>\n",
              "      <td>4.1 out of 5 stars</td>\n",
              "    </tr>\n",
              "    <tr>\n",
              "      <th>7</th>\n",
              "      <td>Oppo A31</td>\n",
              "      <td>11,490</td>\n",
              "      <td>https://m.media-amazon.com/images/I/61IhTtJUXJ...</td>\n",
              "      <td>4.2 out of 5 stars</td>\n",
              "    </tr>\n",
              "    <tr>\n",
              "      <th>8</th>\n",
              "      <td>Oppo A31</td>\n",
              "      <td>11,490</td>\n",
              "      <td>https://m.media-amazon.com/images/I/71KCwNV6Mu...</td>\n",
              "      <td>4.2 out of 5 stars</td>\n",
              "    </tr>\n",
              "    <tr>\n",
              "      <th>9</th>\n",
              "      <td>Redmi Note 9</td>\n",
              "      <td>10,999</td>\n",
              "      <td>https://m.media-amazon.com/images/I/71X5I1cVfb...</td>\n",
              "      <td>4.3 out of 5 stars</td>\n",
              "    </tr>\n",
              "    <tr>\n",
              "      <th>10</th>\n",
              "      <td>OPPO A74 5G</td>\n",
              "      <td>17,990</td>\n",
              "      <td>https://m.media-amazon.com/images/I/71geVdy6-O...</td>\n",
              "      <td>4.2 out of 5 stars</td>\n",
              "    </tr>\n",
              "    <tr>\n",
              "      <th>11</th>\n",
              "      <td>Tecno Spark 7</td>\n",
              "      <td>8,499</td>\n",
              "      <td>https://m.media-amazon.com/images/I/712hJ5hz7N...</td>\n",
              "      <td>3.9 out of 5 stars</td>\n",
              "    </tr>\n",
              "    <tr>\n",
              "      <th>12</th>\n",
              "      <td>Redmi 9A</td>\n",
              "      <td>6,799</td>\n",
              "      <td>https://m.media-amazon.com/images/I/71sxlhYhKW...</td>\n",
              "      <td>4.2 out of 5 stars</td>\n",
              "    </tr>\n",
              "    <tr>\n",
              "      <th>13</th>\n",
              "      <td>Redmi 9A</td>\n",
              "      <td>7,499</td>\n",
              "      <td>https://m.media-amazon.com/images/I/71sxlhYhKW...</td>\n",
              "      <td>4.2 out of 5 stars</td>\n",
              "    </tr>\n",
              "    <tr>\n",
              "      <th>14</th>\n",
              "      <td>Samsung Galaxy M12</td>\n",
              "      <td>10,499</td>\n",
              "      <td>https://m.media-amazon.com/images/I/714QWDxXgN...</td>\n",
              "      <td>4.1 out of 5 stars</td>\n",
              "    </tr>\n",
              "    <tr>\n",
              "      <th>15</th>\n",
              "      <td>Samsung Galaxy M01 Core</td>\n",
              "      <td>6,199</td>\n",
              "      <td>https://m.media-amazon.com/images/I/71AYb2AGHX...</td>\n",
              "      <td>3.7 out of 5 stars</td>\n",
              "    </tr>\n",
              "    <tr>\n",
              "      <th>16</th>\n",
              "      <td>Samsung Galaxy M11</td>\n",
              "      <td>9,499</td>\n",
              "      <td>https://m.media-amazon.com/images/I/710jkZNub3...</td>\n",
              "      <td>4.2 out of 5 stars</td>\n",
              "    </tr>\n",
              "    <tr>\n",
              "      <th>17</th>\n",
              "      <td>Redmi 9 Power</td>\n",
              "      <td>10,499</td>\n",
              "      <td>https://m.media-amazon.com/images/I/71hEzQGO5q...</td>\n",
              "      <td>4.2 out of 5 stars</td>\n",
              "    </tr>\n",
              "    <tr>\n",
              "      <th>18</th>\n",
              "      <td>Redmi 9 Power</td>\n",
              "      <td>12,999</td>\n",
              "      <td>https://m.media-amazon.com/images/I/61LHaUOheh...</td>\n",
              "      <td>4.2 out of 5 stars</td>\n",
              "    </tr>\n",
              "    <tr>\n",
              "      <th>19</th>\n",
              "      <td>Samsung Galaxy M11</td>\n",
              "      <td>9,499</td>\n",
              "      <td>https://m.media-amazon.com/images/I/71GQUxuSpn...</td>\n",
              "      <td>4.2 out of 5 stars</td>\n",
              "    </tr>\n",
              "    <tr>\n",
              "      <th>20</th>\n",
              "      <td>Tecno Spark 7 Pro</td>\n",
              "      <td>10,999</td>\n",
              "      <td>https://m.media-amazon.com/images/I/81nty0Fe2Y...</td>\n",
              "      <td>3.9 out of 5 stars</td>\n",
              "    </tr>\n",
              "    <tr>\n",
              "      <th>21</th>\n",
              "      <td>Samsung Galaxy M12</td>\n",
              "      <td>10,499</td>\n",
              "      <td>https://m.media-amazon.com/images/I/71yYaNztZ0...</td>\n",
              "      <td>4.1 out of 5 stars</td>\n",
              "    </tr>\n",
              "  </tbody>\n",
              "</table>\n",
              "</div>"
            ],
            "text/plain": [
              "                        Name  ...              Rating\n",
              "0                iQOO Z3 5G   ...  4.4 out of 5 stars\n",
              "1                  Oppo F19   ...  4.0 out of 5 stars\n",
              "2                  Redmi 9A   ...  4.2 out of 5 stars\n",
              "3                   Redmi 9   ...  4.2 out of 5 stars\n",
              "4        Samsung Galaxy M12   ...  4.1 out of 5 stars\n",
              "5                   Redmi 9   ...  4.2 out of 5 stars\n",
              "6             Redmi Note 10   ...  4.1 out of 5 stars\n",
              "7                  Oppo A31   ...  4.2 out of 5 stars\n",
              "8                  Oppo A31   ...  4.2 out of 5 stars\n",
              "9              Redmi Note 9   ...  4.3 out of 5 stars\n",
              "10              OPPO A74 5G   ...  4.2 out of 5 stars\n",
              "11            Tecno Spark 7   ...  3.9 out of 5 stars\n",
              "12                 Redmi 9A   ...  4.2 out of 5 stars\n",
              "13                 Redmi 9A   ...  4.2 out of 5 stars\n",
              "14       Samsung Galaxy M12   ...  4.1 out of 5 stars\n",
              "15  Samsung Galaxy M01 Core   ...  3.7 out of 5 stars\n",
              "16       Samsung Galaxy M11   ...  4.2 out of 5 stars\n",
              "17            Redmi 9 Power   ...  4.2 out of 5 stars\n",
              "18            Redmi 9 Power   ...  4.2 out of 5 stars\n",
              "19       Samsung Galaxy M11   ...  4.2 out of 5 stars\n",
              "20        Tecno Spark 7 Pro   ...  3.9 out of 5 stars\n",
              "21       Samsung Galaxy M12   ...  4.1 out of 5 stars\n",
              "\n",
              "[22 rows x 4 columns]"
            ]
          },
          "metadata": {
            "tags": []
          },
          "execution_count": 26
        }
      ]
    }
  ]
}
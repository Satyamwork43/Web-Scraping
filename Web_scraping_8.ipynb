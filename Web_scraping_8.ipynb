{
  "nbformat": 4,
  "nbformat_minor": 0,
  "metadata": {
    "colab": {
      "name": "Web scraping_8.ipynb",
      "provenance": []
    },
    "kernelspec": {
      "name": "python3",
      "display_name": "Python 3"
    },
    "language_info": {
      "name": "python"
    }
  },
  "cells": [
    {
      "cell_type": "markdown",
      "metadata": {
        "id": "SMAoBJYa5N-T"
      },
      "source": [
        "#Write a python program to extract information about the local weather from the National Weather Service \n",
        "website of USA, https://www.weather.gov/ for the city, San Francisco. You need to extract data about 7 day \n",
        "extended forecast display for the city. The data should include period, short description, temperature and \n",
        "description"
      ]
    },
    {
      "cell_type": "code",
      "metadata": {
        "id": "1d7uKsfa5Gaq"
      },
      "source": [
        "import pandas as pd\n",
        "from bs4 import BeautifulSoup as bs\n",
        "import requests"
      ],
      "execution_count": 1,
      "outputs": []
    },
    {
      "cell_type": "code",
      "metadata": {
        "id": "AeVcoP3Yivgb"
      },
      "source": [
        "link='https://forecast.weather.gov/MapClick.php?lat=37.777120000000025&lon=-122.41963999999996#.YMb_BPkzbIU'"
      ],
      "execution_count": 2,
      "outputs": []
    },
    {
      "cell_type": "code",
      "metadata": {
        "colab": {
          "base_uri": "https://localhost:8080/"
        },
        "id": "W8cBuGzFEwTP",
        "outputId": "5713d80b-8a3b-4541-ff4b-3e99b5bee198"
      },
      "source": [
        "page=requests.get(link)\n",
        "page"
      ],
      "execution_count": 3,
      "outputs": [
        {
          "output_type": "execute_result",
          "data": {
            "text/plain": [
              "<Response [200]>"
            ]
          },
          "metadata": {
            "tags": []
          },
          "execution_count": 3
        }
      ]
    },
    {
      "cell_type": "code",
      "metadata": {
        "id": "L-c46OKZE0XZ"
      },
      "source": [
        "soup=bs(page.content,\"html.parser\")"
      ],
      "execution_count": 4,
      "outputs": []
    },
    {
      "cell_type": "code",
      "metadata": {
        "id": "SE-BL63yE9Op"
      },
      "source": [
        "period=soup.find_all('div',class_=\"col-sm-2 forecast-label\")"
      ],
      "execution_count": 5,
      "outputs": []
    },
    {
      "cell_type": "code",
      "metadata": {
        "id": "N3P0yCrXX1Kl"
      },
      "source": [
        "periods=[]\n",
        "for i in period:\n",
        "  periods.append(i.text.replace(\"\\n\",\"\"))"
      ],
      "execution_count": 6,
      "outputs": []
    },
    {
      "cell_type": "code",
      "metadata": {
        "colab": {
          "base_uri": "https://localhost:8080/"
        },
        "id": "oGsfEYkcYbRy",
        "outputId": "4bd7458c-7124-442e-e4ab-e56ab549c87a"
      },
      "source": [
        "periods"
      ],
      "execution_count": 7,
      "outputs": [
        {
          "output_type": "execute_result",
          "data": {
            "text/plain": [
              "['Overnight',\n",
              " 'Monday',\n",
              " 'Monday Night',\n",
              " 'Tuesday',\n",
              " 'Tuesday Night',\n",
              " 'Wednesday',\n",
              " 'Wednesday Night',\n",
              " 'Thursday',\n",
              " 'Thursday Night',\n",
              " 'Friday',\n",
              " 'Friday Night',\n",
              " 'Saturday',\n",
              " 'Saturday Night',\n",
              " 'Sunday']"
            ]
          },
          "metadata": {
            "tags": []
          },
          "execution_count": 7
        }
      ]
    },
    {
      "cell_type": "code",
      "metadata": {
        "id": "Ri0QuNETYcLl"
      },
      "source": [
        "details=soup.find_all('div',class_='col-sm-10 forecast-text')"
      ],
      "execution_count": 8,
      "outputs": []
    },
    {
      "cell_type": "code",
      "metadata": {
        "id": "a-dF66dfYhCT"
      },
      "source": [
        "detail=[]\n",
        "for i in details:\n",
        "  detail.append(i.text.replace(\"\\n\",\"\"))"
      ],
      "execution_count": 9,
      "outputs": []
    },
    {
      "cell_type": "code",
      "metadata": {
        "colab": {
          "base_uri": "https://localhost:8080/"
        },
        "id": "XE4yZBTnZKHR",
        "outputId": "9506f97f-30d0-49fb-bf47-01825fdc9701"
      },
      "source": [
        " short_description=[i.split(',')[0] for i in detail]\n",
        " short_description"
      ],
      "execution_count": 10,
      "outputs": [
        {
          "output_type": "execute_result",
          "data": {
            "text/plain": [
              "['Cloudy',\n",
              " 'Cloudy through mid morning',\n",
              " 'Mostly clear',\n",
              " 'Sunny',\n",
              " 'Mostly clear',\n",
              " 'Sunny',\n",
              " 'Partly cloudy',\n",
              " 'Sunny',\n",
              " 'Mostly clear',\n",
              " 'Sunny',\n",
              " 'Mostly clear',\n",
              " 'Sunny',\n",
              " 'Mostly clear',\n",
              " 'Sunny']"
            ]
          },
          "metadata": {
            "tags": []
          },
          "execution_count": 10
        }
      ]
    },
    {
      "cell_type": "code",
      "metadata": {
        "id": "cN1tclEXaHeb"
      },
      "source": [
        "description=[i.split(',')[1] for i in detail]"
      ],
      "execution_count": 11,
      "outputs": []
    },
    {
      "cell_type": "code",
      "metadata": {
        "colab": {
          "base_uri": "https://localhost:8080/"
        },
        "id": "J_WFZ-I5aTd1",
        "outputId": "98e30f70-b163-46c1-fb91-d4107f6a422b"
      },
      "source": [
        "description"
      ],
      "execution_count": 12,
      "outputs": [
        {
          "output_type": "execute_result",
          "data": {
            "text/plain": [
              "[' with a steady temperature around 61. West southwest wind 5 to 7 mph. ',\n",
              " ' then gradual clearing',\n",
              " ' with a low around 54. Breezy',\n",
              " ' with a high near 72. West wind 16 to 21 mph',\n",
              " ' with a low around 55. West southwest wind 15 to 20 mph decreasing to 6 to 11 mph in the evening. Winds could gust as high as 25 mph. ',\n",
              " ' with a high near 74.',\n",
              " ' with a low around 55.',\n",
              " ' with a high near 76.',\n",
              " ' with a low around 55.',\n",
              " ' with a high near 72.',\n",
              " ' with a low around 55.',\n",
              " ' with a high near 70.',\n",
              " ' with a low around 54.',\n",
              " ' with a high near 70.']"
            ]
          },
          "metadata": {
            "tags": []
          },
          "execution_count": 12
        }
      ]
    },
    {
      "cell_type": "code",
      "metadata": {
        "id": "HiG40OPIaZHp"
      },
      "source": [
        "Temperature=[i.split('.')[0] for i in description]"
      ],
      "execution_count": 13,
      "outputs": []
    },
    {
      "cell_type": "code",
      "metadata": {
        "id": "kT8aNVQZajoA"
      },
      "source": [
        "Temperatures=[i.split()[-1] + '°F' for i in Temperature]"
      ],
      "execution_count": 14,
      "outputs": []
    },
    {
      "cell_type": "code",
      "metadata": {
        "colab": {
          "base_uri": "https://localhost:8080/"
        },
        "id": "koKreUP5Y2Pv",
        "outputId": "1c06946e-49ec-4562-93cb-7b40e30d0dcf"
      },
      "source": [
        "detail"
      ],
      "execution_count": 15,
      "outputs": [
        {
          "output_type": "execute_result",
          "data": {
            "text/plain": [
              "['Cloudy, with a steady temperature around 61. West southwest wind 5 to 7 mph. ',\n",
              " 'Cloudy through mid morning, then gradual clearing, with a high near 68. Breezy, with a west wind 9 to 14 mph increasing to 20 to 25 mph in the afternoon. Winds could gust as high as 33 mph. ',\n",
              " 'Mostly clear, with a low around 54. Breezy, with a west wind 14 to 24 mph, with gusts as high as 31 mph. ',\n",
              " 'Sunny, with a high near 72. West wind 16 to 21 mph, with gusts as high as 28 mph. ',\n",
              " 'Mostly clear, with a low around 55. West southwest wind 15 to 20 mph decreasing to 6 to 11 mph in the evening. Winds could gust as high as 25 mph. ',\n",
              " 'Sunny, with a high near 74.',\n",
              " 'Partly cloudy, with a low around 55.',\n",
              " 'Sunny, with a high near 76.',\n",
              " 'Mostly clear, with a low around 55.',\n",
              " 'Sunny, with a high near 72.',\n",
              " 'Mostly clear, with a low around 55.',\n",
              " 'Sunny, with a high near 70.',\n",
              " 'Mostly clear, with a low around 54.',\n",
              " 'Sunny, with a high near 70.']"
            ]
          },
          "metadata": {
            "tags": []
          },
          "execution_count": 15
        }
      ]
    },
    {
      "cell_type": "code",
      "metadata": {
        "id": "iMhhdQ7Pce2v"
      },
      "source": [
        "data=pd.DataFrame(periods,columns=['Periods'])"
      ],
      "execution_count": 16,
      "outputs": []
    },
    {
      "cell_type": "code",
      "metadata": {
        "id": "IOnT0so7c2Wt"
      },
      "source": [
        "data['short_description']=short_description"
      ],
      "execution_count": 17,
      "outputs": []
    },
    {
      "cell_type": "code",
      "metadata": {
        "id": "BT34HyiUdIYo"
      },
      "source": [
        "data['Temperatures']=Temperatures"
      ],
      "execution_count": 18,
      "outputs": []
    },
    {
      "cell_type": "code",
      "metadata": {
        "id": "ODV9p9JpdP2v"
      },
      "source": [
        "data['Temperatures']=data['Temperatures'].replace(\"clearing°F\",\"68°F\")"
      ],
      "execution_count": 19,
      "outputs": []
    },
    {
      "cell_type": "code",
      "metadata": {
        "id": "8JlMYlnUdQYO"
      },
      "source": [
        "data['description']=description"
      ],
      "execution_count": 20,
      "outputs": []
    },
    {
      "cell_type": "code",
      "metadata": {
        "colab": {
          "base_uri": "https://localhost:8080/",
          "height": 483
        },
        "id": "5BxkJbj-daqz",
        "outputId": "cf7197e9-ac0b-4de0-8204-55a273380074"
      },
      "source": [
        "data"
      ],
      "execution_count": 21,
      "outputs": [
        {
          "output_type": "execute_result",
          "data": {
            "text/html": [
              "<div>\n",
              "<style scoped>\n",
              "    .dataframe tbody tr th:only-of-type {\n",
              "        vertical-align: middle;\n",
              "    }\n",
              "\n",
              "    .dataframe tbody tr th {\n",
              "        vertical-align: top;\n",
              "    }\n",
              "\n",
              "    .dataframe thead th {\n",
              "        text-align: right;\n",
              "    }\n",
              "</style>\n",
              "<table border=\"1\" class=\"dataframe\">\n",
              "  <thead>\n",
              "    <tr style=\"text-align: right;\">\n",
              "      <th></th>\n",
              "      <th>Periods</th>\n",
              "      <th>short_description</th>\n",
              "      <th>Temperatures</th>\n",
              "      <th>description</th>\n",
              "    </tr>\n",
              "  </thead>\n",
              "  <tbody>\n",
              "    <tr>\n",
              "      <th>0</th>\n",
              "      <td>Overnight</td>\n",
              "      <td>Cloudy</td>\n",
              "      <td>61°F</td>\n",
              "      <td>with a steady temperature around 61. West sou...</td>\n",
              "    </tr>\n",
              "    <tr>\n",
              "      <th>1</th>\n",
              "      <td>Monday</td>\n",
              "      <td>Cloudy through mid morning</td>\n",
              "      <td>68°F</td>\n",
              "      <td>then gradual clearing</td>\n",
              "    </tr>\n",
              "    <tr>\n",
              "      <th>2</th>\n",
              "      <td>Monday Night</td>\n",
              "      <td>Mostly clear</td>\n",
              "      <td>54°F</td>\n",
              "      <td>with a low around 54. Breezy</td>\n",
              "    </tr>\n",
              "    <tr>\n",
              "      <th>3</th>\n",
              "      <td>Tuesday</td>\n",
              "      <td>Sunny</td>\n",
              "      <td>72°F</td>\n",
              "      <td>with a high near 72. West wind 16 to 21 mph</td>\n",
              "    </tr>\n",
              "    <tr>\n",
              "      <th>4</th>\n",
              "      <td>Tuesday Night</td>\n",
              "      <td>Mostly clear</td>\n",
              "      <td>55°F</td>\n",
              "      <td>with a low around 55. West southwest wind 15 ...</td>\n",
              "    </tr>\n",
              "    <tr>\n",
              "      <th>5</th>\n",
              "      <td>Wednesday</td>\n",
              "      <td>Sunny</td>\n",
              "      <td>74°F</td>\n",
              "      <td>with a high near 74.</td>\n",
              "    </tr>\n",
              "    <tr>\n",
              "      <th>6</th>\n",
              "      <td>Wednesday Night</td>\n",
              "      <td>Partly cloudy</td>\n",
              "      <td>55°F</td>\n",
              "      <td>with a low around 55.</td>\n",
              "    </tr>\n",
              "    <tr>\n",
              "      <th>7</th>\n",
              "      <td>Thursday</td>\n",
              "      <td>Sunny</td>\n",
              "      <td>76°F</td>\n",
              "      <td>with a high near 76.</td>\n",
              "    </tr>\n",
              "    <tr>\n",
              "      <th>8</th>\n",
              "      <td>Thursday Night</td>\n",
              "      <td>Mostly clear</td>\n",
              "      <td>55°F</td>\n",
              "      <td>with a low around 55.</td>\n",
              "    </tr>\n",
              "    <tr>\n",
              "      <th>9</th>\n",
              "      <td>Friday</td>\n",
              "      <td>Sunny</td>\n",
              "      <td>72°F</td>\n",
              "      <td>with a high near 72.</td>\n",
              "    </tr>\n",
              "    <tr>\n",
              "      <th>10</th>\n",
              "      <td>Friday Night</td>\n",
              "      <td>Mostly clear</td>\n",
              "      <td>55°F</td>\n",
              "      <td>with a low around 55.</td>\n",
              "    </tr>\n",
              "    <tr>\n",
              "      <th>11</th>\n",
              "      <td>Saturday</td>\n",
              "      <td>Sunny</td>\n",
              "      <td>70°F</td>\n",
              "      <td>with a high near 70.</td>\n",
              "    </tr>\n",
              "    <tr>\n",
              "      <th>12</th>\n",
              "      <td>Saturday Night</td>\n",
              "      <td>Mostly clear</td>\n",
              "      <td>54°F</td>\n",
              "      <td>with a low around 54.</td>\n",
              "    </tr>\n",
              "    <tr>\n",
              "      <th>13</th>\n",
              "      <td>Sunday</td>\n",
              "      <td>Sunny</td>\n",
              "      <td>70°F</td>\n",
              "      <td>with a high near 70.</td>\n",
              "    </tr>\n",
              "  </tbody>\n",
              "</table>\n",
              "</div>"
            ],
            "text/plain": [
              "            Periods  ...                                        description\n",
              "0         Overnight  ...   with a steady temperature around 61. West sou...\n",
              "1            Monday  ...                              then gradual clearing\n",
              "2      Monday Night  ...                       with a low around 54. Breezy\n",
              "3           Tuesday  ...        with a high near 72. West wind 16 to 21 mph\n",
              "4     Tuesday Night  ...   with a low around 55. West southwest wind 15 ...\n",
              "5         Wednesday  ...                               with a high near 74.\n",
              "6   Wednesday Night  ...                              with a low around 55.\n",
              "7          Thursday  ...                               with a high near 76.\n",
              "8    Thursday Night  ...                              with a low around 55.\n",
              "9            Friday  ...                               with a high near 72.\n",
              "10     Friday Night  ...                              with a low around 55.\n",
              "11         Saturday  ...                               with a high near 70.\n",
              "12   Saturday Night  ...                              with a low around 54.\n",
              "13           Sunday  ...                               with a high near 70.\n",
              "\n",
              "[14 rows x 4 columns]"
            ]
          },
          "metadata": {
            "tags": []
          },
          "execution_count": 21
        }
      ]
    }
  ]
}
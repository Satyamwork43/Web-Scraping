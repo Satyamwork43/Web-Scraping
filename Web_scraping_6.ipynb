{
  "nbformat": 4,
  "nbformat_minor": 0,
  "metadata": {
    "colab": {
      "name": "Web scraping_6.ipynb",
      "provenance": []
    },
    "kernelspec": {
      "name": "python3",
      "display_name": "Python 3"
    },
    "language_info": {
      "name": "python"
    }
  },
  "cells": [
    {
      "cell_type": "markdown",
      "metadata": {
        "id": "SMAoBJYa5N-T"
      },
      "source": [
        "#Write a python program to scrape cricket rankings from ‘www.icc-cricket.com’. You have to scrape:\n",
        "i) Top 10 ODI teams in women’s cricket along with the records for matches, points and rating.\n",
        "ii) Top 10 women’s ODI players along with the records of their team and rating.\n",
        "iii) Top 10 women’s ODI all-rounder along with the records of their team and rating"
      ]
    },
    {
      "cell_type": "code",
      "metadata": {
        "id": "1d7uKsfa5Gaq"
      },
      "source": [
        "import pandas as pd\n",
        "from bs4 import BeautifulSoup as bs\n",
        "import requests"
      ],
      "execution_count": 1,
      "outputs": []
    },
    {
      "cell_type": "code",
      "metadata": {
        "id": "9Yn7x_Nw5fT_"
      },
      "source": [
        "link='https://www.icc-cricket.com/rankings/womens/team-rankings/odi'"
      ],
      "execution_count": 2,
      "outputs": []
    },
    {
      "cell_type": "code",
      "metadata": {
        "colab": {
          "base_uri": "https://localhost:8080/"
        },
        "id": "W8cBuGzFEwTP",
        "outputId": "e580e746-0813-4bfc-a93b-c6437fe3a8f4"
      },
      "source": [
        "page=requests.get(link)\n",
        "page"
      ],
      "execution_count": 3,
      "outputs": [
        {
          "output_type": "execute_result",
          "data": {
            "text/plain": [
              "<Response [200]>"
            ]
          },
          "metadata": {
            "tags": []
          },
          "execution_count": 3
        }
      ]
    },
    {
      "cell_type": "code",
      "metadata": {
        "id": "L-c46OKZE0XZ"
      },
      "source": [
        "soup=bs(page.content,\"html.parser\")"
      ],
      "execution_count": 4,
      "outputs": []
    },
    {
      "cell_type": "code",
      "metadata": {
        "id": "SE-BL63yE9Op"
      },
      "source": [
        "Team=soup.find_all('span',class_=\"u-hide-phablet\")"
      ],
      "execution_count": 5,
      "outputs": []
    },
    {
      "cell_type": "code",
      "metadata": {
        "colab": {
          "base_uri": "https://localhost:8080/"
        },
        "id": "rH3VwXr-HtNr",
        "outputId": "6a062add-9f87-41e8-a78f-c400be6c9a46"
      },
      "source": [
        "len(Team)"
      ],
      "execution_count": 6,
      "outputs": [
        {
          "output_type": "execute_result",
          "data": {
            "text/plain": [
              "15"
            ]
          },
          "metadata": {
            "tags": []
          },
          "execution_count": 6
        }
      ]
    },
    {
      "cell_type": "code",
      "metadata": {
        "id": "O1SEJoKcFtYB"
      },
      "source": [
        "Team_Name=[]\n",
        "for i in range(0,len(Team)):\n",
        "  Team_Name.append(Team[i].get_text().replace(\"\\n\",\"\"))"
      ],
      "execution_count": 7,
      "outputs": []
    },
    {
      "cell_type": "code",
      "metadata": {
        "colab": {
          "base_uri": "https://localhost:8080/"
        },
        "id": "nizQpSgRGMLB",
        "outputId": "aeb5728b-9ed5-48ae-f3cc-0af96a05794a"
      },
      "source": [
        "Team_Name=Team_Name[:10]\n",
        "Team_Name"
      ],
      "execution_count": 8,
      "outputs": [
        {
          "output_type": "execute_result",
          "data": {
            "text/plain": [
              "['Australia',\n",
              " 'South Africa',\n",
              " 'England',\n",
              " 'India',\n",
              " 'New Zealand',\n",
              " 'West Indies',\n",
              " 'Pakistan',\n",
              " 'Bangladesh',\n",
              " 'Sri Lanka',\n",
              " 'Ireland']"
            ]
          },
          "metadata": {
            "tags": []
          },
          "execution_count": 8
        }
      ]
    },
    {
      "cell_type": "code",
      "metadata": {
        "id": "S3GefutgGT1w"
      },
      "source": [
        "M=soup.find_all('td',class_=\"rankings-block__banner--matches\")"
      ],
      "execution_count": 9,
      "outputs": []
    },
    {
      "cell_type": "code",
      "metadata": {
        "id": "1rm7hNO9IfJ2"
      },
      "source": [
        "Match=[]\n",
        "for i in range(0,len(M)):\n",
        "  Match.append(M[i].get_text().replace(\"\\n\",\"\"))"
      ],
      "execution_count": 10,
      "outputs": []
    },
    {
      "cell_type": "code",
      "metadata": {
        "colab": {
          "base_uri": "https://localhost:8080/"
        },
        "id": "OxB66Ky9Ixn9",
        "outputId": "b6b590e4-c9cf-4f90-f19e-9db752194399"
      },
      "source": [
        "Match"
      ],
      "execution_count": 11,
      "outputs": [
        {
          "output_type": "execute_result",
          "data": {
            "text/plain": [
              "['18']"
            ]
          },
          "metadata": {
            "tags": []
          },
          "execution_count": 11
        }
      ]
    },
    {
      "cell_type": "code",
      "metadata": {
        "id": "pzrVQa0CdEim"
      },
      "source": [
        "top_matches=soup.find_all('td',class_=\"table-body__cell u-center-text\")"
      ],
      "execution_count": 12,
      "outputs": []
    },
    {
      "cell_type": "code",
      "metadata": {
        "id": "74ypeYcrd516"
      },
      "source": [
        "tops_match=[]\n",
        "for i in top_matches:\n",
        "  tops_match.append(i.text.replace(\"\\n\",\"\"))"
      ],
      "execution_count": 13,
      "outputs": []
    },
    {
      "cell_type": "code",
      "metadata": {
        "colab": {
          "base_uri": "https://localhost:8080/"
        },
        "id": "qsvSDa0beOFU",
        "outputId": "800ee8cc-51af-4c75-d167-159df2a8f797"
      },
      "source": [
        "tops_match"
      ],
      "execution_count": 14,
      "outputs": [
        {
          "output_type": "execute_result",
          "data": {
            "text/plain": [
              "['24',\n",
              " '2,828',\n",
              " '17',\n",
              " '1,993',\n",
              " '20',\n",
              " '2,226',\n",
              " '21',\n",
              " '1,947',\n",
              " '12',\n",
              " '1,025',\n",
              " '15',\n",
              " '1,101',\n",
              " '5',\n",
              " '306',\n",
              " '11',\n",
              " '519',\n",
              " '2',\n",
              " '25']"
            ]
          },
          "metadata": {
            "tags": []
          },
          "execution_count": 14
        }
      ]
    },
    {
      "cell_type": "code",
      "metadata": {
        "id": "dTEvZKlKvLpp"
      },
      "source": [
        "#full=soup.find_all('td',class_='rankings-block__banner--matches')\n",
        "#full"
      ],
      "execution_count": 15,
      "outputs": []
    },
    {
      "cell_type": "code",
      "metadata": {
        "id": "Age19NbuvLmR"
      },
      "source": [
        "#full_body=[]\n",
        "#for i in full:\n",
        " # full_body.append(i.text)"
      ],
      "execution_count": 16,
      "outputs": []
    },
    {
      "cell_type": "code",
      "metadata": {
        "id": "vAxfQZk_0nVg"
      },
      "source": [
        "maa1=[]\n",
        "maa2=[]\n",
        "for i in range(0,len(tops_match)):\n",
        "  if i == 0 or i/2 == i//2:\n",
        "    maa1.append(tops_match[i])\n",
        "  else:\n",
        "    maa2.append(tops_match[i])"
      ],
      "execution_count": 17,
      "outputs": []
    },
    {
      "cell_type": "code",
      "metadata": {
        "id": "4QpQyZqv6EuI"
      },
      "source": [
        "maa1=Match+maa1\n",
        "maa1=maa1[:10]"
      ],
      "execution_count": 18,
      "outputs": []
    },
    {
      "cell_type": "code",
      "metadata": {
        "colab": {
          "base_uri": "https://localhost:8080/"
        },
        "id": "A-WI45hufMNZ",
        "outputId": "6660b8c5-850b-4da8-c1ea-977e4b91e4d1"
      },
      "source": [
        "maa1"
      ],
      "execution_count": 19,
      "outputs": [
        {
          "output_type": "execute_result",
          "data": {
            "text/plain": [
              "['18', '24', '17', '20', '21', '12', '15', '5', '11', '2']"
            ]
          },
          "metadata": {
            "tags": []
          },
          "execution_count": 19
        }
      ]
    },
    {
      "cell_type": "code",
      "metadata": {
        "id": "UCXxbynZfOvb"
      },
      "source": [
        "top_ratings=soup.find_all('td',class_=\"rankings-block__banner--points\")"
      ],
      "execution_count": 20,
      "outputs": []
    },
    {
      "cell_type": "code",
      "metadata": {
        "id": "C3xIfvtGfOdR"
      },
      "source": [
        "top_ratings0=[]\n",
        "for i in top_ratings:\n",
        "  top_ratings0.append(i.text.replace(\"\\n\",\"\"))"
      ],
      "execution_count": 21,
      "outputs": []
    },
    {
      "cell_type": "code",
      "metadata": {
        "id": "r3131EMs6GTr"
      },
      "source": [
        "maa2=top_ratings0+maa2\n",
        "maa2=maa2[:10]"
      ],
      "execution_count": 22,
      "outputs": []
    },
    {
      "cell_type": "code",
      "metadata": {
        "colab": {
          "base_uri": "https://localhost:8080/"
        },
        "id": "fxMgx0xbf3hl",
        "outputId": "8c1404ba-6cb5-43c4-adf9-9ba191b0e0a6"
      },
      "source": [
        "maa2"
      ],
      "execution_count": 23,
      "outputs": [
        {
          "output_type": "execute_result",
          "data": {
            "text/plain": [
              "['2,955',\n",
              " '2,828',\n",
              " '1,993',\n",
              " '2,226',\n",
              " '1,947',\n",
              " '1,025',\n",
              " '1,101',\n",
              " '306',\n",
              " '519',\n",
              " '25']"
            ]
          },
          "metadata": {
            "tags": []
          },
          "execution_count": 23
        }
      ]
    },
    {
      "cell_type": "code",
      "metadata": {
        "id": "58sKKAkWgWxv"
      },
      "source": [
        "t_r=soup.find_all('td',class_=\"rankings-block__banner--rating u-text-right\")"
      ],
      "execution_count": 24,
      "outputs": []
    },
    {
      "cell_type": "code",
      "metadata": {
        "id": "5iJkc7BhgdBg"
      },
      "source": [
        "t_rs=[]\n",
        "for i in t_r:\n",
        "  t_rs.append(i.text.replace('\\n',''))"
      ],
      "execution_count": 25,
      "outputs": []
    },
    {
      "cell_type": "code",
      "metadata": {
        "colab": {
          "base_uri": "https://localhost:8080/"
        },
        "id": "bfIXFgalxZie",
        "outputId": "e4ed3297-03ee-4db2-82dd-d2411264d440"
      },
      "source": [
        "rating=soup.find_all('td',class_=\"table-body__cell u-text-right rating\")\n",
        "rating"
      ],
      "execution_count": 26,
      "outputs": [
        {
          "output_type": "execute_result",
          "data": {
            "text/plain": [
              "[<td class=\"table-body__cell u-text-right rating\">118</td>,\n",
              " <td class=\"table-body__cell u-text-right rating\">117</td>,\n",
              " <td class=\"table-body__cell u-text-right rating\">111</td>,\n",
              " <td class=\"table-body__cell u-text-right rating\">93</td>,\n",
              " <td class=\"table-body__cell u-text-right rating\">85</td>,\n",
              " <td class=\"table-body__cell u-text-right rating\">73</td>,\n",
              " <td class=\"table-body__cell u-text-right rating\">61</td>,\n",
              " <td class=\"table-body__cell u-text-right rating\">47</td>,\n",
              " <td class=\"table-body__cell u-text-right rating\">13</td>]"
            ]
          },
          "metadata": {
            "tags": []
          },
          "execution_count": 26
        }
      ]
    },
    {
      "cell_type": "code",
      "metadata": {
        "id": "8I8DRHhK7WhY"
      },
      "source": [
        "rating1=[]\n",
        "for i in rating:\n",
        "  rating1.append(i.text.replace('\\n\\n',''))"
      ],
      "execution_count": 27,
      "outputs": []
    },
    {
      "cell_type": "code",
      "metadata": {
        "id": "kLzzmX3c7d3i"
      },
      "source": [
        "rating1=t_rs+rating1\n",
        "rating1=rating1[:10]"
      ],
      "execution_count": 28,
      "outputs": []
    },
    {
      "cell_type": "code",
      "metadata": {
        "colab": {
          "base_uri": "https://localhost:8080/"
        },
        "id": "PVDQ5fAr_Tna",
        "outputId": "b97a7463-1b34-472c-fdc3-fada5d392632"
      },
      "source": [
        "rating1"
      ],
      "execution_count": 29,
      "outputs": [
        {
          "output_type": "execute_result",
          "data": {
            "text/plain": [
              "['                            164                            ',\n",
              " '118',\n",
              " '117',\n",
              " '111',\n",
              " '93',\n",
              " '85',\n",
              " '73',\n",
              " '61',\n",
              " '47',\n",
              " '13']"
            ]
          },
          "metadata": {
            "tags": []
          },
          "execution_count": 29
        }
      ]
    },
    {
      "cell_type": "code",
      "metadata": {
        "id": "QqHeJDfr7e5z"
      },
      "source": [
        "data=pd.DataFrame(Team_Name,columns=['Team_Name'])"
      ],
      "execution_count": 30,
      "outputs": []
    },
    {
      "cell_type": "code",
      "metadata": {
        "id": "S8CWI5Ib_ZWK"
      },
      "source": [
        "Ratings=pd.DataFrame(rating1,columns=['Ratings'])"
      ],
      "execution_count": 31,
      "outputs": []
    },
    {
      "cell_type": "code",
      "metadata": {
        "colab": {
          "base_uri": "https://localhost:8080/",
          "height": 359
        },
        "id": "6fTzz2eZ_j9N",
        "outputId": "6fdfb227-b864-446e-8778-abe159889d83"
      },
      "source": [
        "Ratings"
      ],
      "execution_count": 32,
      "outputs": [
        {
          "output_type": "execute_result",
          "data": {
            "text/html": [
              "<div>\n",
              "<style scoped>\n",
              "    .dataframe tbody tr th:only-of-type {\n",
              "        vertical-align: middle;\n",
              "    }\n",
              "\n",
              "    .dataframe tbody tr th {\n",
              "        vertical-align: top;\n",
              "    }\n",
              "\n",
              "    .dataframe thead th {\n",
              "        text-align: right;\n",
              "    }\n",
              "</style>\n",
              "<table border=\"1\" class=\"dataframe\">\n",
              "  <thead>\n",
              "    <tr style=\"text-align: right;\">\n",
              "      <th></th>\n",
              "      <th>Ratings</th>\n",
              "    </tr>\n",
              "  </thead>\n",
              "  <tbody>\n",
              "    <tr>\n",
              "      <th>0</th>\n",
              "      <td>164               ...</td>\n",
              "    </tr>\n",
              "    <tr>\n",
              "      <th>1</th>\n",
              "      <td>118</td>\n",
              "    </tr>\n",
              "    <tr>\n",
              "      <th>2</th>\n",
              "      <td>117</td>\n",
              "    </tr>\n",
              "    <tr>\n",
              "      <th>3</th>\n",
              "      <td>111</td>\n",
              "    </tr>\n",
              "    <tr>\n",
              "      <th>4</th>\n",
              "      <td>93</td>\n",
              "    </tr>\n",
              "    <tr>\n",
              "      <th>5</th>\n",
              "      <td>85</td>\n",
              "    </tr>\n",
              "    <tr>\n",
              "      <th>6</th>\n",
              "      <td>73</td>\n",
              "    </tr>\n",
              "    <tr>\n",
              "      <th>7</th>\n",
              "      <td>61</td>\n",
              "    </tr>\n",
              "    <tr>\n",
              "      <th>8</th>\n",
              "      <td>47</td>\n",
              "    </tr>\n",
              "    <tr>\n",
              "      <th>9</th>\n",
              "      <td>13</td>\n",
              "    </tr>\n",
              "  </tbody>\n",
              "</table>\n",
              "</div>"
            ],
            "text/plain": [
              "                                             Ratings\n",
              "0                              164               ...\n",
              "1                                                118\n",
              "2                                                117\n",
              "3                                                111\n",
              "4                                                 93\n",
              "5                                                 85\n",
              "6                                                 73\n",
              "7                                                 61\n",
              "8                                                 47\n",
              "9                                                 13"
            ]
          },
          "metadata": {
            "tags": []
          },
          "execution_count": 32
        }
      ]
    },
    {
      "cell_type": "code",
      "metadata": {
        "id": "PC00WwQL9mSL"
      },
      "source": [
        "data['Matches']=maa1"
      ],
      "execution_count": 33,
      "outputs": []
    },
    {
      "cell_type": "code",
      "metadata": {
        "id": "9BXQZIze9vVb"
      },
      "source": [
        "data['Points']=maa2"
      ],
      "execution_count": 34,
      "outputs": []
    },
    {
      "cell_type": "code",
      "metadata": {
        "id": "GtpsQIMd-QHJ"
      },
      "source": [
        "data=pd.concat([data,Ratings],axis=1)"
      ],
      "execution_count": 35,
      "outputs": []
    },
    {
      "cell_type": "markdown",
      "metadata": {
        "id": "RptEQ0mAcIdr"
      },
      "source": [
        "#Top 10 ODI teams in women’s cricket along with the records for matches, points and rating.\n"
      ]
    },
    {
      "cell_type": "code",
      "metadata": {
        "colab": {
          "base_uri": "https://localhost:8080/",
          "height": 359
        },
        "id": "mbm8rZGr-iY8",
        "outputId": "fe66ada8-5a3e-4eea-c323-ee113ad546f7"
      },
      "source": [
        "data"
      ],
      "execution_count": 36,
      "outputs": [
        {
          "output_type": "execute_result",
          "data": {
            "text/html": [
              "<div>\n",
              "<style scoped>\n",
              "    .dataframe tbody tr th:only-of-type {\n",
              "        vertical-align: middle;\n",
              "    }\n",
              "\n",
              "    .dataframe tbody tr th {\n",
              "        vertical-align: top;\n",
              "    }\n",
              "\n",
              "    .dataframe thead th {\n",
              "        text-align: right;\n",
              "    }\n",
              "</style>\n",
              "<table border=\"1\" class=\"dataframe\">\n",
              "  <thead>\n",
              "    <tr style=\"text-align: right;\">\n",
              "      <th></th>\n",
              "      <th>Team_Name</th>\n",
              "      <th>Matches</th>\n",
              "      <th>Points</th>\n",
              "      <th>Ratings</th>\n",
              "    </tr>\n",
              "  </thead>\n",
              "  <tbody>\n",
              "    <tr>\n",
              "      <th>0</th>\n",
              "      <td>Australia</td>\n",
              "      <td>18</td>\n",
              "      <td>2,955</td>\n",
              "      <td>164               ...</td>\n",
              "    </tr>\n",
              "    <tr>\n",
              "      <th>1</th>\n",
              "      <td>South Africa</td>\n",
              "      <td>24</td>\n",
              "      <td>2,828</td>\n",
              "      <td>118</td>\n",
              "    </tr>\n",
              "    <tr>\n",
              "      <th>2</th>\n",
              "      <td>England</td>\n",
              "      <td>17</td>\n",
              "      <td>1,993</td>\n",
              "      <td>117</td>\n",
              "    </tr>\n",
              "    <tr>\n",
              "      <th>3</th>\n",
              "      <td>India</td>\n",
              "      <td>20</td>\n",
              "      <td>2,226</td>\n",
              "      <td>111</td>\n",
              "    </tr>\n",
              "    <tr>\n",
              "      <th>4</th>\n",
              "      <td>New Zealand</td>\n",
              "      <td>21</td>\n",
              "      <td>1,947</td>\n",
              "      <td>93</td>\n",
              "    </tr>\n",
              "    <tr>\n",
              "      <th>5</th>\n",
              "      <td>West Indies</td>\n",
              "      <td>12</td>\n",
              "      <td>1,025</td>\n",
              "      <td>85</td>\n",
              "    </tr>\n",
              "    <tr>\n",
              "      <th>6</th>\n",
              "      <td>Pakistan</td>\n",
              "      <td>15</td>\n",
              "      <td>1,101</td>\n",
              "      <td>73</td>\n",
              "    </tr>\n",
              "    <tr>\n",
              "      <th>7</th>\n",
              "      <td>Bangladesh</td>\n",
              "      <td>5</td>\n",
              "      <td>306</td>\n",
              "      <td>61</td>\n",
              "    </tr>\n",
              "    <tr>\n",
              "      <th>8</th>\n",
              "      <td>Sri Lanka</td>\n",
              "      <td>11</td>\n",
              "      <td>519</td>\n",
              "      <td>47</td>\n",
              "    </tr>\n",
              "    <tr>\n",
              "      <th>9</th>\n",
              "      <td>Ireland</td>\n",
              "      <td>2</td>\n",
              "      <td>25</td>\n",
              "      <td>13</td>\n",
              "    </tr>\n",
              "  </tbody>\n",
              "</table>\n",
              "</div>"
            ],
            "text/plain": [
              "      Team_Name  ...                                            Ratings\n",
              "0     Australia  ...                              164               ...\n",
              "1  South Africa  ...                                                118\n",
              "2       England  ...                                                117\n",
              "3         India  ...                                                111\n",
              "4   New Zealand  ...                                                 93\n",
              "5   West Indies  ...                                                 85\n",
              "6      Pakistan  ...                                                 73\n",
              "7    Bangladesh  ...                                                 61\n",
              "8     Sri Lanka  ...                                                 47\n",
              "9       Ireland  ...                                                 13\n",
              "\n",
              "[10 rows x 4 columns]"
            ]
          },
          "metadata": {
            "tags": []
          },
          "execution_count": 36
        }
      ]
    },
    {
      "cell_type": "markdown",
      "metadata": {
        "id": "Aoc4hFKzCbSR"
      },
      "source": [
        "#Top 10 women’s ODI players along with the records of their team and rating."
      ]
    },
    {
      "cell_type": "code",
      "metadata": {
        "id": "59LHHwuICa2l"
      },
      "source": [
        "link1='https://www.icc-cricket.com/rankings/womens/player-rankings/odi/batting'"
      ],
      "execution_count": 37,
      "outputs": []
    },
    {
      "cell_type": "code",
      "metadata": {
        "colab": {
          "base_uri": "https://localhost:8080/"
        },
        "id": "gQRLwKZiD73N",
        "outputId": "16ac1494-2bb2-49bc-b6eb-f9a1a1c59b68"
      },
      "source": [
        "page1=requests.get(link1)\n",
        "page1"
      ],
      "execution_count": 38,
      "outputs": [
        {
          "output_type": "execute_result",
          "data": {
            "text/plain": [
              "<Response [200]>"
            ]
          },
          "metadata": {
            "tags": []
          },
          "execution_count": 38
        }
      ]
    },
    {
      "cell_type": "code",
      "metadata": {
        "id": "x5ZzcaruEB71"
      },
      "source": [
        "soup1=bs(page1.content,\"html.parser\")"
      ],
      "execution_count": 39,
      "outputs": []
    },
    {
      "cell_type": "code",
      "metadata": {
        "id": "0xDo9YrAES7e"
      },
      "source": [
        "Batsmen=soup1.find_all('td',class_=\"table-body__cell rankings-table__name name\")"
      ],
      "execution_count": 40,
      "outputs": []
    },
    {
      "cell_type": "code",
      "metadata": {
        "colab": {
          "base_uri": "https://localhost:8080/"
        },
        "id": "oCy6pITCXB1v",
        "outputId": "30c2ecaa-a78c-4faa-8e3a-24770df8a56c"
      },
      "source": [
        "bat=soup1.find_all('div',class_=\"rankings-block__banner--name-large\")\n",
        "bat"
      ],
      "execution_count": 41,
      "outputs": [
        {
          "output_type": "execute_result",
          "data": {
            "text/plain": [
              "[<div class=\"rankings-block__banner--name-large\">Tammy Beaumont</div>]"
            ]
          },
          "metadata": {
            "tags": []
          },
          "execution_count": 41
        }
      ]
    },
    {
      "cell_type": "code",
      "metadata": {
        "id": "2Tby8YjfXVtc"
      },
      "source": [
        "top_bat=[]\n",
        "for i in bat:\n",
        "  top_bat.append(i.text.replace(\"\\n\",\"\"))"
      ],
      "execution_count": 42,
      "outputs": []
    },
    {
      "cell_type": "code",
      "metadata": {
        "colab": {
          "base_uri": "https://localhost:8080/"
        },
        "id": "DmWulCyFX930",
        "outputId": "9fa91613-1075-4e1e-ae35-60651868d933"
      },
      "source": [
        "top_bat"
      ],
      "execution_count": 43,
      "outputs": [
        {
          "output_type": "execute_result",
          "data": {
            "text/plain": [
              "['Tammy Beaumont']"
            ]
          },
          "metadata": {
            "tags": []
          },
          "execution_count": 43
        }
      ]
    },
    {
      "cell_type": "code",
      "metadata": {
        "id": "4fKHf_QQEg_x"
      },
      "source": [
        "Batsmen_Name=[]\n",
        "for i in Batsmen:\n",
        "  Batsmen_Name.append(i.text.replace(\"\\n\",\"\"))"
      ],
      "execution_count": 44,
      "outputs": []
    },
    {
      "cell_type": "code",
      "metadata": {
        "id": "OUi5Ji2NIktF"
      },
      "source": [
        "Batsmen_Name=top_bat+Batsmen_Name"
      ],
      "execution_count": 45,
      "outputs": []
    },
    {
      "cell_type": "code",
      "metadata": {
        "colab": {
          "base_uri": "https://localhost:8080/"
        },
        "id": "EAw0GjkrExUg",
        "outputId": "03f518f9-5cf0-4813-e596-64c3731f4d82"
      },
      "source": [
        "Batsmen_Names=Batsmen_Name[:10]\n",
        "Batsmen_Names"
      ],
      "execution_count": 46,
      "outputs": [
        {
          "output_type": "execute_result",
          "data": {
            "text/plain": [
              "['Tammy Beaumont',\n",
              " 'Lizelle Lee',\n",
              " 'Alyssa Healy',\n",
              " 'Stafanie Taylor',\n",
              " 'Meg Lanning',\n",
              " 'Amy Satterthwaite',\n",
              " 'Smriti Mandhana',\n",
              " 'Mithali Raj',\n",
              " 'Natalie Sciver',\n",
              " 'Laura Wolvaardt']"
            ]
          },
          "metadata": {
            "tags": []
          },
          "execution_count": 46
        }
      ]
    },
    {
      "cell_type": "code",
      "metadata": {
        "id": "QZhWNpedZPF8"
      },
      "source": [
        "to_te=soup1.find_all('div',class_=\"rankings-block__banner--nationality\")"
      ],
      "execution_count": 47,
      "outputs": []
    },
    {
      "cell_type": "code",
      "metadata": {
        "id": "I22zX39CZeRU"
      },
      "source": [
        "to_team=[]\n",
        "for i in to_te:\n",
        "  to_team.append(i.text.replace(\"\\n\",\"\"))"
      ],
      "execution_count": 48,
      "outputs": []
    },
    {
      "cell_type": "code",
      "metadata": {
        "id": "OF6ilSLNEyjp"
      },
      "source": [
        "Te=soup1.find_all('span',class_=\"table-body__logo-text\")"
      ],
      "execution_count": 49,
      "outputs": []
    },
    {
      "cell_type": "code",
      "metadata": {
        "id": "Pe5uRy7xFdZ7"
      },
      "source": [
        "Team=[]\n",
        "for i in Te:\n",
        "  Team.append(i.text.replace(\"\\n\",\"\"))"
      ],
      "execution_count": 50,
      "outputs": []
    },
    {
      "cell_type": "code",
      "metadata": {
        "colab": {
          "base_uri": "https://localhost:8080/"
        },
        "id": "AOaaz2vgFp-d",
        "outputId": "ffb3d28a-6675-4e1b-f89c-6562e9f0727c"
      },
      "source": [
        "Team=to_team+Team\n",
        "Teams=Team[:10]\n",
        "Teams"
      ],
      "execution_count": 51,
      "outputs": [
        {
          "output_type": "execute_result",
          "data": {
            "text/plain": [
              "['ENG', 'SA', 'AUS', 'WI', 'AUS', 'NZ', 'IND', 'IND', 'ENG', 'SA']"
            ]
          },
          "metadata": {
            "tags": []
          },
          "execution_count": 51
        }
      ]
    },
    {
      "cell_type": "code",
      "metadata": {
        "id": "2nDE2hJOaC_Y"
      },
      "source": [
        "top_re=soup1.find_all('div',class_=\"rankings-block__banner--rating\")"
      ],
      "execution_count": 52,
      "outputs": []
    },
    {
      "cell_type": "code",
      "metadata": {
        "id": "M1hL1ND4aOOf"
      },
      "source": [
        "top_rat=[]\n",
        "for i in top_re:\n",
        "  top_rat.append(i.text.replace(\"\\n\",\"\"))"
      ],
      "execution_count": 53,
      "outputs": []
    },
    {
      "cell_type": "code",
      "metadata": {
        "id": "qoC2apMmFq1v"
      },
      "source": [
        "Ra=soup1.find_all('td',class_=\"table-body__cell rating\")"
      ],
      "execution_count": 54,
      "outputs": []
    },
    {
      "cell_type": "code",
      "metadata": {
        "id": "_S6mQ-Y6F_YZ"
      },
      "source": [
        "Rating=[]\n",
        "for i in Ra:\n",
        "  Rating.append(i.text.replace(\"\\n\",\"\"))"
      ],
      "execution_count": 55,
      "outputs": []
    },
    {
      "cell_type": "code",
      "metadata": {
        "colab": {
          "base_uri": "https://localhost:8080/"
        },
        "id": "SoXFXhT1GMmp",
        "outputId": "f8ec58ea-dd93-4bb6-d59c-1379ed15392b"
      },
      "source": [
        "Rating=top_rat+Rating\n",
        "Ratings=Rating[:10]\n",
        "Ratings"
      ],
      "execution_count": 56,
      "outputs": [
        {
          "output_type": "execute_result",
          "data": {
            "text/plain": [
              "['765', '758', '756', '746', '723', '715', '710', '709', '685', '683']"
            ]
          },
          "metadata": {
            "tags": []
          },
          "execution_count": 56
        }
      ]
    },
    {
      "cell_type": "code",
      "metadata": {
        "id": "I495AUXRGT4K"
      },
      "source": [
        "Batsmen=pd.DataFrame(Batsmen_Names,columns=['Batsmen_Name'])"
      ],
      "execution_count": 57,
      "outputs": []
    },
    {
      "cell_type": "code",
      "metadata": {
        "id": "SUSRmlc4Gr6k"
      },
      "source": [
        "Batsmen['Team']=Teams"
      ],
      "execution_count": 58,
      "outputs": []
    },
    {
      "cell_type": "code",
      "metadata": {
        "id": "kiEC-3Q6GwAl"
      },
      "source": [
        "Batsmen['Rating']=Ratings"
      ],
      "execution_count": 59,
      "outputs": []
    },
    {
      "cell_type": "markdown",
      "metadata": {
        "id": "w_1hpCOpbZW_"
      },
      "source": [
        "#Top 10 women’s ODI  Batting Rankings."
      ]
    },
    {
      "cell_type": "code",
      "metadata": {
        "colab": {
          "base_uri": "https://localhost:8080/",
          "height": 359
        },
        "id": "BRem3XWzG0VR",
        "outputId": "b1089ffb-da04-4b15-eaf6-e9ff48972e65"
      },
      "source": [
        "Batsmen"
      ],
      "execution_count": 60,
      "outputs": [
        {
          "output_type": "execute_result",
          "data": {
            "text/html": [
              "<div>\n",
              "<style scoped>\n",
              "    .dataframe tbody tr th:only-of-type {\n",
              "        vertical-align: middle;\n",
              "    }\n",
              "\n",
              "    .dataframe tbody tr th {\n",
              "        vertical-align: top;\n",
              "    }\n",
              "\n",
              "    .dataframe thead th {\n",
              "        text-align: right;\n",
              "    }\n",
              "</style>\n",
              "<table border=\"1\" class=\"dataframe\">\n",
              "  <thead>\n",
              "    <tr style=\"text-align: right;\">\n",
              "      <th></th>\n",
              "      <th>Batsmen_Name</th>\n",
              "      <th>Team</th>\n",
              "      <th>Rating</th>\n",
              "    </tr>\n",
              "  </thead>\n",
              "  <tbody>\n",
              "    <tr>\n",
              "      <th>0</th>\n",
              "      <td>Tammy Beaumont</td>\n",
              "      <td>ENG</td>\n",
              "      <td>765</td>\n",
              "    </tr>\n",
              "    <tr>\n",
              "      <th>1</th>\n",
              "      <td>Lizelle Lee</td>\n",
              "      <td>SA</td>\n",
              "      <td>758</td>\n",
              "    </tr>\n",
              "    <tr>\n",
              "      <th>2</th>\n",
              "      <td>Alyssa Healy</td>\n",
              "      <td>AUS</td>\n",
              "      <td>756</td>\n",
              "    </tr>\n",
              "    <tr>\n",
              "      <th>3</th>\n",
              "      <td>Stafanie Taylor</td>\n",
              "      <td>WI</td>\n",
              "      <td>746</td>\n",
              "    </tr>\n",
              "    <tr>\n",
              "      <th>4</th>\n",
              "      <td>Meg Lanning</td>\n",
              "      <td>AUS</td>\n",
              "      <td>723</td>\n",
              "    </tr>\n",
              "    <tr>\n",
              "      <th>5</th>\n",
              "      <td>Amy Satterthwaite</td>\n",
              "      <td>NZ</td>\n",
              "      <td>715</td>\n",
              "    </tr>\n",
              "    <tr>\n",
              "      <th>6</th>\n",
              "      <td>Smriti Mandhana</td>\n",
              "      <td>IND</td>\n",
              "      <td>710</td>\n",
              "    </tr>\n",
              "    <tr>\n",
              "      <th>7</th>\n",
              "      <td>Mithali Raj</td>\n",
              "      <td>IND</td>\n",
              "      <td>709</td>\n",
              "    </tr>\n",
              "    <tr>\n",
              "      <th>8</th>\n",
              "      <td>Natalie Sciver</td>\n",
              "      <td>ENG</td>\n",
              "      <td>685</td>\n",
              "    </tr>\n",
              "    <tr>\n",
              "      <th>9</th>\n",
              "      <td>Laura Wolvaardt</td>\n",
              "      <td>SA</td>\n",
              "      <td>683</td>\n",
              "    </tr>\n",
              "  </tbody>\n",
              "</table>\n",
              "</div>"
            ],
            "text/plain": [
              "        Batsmen_Name Team Rating\n",
              "0     Tammy Beaumont  ENG    765\n",
              "1        Lizelle Lee   SA    758\n",
              "2       Alyssa Healy  AUS    756\n",
              "3    Stafanie Taylor   WI    746\n",
              "4        Meg Lanning  AUS    723\n",
              "5  Amy Satterthwaite   NZ    715\n",
              "6    Smriti Mandhana  IND    710\n",
              "7        Mithali Raj  IND    709\n",
              "8     Natalie Sciver  ENG    685\n",
              "9    Laura Wolvaardt   SA    683"
            ]
          },
          "metadata": {
            "tags": []
          },
          "execution_count": 60
        }
      ]
    },
    {
      "cell_type": "code",
      "metadata": {
        "colab": {
          "base_uri": "https://localhost:8080/"
        },
        "id": "rnXaWtiJN99K",
        "outputId": "ae22996b-fb7b-4b37-cf86-9fb2defb16ab"
      },
      "source": [
        "link2='https://www.icc-cricket.com/rankings/womens/player-rankings/odi/bowling'\n",
        "page2=requests.get(link2)\n",
        "page2"
      ],
      "execution_count": 61,
      "outputs": [
        {
          "output_type": "execute_result",
          "data": {
            "text/plain": [
              "<Response [200]>"
            ]
          },
          "metadata": {
            "tags": []
          },
          "execution_count": 61
        }
      ]
    },
    {
      "cell_type": "code",
      "metadata": {
        "id": "RxVCqJn7N3V1"
      },
      "source": [
        "soup2=bs(page2.content,'html.parser')"
      ],
      "execution_count": 62,
      "outputs": []
    },
    {
      "cell_type": "code",
      "metadata": {
        "id": "7b7lsA7TN4DW"
      },
      "source": [
        "bowers0=soup2.find_all('td',class_=\"table-body__cell rankings-table__name name\")"
      ],
      "execution_count": 63,
      "outputs": []
    },
    {
      "cell_type": "code",
      "metadata": {
        "id": "0cLbg5L5Olx3"
      },
      "source": [
        "bb_name=[]\n",
        "for i in bowers0:\n",
        "  bb_name.append(i.text.replace(\"\\n\",\"\"))"
      ],
      "execution_count": 64,
      "outputs": []
    },
    {
      "cell_type": "code",
      "metadata": {
        "id": "I4ulEV1NO70W"
      },
      "source": [
        "top=soup2.find_all('div',class_=\"rankings-block__banner--name-large\")"
      ],
      "execution_count": 65,
      "outputs": []
    },
    {
      "cell_type": "code",
      "metadata": {
        "id": "blsfhIT0PE0U"
      },
      "source": [
        "tops=[]\n",
        "for i in top:\n",
        "  tops.append(i.text.replace(\"\\n\",\"\"))"
      ],
      "execution_count": 66,
      "outputs": []
    },
    {
      "cell_type": "code",
      "metadata": {
        "colab": {
          "base_uri": "https://localhost:8080/"
        },
        "id": "pVY1kfkpPN9g",
        "outputId": "b3785b23-acc9-4c4c-f19b-d352a61d12f6"
      },
      "source": [
        "tops"
      ],
      "execution_count": 67,
      "outputs": [
        {
          "output_type": "execute_result",
          "data": {
            "text/plain": [
              "['Jess Jonassen']"
            ]
          },
          "metadata": {
            "tags": []
          },
          "execution_count": 67
        }
      ]
    },
    {
      "cell_type": "code",
      "metadata": {
        "id": "QFuJsZYXOvb7"
      },
      "source": [
        "top_bowlers=tops+bb_name"
      ],
      "execution_count": 68,
      "outputs": []
    },
    {
      "cell_type": "code",
      "metadata": {
        "id": "YJ-7f8pzOwvF"
      },
      "source": [
        "top_rat=soup2.find_all('div',class_=\"rankings-block__banner--rating\")"
      ],
      "execution_count": 69,
      "outputs": []
    },
    {
      "cell_type": "code",
      "metadata": {
        "id": "4TXSdyvxSine"
      },
      "source": [
        "top_rats=[]\n",
        "for i in top_rat:\n",
        "  top_rats.append(i.text.replace(\"\\n\",\"\"))"
      ],
      "execution_count": 70,
      "outputs": []
    },
    {
      "cell_type": "code",
      "metadata": {
        "colab": {
          "base_uri": "https://localhost:8080/"
        },
        "id": "7NoPFpZcSzZO",
        "outputId": "97c767cc-d09c-4683-9f4b-f7209a4bd7fa"
      },
      "source": [
        "top_rats"
      ],
      "execution_count": 71,
      "outputs": [
        {
          "output_type": "execute_result",
          "data": {
            "text/plain": [
              "['808']"
            ]
          },
          "metadata": {
            "tags": []
          },
          "execution_count": 71
        }
      ]
    },
    {
      "cell_type": "code",
      "metadata": {
        "id": "DMlkznhwS1A3"
      },
      "source": [
        "bower_rating=soup2.find_all('td',class_=\"table-body__cell rating\")"
      ],
      "execution_count": 72,
      "outputs": []
    },
    {
      "cell_type": "code",
      "metadata": {
        "id": "hyJ0eLdrTCtG"
      },
      "source": [
        "bower_ratings=[]\n",
        "for i in bower_rating:\n",
        "  bower_ratings.append(i.text.replace(\"\\n\",\"\"))"
      ],
      "execution_count": 73,
      "outputs": []
    },
    {
      "cell_type": "code",
      "metadata": {
        "id": "RDn38PLQTgYb"
      },
      "source": [
        "total_rating=top_rats+bower_ratings"
      ],
      "execution_count": 74,
      "outputs": []
    },
    {
      "cell_type": "code",
      "metadata": {
        "id": "uq1CkBB1Txc5"
      },
      "source": [
        "top_t=soup2.find_all('div',class_=\"rankings-block__banner--nationality\")"
      ],
      "execution_count": 75,
      "outputs": []
    },
    {
      "cell_type": "code",
      "metadata": {
        "id": "yNKC-FUNUGpd"
      },
      "source": [
        "top_te=[]\n",
        "for i in top_t:\n",
        "  top_te.append(i.text.replace(\"\\n\",\"\"))"
      ],
      "execution_count": 76,
      "outputs": []
    },
    {
      "cell_type": "code",
      "metadata": {
        "colab": {
          "base_uri": "https://localhost:8080/"
        },
        "id": "ovCutYULUT3i",
        "outputId": "e25d5067-1e00-49b2-96f9-81a60ca34231"
      },
      "source": [
        "top_te"
      ],
      "execution_count": 77,
      "outputs": [
        {
          "output_type": "execute_result",
          "data": {
            "text/plain": [
              "['AUS']"
            ]
          },
          "metadata": {
            "tags": []
          },
          "execution_count": 77
        }
      ]
    },
    {
      "cell_type": "code",
      "metadata": {
        "id": "29Q4eyO-UU6E"
      },
      "source": [
        "bowler_rat=soup2.find_all('span',class_=\"table-body__logo-text\")"
      ],
      "execution_count": 78,
      "outputs": []
    },
    {
      "cell_type": "code",
      "metadata": {
        "id": "7RHIgPxBUhC9"
      },
      "source": [
        "bow_teams=[]\n",
        "for i in bowler_rat:\n",
        "  bow_teams.append(i.text.replace(\"\\n\",\"\"))"
      ],
      "execution_count": 79,
      "outputs": []
    },
    {
      "cell_type": "code",
      "metadata": {
        "id": "YsNKI0lsUynh"
      },
      "source": [
        "total_team=top_te+bow_teams"
      ],
      "execution_count": 80,
      "outputs": []
    },
    {
      "cell_type": "code",
      "metadata": {
        "id": "uXvlvcidU_ss"
      },
      "source": [
        "data_bowler=pd.DataFrame(top_bowlers,columns=['Bowlers'])"
      ],
      "execution_count": 81,
      "outputs": []
    },
    {
      "cell_type": "code",
      "metadata": {
        "id": "UVy9khqyWQmJ"
      },
      "source": [
        "data_bowler['Team']=total_team"
      ],
      "execution_count": 82,
      "outputs": []
    },
    {
      "cell_type": "code",
      "metadata": {
        "id": "XRk25gwoWZ5F"
      },
      "source": [
        "data_bowler['Ratings']=total_rating"
      ],
      "execution_count": 83,
      "outputs": []
    },
    {
      "cell_type": "markdown",
      "metadata": {
        "id": "vVqG-JH5bn1a"
      },
      "source": [
        "#Top 10 women’s ODI Bowling Rankings"
      ]
    },
    {
      "cell_type": "code",
      "metadata": {
        "colab": {
          "base_uri": "https://localhost:8080/",
          "height": 359
        },
        "id": "zEvw57bSVt_8",
        "outputId": "626a97b7-16ab-43c5-e6e2-a1d8c3a9b3fe"
      },
      "source": [
        "data_bowler.head(10)"
      ],
      "execution_count": 84,
      "outputs": [
        {
          "output_type": "execute_result",
          "data": {
            "text/html": [
              "<div>\n",
              "<style scoped>\n",
              "    .dataframe tbody tr th:only-of-type {\n",
              "        vertical-align: middle;\n",
              "    }\n",
              "\n",
              "    .dataframe tbody tr th {\n",
              "        vertical-align: top;\n",
              "    }\n",
              "\n",
              "    .dataframe thead th {\n",
              "        text-align: right;\n",
              "    }\n",
              "</style>\n",
              "<table border=\"1\" class=\"dataframe\">\n",
              "  <thead>\n",
              "    <tr style=\"text-align: right;\">\n",
              "      <th></th>\n",
              "      <th>Bowlers</th>\n",
              "      <th>Team</th>\n",
              "      <th>Ratings</th>\n",
              "    </tr>\n",
              "  </thead>\n",
              "  <tbody>\n",
              "    <tr>\n",
              "      <th>0</th>\n",
              "      <td>Jess Jonassen</td>\n",
              "      <td>AUS</td>\n",
              "      <td>808</td>\n",
              "    </tr>\n",
              "    <tr>\n",
              "      <th>1</th>\n",
              "      <td>Megan Schutt</td>\n",
              "      <td>AUS</td>\n",
              "      <td>762</td>\n",
              "    </tr>\n",
              "    <tr>\n",
              "      <th>2</th>\n",
              "      <td>Marizanne Kapp</td>\n",
              "      <td>SA</td>\n",
              "      <td>747</td>\n",
              "    </tr>\n",
              "    <tr>\n",
              "      <th>3</th>\n",
              "      <td>Shabnim Ismail</td>\n",
              "      <td>SA</td>\n",
              "      <td>717</td>\n",
              "    </tr>\n",
              "    <tr>\n",
              "      <th>4</th>\n",
              "      <td>Jhulan Goswami</td>\n",
              "      <td>IND</td>\n",
              "      <td>681</td>\n",
              "    </tr>\n",
              "    <tr>\n",
              "      <th>5</th>\n",
              "      <td>Katherine Brunt</td>\n",
              "      <td>ENG</td>\n",
              "      <td>655</td>\n",
              "    </tr>\n",
              "    <tr>\n",
              "      <th>6</th>\n",
              "      <td>Poonam Yadav</td>\n",
              "      <td>IND</td>\n",
              "      <td>641</td>\n",
              "    </tr>\n",
              "    <tr>\n",
              "      <th>7</th>\n",
              "      <td>Ayabonga Khaka</td>\n",
              "      <td>SA</td>\n",
              "      <td>638</td>\n",
              "    </tr>\n",
              "    <tr>\n",
              "      <th>8</th>\n",
              "      <td>Ellyse Perry</td>\n",
              "      <td>AUS</td>\n",
              "      <td>616</td>\n",
              "    </tr>\n",
              "    <tr>\n",
              "      <th>9</th>\n",
              "      <td>Shikha Pandey</td>\n",
              "      <td>IND</td>\n",
              "      <td>610</td>\n",
              "    </tr>\n",
              "  </tbody>\n",
              "</table>\n",
              "</div>"
            ],
            "text/plain": [
              "           Bowlers Team Ratings\n",
              "0    Jess Jonassen  AUS     808\n",
              "1     Megan Schutt  AUS     762\n",
              "2   Marizanne Kapp   SA     747\n",
              "3   Shabnim Ismail   SA     717\n",
              "4   Jhulan Goswami  IND     681\n",
              "5  Katherine Brunt  ENG     655\n",
              "6     Poonam Yadav  IND     641\n",
              "7   Ayabonga Khaka   SA     638\n",
              "8     Ellyse Perry  AUS     616\n",
              "9    Shikha Pandey  IND     610"
            ]
          },
          "metadata": {
            "tags": []
          },
          "execution_count": 84
        }
      ]
    },
    {
      "cell_type": "markdown",
      "metadata": {
        "id": "BYRJygCN87GG"
      },
      "source": [
        "#Q-3 all rounder"
      ]
    },
    {
      "cell_type": "code",
      "metadata": {
        "colab": {
          "base_uri": "https://localhost:8080/"
        },
        "id": "X01eZJbO7ArY",
        "outputId": "ee98a8b8-729b-495d-8081-eee16468c147"
      },
      "source": [
        "link3='https://www.icc-cricket.com/rankings/womens/player-rankings/odi/all-rounder'\n",
        "page3=requests.get(link3)\n",
        "page3"
      ],
      "execution_count": 85,
      "outputs": [
        {
          "output_type": "execute_result",
          "data": {
            "text/plain": [
              "<Response [200]>"
            ]
          },
          "metadata": {
            "tags": []
          },
          "execution_count": 85
        }
      ]
    },
    {
      "cell_type": "code",
      "metadata": {
        "id": "bHjrwcJL9IAa"
      },
      "source": [
        "soup3=bs(page3.content,'html.parser')"
      ],
      "execution_count": 86,
      "outputs": []
    },
    {
      "cell_type": "code",
      "metadata": {
        "id": "xExBwKaZ9L6P"
      },
      "source": [
        "all=soup3.find_all('td',class_=\"table-body__cell rankings-table__name name\")"
      ],
      "execution_count": 87,
      "outputs": []
    },
    {
      "cell_type": "code",
      "metadata": {
        "id": "YPpJbFr89VX5"
      },
      "source": [
        "all_name=[]\n",
        "for i in all:\n",
        "  all_name.append(i.text.replace(\"\\n\",\"\"))"
      ],
      "execution_count": 88,
      "outputs": []
    },
    {
      "cell_type": "code",
      "metadata": {
        "id": "IMMUuxS_9ZfB"
      },
      "source": [
        "top_all=soup3.find_all('div',class_=\"rankings-block__banner--name-large\")"
      ],
      "execution_count": 89,
      "outputs": []
    },
    {
      "cell_type": "code",
      "metadata": {
        "id": "sWDcOSTp9dKA"
      },
      "source": [
        "tops_all=[]\n",
        "for i in top_all:\n",
        "  tops_all.append(i.text.replace(\"\\n\",\"\"))"
      ],
      "execution_count": 90,
      "outputs": []
    },
    {
      "cell_type": "code",
      "metadata": {
        "colab": {
          "base_uri": "https://localhost:8080/"
        },
        "id": "ChMki3zW9g-y",
        "outputId": "2bef94a5-35d0-4688-cf3c-25de7606a9be"
      },
      "source": [
        "tops_all"
      ],
      "execution_count": 91,
      "outputs": [
        {
          "output_type": "execute_result",
          "data": {
            "text/plain": [
              "['Marizanne Kapp']"
            ]
          },
          "metadata": {
            "tags": []
          },
          "execution_count": 91
        }
      ]
    },
    {
      "cell_type": "code",
      "metadata": {
        "colab": {
          "base_uri": "https://localhost:8080/"
        },
        "id": "Otp_I5-L9kty",
        "outputId": "698a5c06-ddfd-4cd5-97e2-a33c44100f10"
      },
      "source": [
        "top_all=tops_all+all_name\n",
        "top_all=top_all[:10]\n",
        "top_all"
      ],
      "execution_count": 92,
      "outputs": [
        {
          "output_type": "execute_result",
          "data": {
            "text/plain": [
              "['Marizanne Kapp',\n",
              " 'Ellyse Perry',\n",
              " 'Stafanie Taylor',\n",
              " 'Natalie Sciver',\n",
              " 'Deepti Sharma',\n",
              " 'Jess Jonassen',\n",
              " 'Ashleigh Gardner',\n",
              " 'Dane van Niekerk',\n",
              " 'Sophie Devine',\n",
              " 'Amelia Kerr']"
            ]
          },
          "metadata": {
            "tags": []
          },
          "execution_count": 92
        }
      ]
    },
    {
      "cell_type": "code",
      "metadata": {
        "id": "HSCMfOSp9n7I"
      },
      "source": [
        "top_all_rat=soup3.find_all('div',class_=\"rankings-block__banner--rating\")"
      ],
      "execution_count": 93,
      "outputs": []
    },
    {
      "cell_type": "code",
      "metadata": {
        "id": "KpOSTR329q72"
      },
      "source": [
        "top_all_rats=[]\n",
        "for i in top_all_rat:\n",
        "  top_all_rats.append(i.text.replace(\"\\n\",\"\"))"
      ],
      "execution_count": 94,
      "outputs": []
    },
    {
      "cell_type": "code",
      "metadata": {
        "colab": {
          "base_uri": "https://localhost:8080/"
        },
        "id": "t3ViQaXy9vUW",
        "outputId": "ce9ecbf2-7fc2-4e29-bac5-66f2ccae0fb8"
      },
      "source": [
        "top_all_rats"
      ],
      "execution_count": 95,
      "outputs": [
        {
          "output_type": "execute_result",
          "data": {
            "text/plain": [
              "['418']"
            ]
          },
          "metadata": {
            "tags": []
          },
          "execution_count": 95
        }
      ]
    },
    {
      "cell_type": "code",
      "metadata": {
        "id": "4r7Zkqqd9u_5"
      },
      "source": [
        "all_round_rating=soup3.find_all('td',class_=\"table-body__cell rating\")"
      ],
      "execution_count": 96,
      "outputs": []
    },
    {
      "cell_type": "code",
      "metadata": {
        "id": "25LavBl191Wr"
      },
      "source": [
        "all_ratings=[]\n",
        "for i in all_round_rating:\n",
        "  all_ratings.append(i.text.replace(\"\\n\",\"\"))"
      ],
      "execution_count": 97,
      "outputs": []
    },
    {
      "cell_type": "code",
      "metadata": {
        "id": "WFt0j_zU95T6"
      },
      "source": [
        "all_ratings=top_all_rats+all_ratings\n",
        "all_ratings=all_ratings[:10]"
      ],
      "execution_count": 98,
      "outputs": []
    },
    {
      "cell_type": "code",
      "metadata": {
        "id": "hBO3DxmD988B"
      },
      "source": [
        "all_team=soup3.find_all('div',class_=\"rankings-block__banner--nationality\")"
      ],
      "execution_count": 99,
      "outputs": []
    },
    {
      "cell_type": "code",
      "metadata": {
        "id": "uYsIqsuu-AEU"
      },
      "source": [
        "all_te=[]\n",
        "for i in all_team:\n",
        "  all_te.append(i.text.replace(\"\\n\",\"\"))"
      ],
      "execution_count": 100,
      "outputs": []
    },
    {
      "cell_type": "code",
      "metadata": {
        "colab": {
          "base_uri": "https://localhost:8080/"
        },
        "id": "nuh8yK_A-Dnq",
        "outputId": "fcda4684-41a6-4c6b-c329-256939d878ff"
      },
      "source": [
        "all_te"
      ],
      "execution_count": 101,
      "outputs": [
        {
          "output_type": "execute_result",
          "data": {
            "text/plain": [
              "['SA']"
            ]
          },
          "metadata": {
            "tags": []
          },
          "execution_count": 101
        }
      ]
    },
    {
      "cell_type": "code",
      "metadata": {
        "id": "TJv5xsM0-DeY"
      },
      "source": [
        "all_team=soup3.find_all('span',class_=\"table-body__logo-text\")"
      ],
      "execution_count": 102,
      "outputs": []
    },
    {
      "cell_type": "code",
      "metadata": {
        "id": "JdA__03P-I8_"
      },
      "source": [
        "all_teams=[]\n",
        "for i in all_team:\n",
        "  all_teams.append(i.text.replace(\"\\n\",\"\"))"
      ],
      "execution_count": 103,
      "outputs": []
    },
    {
      "cell_type": "code",
      "metadata": {
        "id": "wP21qMsU-MIB"
      },
      "source": [
        "all_teams=all_te+all_teams\n",
        "all_teams=all_teams[:10]"
      ],
      "execution_count": 104,
      "outputs": []
    },
    {
      "cell_type": "code",
      "metadata": {
        "id": "GK33A_wv-Ph_"
      },
      "source": [
        "all_rounder=pd.DataFrame(top_all,columns=['Player'])"
      ],
      "execution_count": 105,
      "outputs": []
    },
    {
      "cell_type": "code",
      "metadata": {
        "id": "nD4bt0fx-Sc_"
      },
      "source": [
        "all_rounder['Team']=all_teams"
      ],
      "execution_count": 106,
      "outputs": []
    },
    {
      "cell_type": "code",
      "metadata": {
        "id": "NnPsQ5XM-VaL"
      },
      "source": [
        "all_rounder['Ratings']=all_ratings"
      ],
      "execution_count": 107,
      "outputs": []
    },
    {
      "cell_type": "markdown",
      "metadata": {
        "id": "XZ0pVUM1FvbB"
      },
      "source": [
        "#Top 10 women’s ODI all-rounder along with the records of their team and rating"
      ]
    },
    {
      "cell_type": "code",
      "metadata": {
        "colab": {
          "base_uri": "https://localhost:8080/",
          "height": 359
        },
        "id": "ybrThVw_-Y1C",
        "outputId": "ec4f8afb-cf38-493a-b813-a7699f13b466"
      },
      "source": [
        "all_rounder.head(10)"
      ],
      "execution_count": 108,
      "outputs": [
        {
          "output_type": "execute_result",
          "data": {
            "text/html": [
              "<div>\n",
              "<style scoped>\n",
              "    .dataframe tbody tr th:only-of-type {\n",
              "        vertical-align: middle;\n",
              "    }\n",
              "\n",
              "    .dataframe tbody tr th {\n",
              "        vertical-align: top;\n",
              "    }\n",
              "\n",
              "    .dataframe thead th {\n",
              "        text-align: right;\n",
              "    }\n",
              "</style>\n",
              "<table border=\"1\" class=\"dataframe\">\n",
              "  <thead>\n",
              "    <tr style=\"text-align: right;\">\n",
              "      <th></th>\n",
              "      <th>Player</th>\n",
              "      <th>Team</th>\n",
              "      <th>Ratings</th>\n",
              "    </tr>\n",
              "  </thead>\n",
              "  <tbody>\n",
              "    <tr>\n",
              "      <th>0</th>\n",
              "      <td>Marizanne Kapp</td>\n",
              "      <td>SA</td>\n",
              "      <td>418</td>\n",
              "    </tr>\n",
              "    <tr>\n",
              "      <th>1</th>\n",
              "      <td>Ellyse Perry</td>\n",
              "      <td>AUS</td>\n",
              "      <td>418</td>\n",
              "    </tr>\n",
              "    <tr>\n",
              "      <th>2</th>\n",
              "      <td>Stafanie Taylor</td>\n",
              "      <td>WI</td>\n",
              "      <td>410</td>\n",
              "    </tr>\n",
              "    <tr>\n",
              "      <th>3</th>\n",
              "      <td>Natalie Sciver</td>\n",
              "      <td>ENG</td>\n",
              "      <td>349</td>\n",
              "    </tr>\n",
              "    <tr>\n",
              "      <th>4</th>\n",
              "      <td>Deepti Sharma</td>\n",
              "      <td>IND</td>\n",
              "      <td>343</td>\n",
              "    </tr>\n",
              "    <tr>\n",
              "      <th>5</th>\n",
              "      <td>Jess Jonassen</td>\n",
              "      <td>AUS</td>\n",
              "      <td>307</td>\n",
              "    </tr>\n",
              "    <tr>\n",
              "      <th>6</th>\n",
              "      <td>Ashleigh Gardner</td>\n",
              "      <td>AUS</td>\n",
              "      <td>252</td>\n",
              "    </tr>\n",
              "    <tr>\n",
              "      <th>7</th>\n",
              "      <td>Dane van Niekerk</td>\n",
              "      <td>SA</td>\n",
              "      <td>243</td>\n",
              "    </tr>\n",
              "    <tr>\n",
              "      <th>8</th>\n",
              "      <td>Sophie Devine</td>\n",
              "      <td>NZ</td>\n",
              "      <td>242</td>\n",
              "    </tr>\n",
              "    <tr>\n",
              "      <th>9</th>\n",
              "      <td>Amelia Kerr</td>\n",
              "      <td>NZ</td>\n",
              "      <td>236</td>\n",
              "    </tr>\n",
              "  </tbody>\n",
              "</table>\n",
              "</div>"
            ],
            "text/plain": [
              "             Player Team Ratings\n",
              "0    Marizanne Kapp   SA     418\n",
              "1      Ellyse Perry  AUS     418\n",
              "2   Stafanie Taylor   WI     410\n",
              "3    Natalie Sciver  ENG     349\n",
              "4     Deepti Sharma  IND     343\n",
              "5     Jess Jonassen  AUS     307\n",
              "6  Ashleigh Gardner  AUS     252\n",
              "7  Dane van Niekerk   SA     243\n",
              "8     Sophie Devine   NZ     242\n",
              "9       Amelia Kerr   NZ     236"
            ]
          },
          "metadata": {
            "tags": []
          },
          "execution_count": 108
        }
      ]
    }
  ]
}
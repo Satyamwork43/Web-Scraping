{
  "nbformat": 4,
  "nbformat_minor": 0,
  "metadata": {
    "colab": {
      "name": "Web scraping_1.ipynb",
      "provenance": []
    },
    "kernelspec": {
      "name": "python3",
      "display_name": "Python 3"
    },
    "language_info": {
      "name": "python"
    }
  },
  "cells": [
    {
      "cell_type": "markdown",
      "metadata": {
        "id": "SMAoBJYa5N-T"
      },
      "source": [
        "#Write a python program to display all the header tags from ‘en.wikipedia.org/wiki/Main_Page’."
      ]
    },
    {
      "cell_type": "code",
      "metadata": {
        "id": "1d7uKsfa5Gaq"
      },
      "source": [
        "import pandas as pd\n",
        "from bs4 import BeautifulSoup as bs\n",
        "import requests"
      ],
      "execution_count": 1,
      "outputs": []
    },
    {
      "cell_type": "code",
      "metadata": {
        "id": "9Yn7x_Nw5fT_"
      },
      "source": [
        "link='https://en.wikipedia.org/wiki/Main_Page'"
      ],
      "execution_count": 2,
      "outputs": []
    },
    {
      "cell_type": "code",
      "metadata": {
        "colab": {
          "base_uri": "https://localhost:8080/"
        },
        "id": "UKqtqUIa6Wi_",
        "outputId": "f0f2c027-cf4a-4249-f7df-85bb6d285e7d"
      },
      "source": [
        "page=requests.get(link)\n",
        "page"
      ],
      "execution_count": 3,
      "outputs": [
        {
          "output_type": "execute_result",
          "data": {
            "text/plain": [
              "<Response [200]>"
            ]
          },
          "metadata": {
            "tags": []
          },
          "execution_count": 3
        }
      ]
    },
    {
      "cell_type": "code",
      "metadata": {
        "id": "Qeemc7386a7H"
      },
      "source": [
        "soup=bs(page.content,'html.parser')"
      ],
      "execution_count": 4,
      "outputs": []
    },
    {
      "cell_type": "code",
      "metadata": {
        "colab": {
          "base_uri": "https://localhost:8080/"
        },
        "id": "c1gDAzEL9Lz2",
        "outputId": "e5863542-1423-4848-bee0-02f4dbfae683"
      },
      "source": [
        "h1=soup.find_all('h1',class_='firstHeading')\n",
        "h1"
      ],
      "execution_count": 5,
      "outputs": [
        {
          "output_type": "execute_result",
          "data": {
            "text/plain": [
              "[<h1 class=\"firstHeading\" id=\"firstHeading\">Main Page</h1>]"
            ]
          },
          "metadata": {
            "tags": []
          },
          "execution_count": 5
        }
      ]
    },
    {
      "cell_type": "code",
      "metadata": {
        "id": "1NP5IRAD9aCM"
      },
      "source": [
        "Header_1=[]\n",
        "for i in h1:\n",
        "  Header_1.append(i.text.replace(\"\\n\",\"\"))"
      ],
      "execution_count": 6,
      "outputs": []
    },
    {
      "cell_type": "code",
      "metadata": {
        "colab": {
          "base_uri": "https://localhost:8080/"
        },
        "id": "P4sgPWhc9iJs",
        "outputId": "48d126ac-0d1b-4435-92aa-41d348bd354b"
      },
      "source": [
        "len(Header_1)"
      ],
      "execution_count": 7,
      "outputs": [
        {
          "output_type": "execute_result",
          "data": {
            "text/plain": [
              "1"
            ]
          },
          "metadata": {
            "tags": []
          },
          "execution_count": 7
        }
      ]
    },
    {
      "cell_type": "code",
      "metadata": {
        "colab": {
          "base_uri": "https://localhost:8080/"
        },
        "id": "Qyg58_dvBZeN",
        "outputId": "b6592781-812a-43fa-be87-eb510bd17d6d"
      },
      "source": [
        "Header_1"
      ],
      "execution_count": 8,
      "outputs": [
        {
          "output_type": "execute_result",
          "data": {
            "text/plain": [
              "['Main Page']"
            ]
          },
          "metadata": {
            "tags": []
          },
          "execution_count": 8
        }
      ]
    },
    {
      "cell_type": "code",
      "metadata": {
        "id": "JDiJW6zN-IG0"
      },
      "source": [
        "h2=soup.find_all('h2',class_=\"mp-h2\")"
      ],
      "execution_count": 9,
      "outputs": []
    },
    {
      "cell_type": "code",
      "metadata": {
        "id": "OI68kc7T-XjZ"
      },
      "source": [
        "Header_2=[]\n",
        "for i in range(0,len(h2)):\n",
        "  Header_2.append(h2[i].get_text().replace(\"/n\",\"\"))"
      ],
      "execution_count": 10,
      "outputs": []
    },
    {
      "cell_type": "code",
      "metadata": {
        "colab": {
          "base_uri": "https://localhost:8080/"
        },
        "id": "J2AX-Aqi_CPr",
        "outputId": "1189a251-1da0-4324-8b31-c410d45fe77b"
      },
      "source": [
        "Header_2"
      ],
      "execution_count": 11,
      "outputs": [
        {
          "output_type": "execute_result",
          "data": {
            "text/plain": [
              "[\"From today's featured article\",\n",
              " 'Did you know\\xa0...',\n",
              " 'In the news',\n",
              " 'On this day',\n",
              " \"Today's featured picture\",\n",
              " 'Other areas of Wikipedia',\n",
              " \"Wikipedia's sister projects\",\n",
              " 'Wikipedia languages']"
            ]
          },
          "metadata": {
            "tags": []
          },
          "execution_count": 11
        }
      ]
    },
    {
      "cell_type": "code",
      "metadata": {
        "colab": {
          "base_uri": "https://localhost:8080/"
        },
        "id": "wP0HbiSUBK8D",
        "outputId": "0b6d99b5-8092-487a-efe5-245d6682188f"
      },
      "source": [
        "len(Header_2)"
      ],
      "execution_count": 12,
      "outputs": [
        {
          "output_type": "execute_result",
          "data": {
            "text/plain": [
              "8"
            ]
          },
          "metadata": {
            "tags": []
          },
          "execution_count": 12
        }
      ]
    },
    {
      "cell_type": "code",
      "metadata": {
        "id": "h-_bIw1iASBs"
      },
      "source": [
        "h3=soup.find_all('h3',class_=\"vector-menu-heading\")"
      ],
      "execution_count": 13,
      "outputs": []
    },
    {
      "cell_type": "code",
      "metadata": {
        "id": "S1vZmk_k_DR2"
      },
      "source": [
        "Header_3=[]\n",
        "for i in range(0,len(h3)):\n",
        "  Header_3.append(h3[i].get_text().replace(\"\\n\",\"\"))"
      ],
      "execution_count": 14,
      "outputs": []
    },
    {
      "cell_type": "code",
      "metadata": {
        "colab": {
          "base_uri": "https://localhost:8080/"
        },
        "id": "XlPF7bHUBCAc",
        "outputId": "1b62a11f-491f-4cfd-bace-38c0b1990382"
      },
      "source": [
        "len(Header_3)"
      ],
      "execution_count": 15,
      "outputs": [
        {
          "output_type": "execute_result",
          "data": {
            "text/plain": [
              "11"
            ]
          },
          "metadata": {
            "tags": []
          },
          "execution_count": 15
        }
      ]
    },
    {
      "cell_type": "markdown",
      "metadata": {
        "id": "aElxYPPbCyve"
      },
      "source": [
        "#Header 1 have only one line \"main_page\" and header 2 have 8 line and header 3 have 11 line so i will append header 2 and 3"
      ]
    },
    {
      "cell_type": "code",
      "metadata": {
        "id": "6idy-os7BFqw"
      },
      "source": [
        "data=pd.DataFrame(Header_2,columns=['Header_2'])"
      ],
      "execution_count": 16,
      "outputs": []
    },
    {
      "cell_type": "code",
      "metadata": {
        "id": "BpBGjapbDJ03"
      },
      "source": [
        "data['header_3']=Header_3[:8]"
      ],
      "execution_count": 17,
      "outputs": []
    },
    {
      "cell_type": "code",
      "metadata": {
        "colab": {
          "base_uri": "https://localhost:8080/",
          "height": 297
        },
        "id": "xXLKKcl7DKnj",
        "outputId": "966733a4-435d-4a5e-b998-e6ac8179f33d"
      },
      "source": [
        "data"
      ],
      "execution_count": 18,
      "outputs": [
        {
          "output_type": "execute_result",
          "data": {
            "text/html": [
              "<div>\n",
              "<style scoped>\n",
              "    .dataframe tbody tr th:only-of-type {\n",
              "        vertical-align: middle;\n",
              "    }\n",
              "\n",
              "    .dataframe tbody tr th {\n",
              "        vertical-align: top;\n",
              "    }\n",
              "\n",
              "    .dataframe thead th {\n",
              "        text-align: right;\n",
              "    }\n",
              "</style>\n",
              "<table border=\"1\" class=\"dataframe\">\n",
              "  <thead>\n",
              "    <tr style=\"text-align: right;\">\n",
              "      <th></th>\n",
              "      <th>Header_2</th>\n",
              "      <th>header_3</th>\n",
              "    </tr>\n",
              "  </thead>\n",
              "  <tbody>\n",
              "    <tr>\n",
              "      <th>0</th>\n",
              "      <td>From today's featured article</td>\n",
              "      <td>Personal tools</td>\n",
              "    </tr>\n",
              "    <tr>\n",
              "      <th>1</th>\n",
              "      <td>Did you know ...</td>\n",
              "      <td>Namespaces</td>\n",
              "    </tr>\n",
              "    <tr>\n",
              "      <th>2</th>\n",
              "      <td>In the news</td>\n",
              "      <td>Variants</td>\n",
              "    </tr>\n",
              "    <tr>\n",
              "      <th>3</th>\n",
              "      <td>On this day</td>\n",
              "      <td>Views</td>\n",
              "    </tr>\n",
              "    <tr>\n",
              "      <th>4</th>\n",
              "      <td>Today's featured picture</td>\n",
              "      <td>More</td>\n",
              "    </tr>\n",
              "    <tr>\n",
              "      <th>5</th>\n",
              "      <td>Other areas of Wikipedia</td>\n",
              "      <td>Navigation</td>\n",
              "    </tr>\n",
              "    <tr>\n",
              "      <th>6</th>\n",
              "      <td>Wikipedia's sister projects</td>\n",
              "      <td>Contribute</td>\n",
              "    </tr>\n",
              "    <tr>\n",
              "      <th>7</th>\n",
              "      <td>Wikipedia languages</td>\n",
              "      <td>Tools</td>\n",
              "    </tr>\n",
              "  </tbody>\n",
              "</table>\n",
              "</div>"
            ],
            "text/plain": [
              "                        Header_2        header_3\n",
              "0  From today's featured article  Personal tools\n",
              "1               Did you know ...      Namespaces\n",
              "2                    In the news        Variants\n",
              "3                    On this day           Views\n",
              "4       Today's featured picture            More\n",
              "5       Other areas of Wikipedia      Navigation\n",
              "6    Wikipedia's sister projects      Contribute\n",
              "7            Wikipedia languages           Tools"
            ]
          },
          "metadata": {
            "tags": []
          },
          "execution_count": 18
        }
      ]
    }
  ]
}
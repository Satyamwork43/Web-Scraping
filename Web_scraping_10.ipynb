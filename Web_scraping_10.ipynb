{
  "nbformat": 4,
  "nbformat_minor": 0,
  "metadata": {
    "colab": {
      "name": "Web scraping_10.ipynb",
      "provenance": []
    },
    "kernelspec": {
      "name": "python3",
      "display_name": "Python 3"
    },
    "language_info": {
      "name": "python"
    }
  },
  "cells": [
    {
      "cell_type": "markdown",
      "metadata": {
        "id": "SMAoBJYa5N-T"
      },
      "source": [
        "#Write a python program to scrape house details from mentioned url. It should include house title, location, area, emi and price"
      ]
    },
    {
      "cell_type": "code",
      "metadata": {
        "id": "1d7uKsfa5Gaq"
      },
      "source": [
        "import pandas as pd\n",
        "from bs4 import BeautifulSoup as bs\n",
        "import requests"
      ],
      "execution_count": 1,
      "outputs": []
    },
    {
      "cell_type": "code",
      "metadata": {
        "id": "AeVcoP3Yivgb"
      },
      "source": [
        "link='https://www.nobroker.in/property/sale/delhi/multiple?searchParam=W3sibGF0IjoyOC42NjUyNDI2LCJsb24iOjc3LjE5OTk5NTMsInBsYWNlSWQiOiJDaElKMlRNMUxIXzlERGtSbXc3cTJ4UG5iWkkiLCJwbGFjZU5hbWUiOiJEZWxoaSBOQ1IifSx7ImxhdCI6MjguNTk2MTI3OSwibG9uIjo3Ny4xNTg3Mzc1LCJwbGFjZUlkIjoiQ2hJSkJkMVdQdW9jRFRrUktRRkZzdjl0WWJRIiwicGxhY2VOYW1lIjoiRGVsaGkgQ2FudG9ubWVudCJ9XQ==&radius=2.0'"
      ],
      "execution_count": 2,
      "outputs": []
    },
    {
      "cell_type": "code",
      "metadata": {
        "colab": {
          "base_uri": "https://localhost:8080/"
        },
        "id": "W8cBuGzFEwTP",
        "outputId": "fbd6aaf6-d344-40b0-944f-1e39d1bf96d8"
      },
      "source": [
        "page=requests.get(link)\n",
        "page"
      ],
      "execution_count": 3,
      "outputs": [
        {
          "output_type": "execute_result",
          "data": {
            "text/plain": [
              "<Response [200]>"
            ]
          },
          "metadata": {
            "tags": []
          },
          "execution_count": 3
        }
      ]
    },
    {
      "cell_type": "code",
      "metadata": {
        "id": "L-c46OKZE0XZ"
      },
      "source": [
        "soup=bs(page.content,\"html.parser\")"
      ],
      "execution_count": 4,
      "outputs": []
    },
    {
      "cell_type": "code",
      "metadata": {
        "id": "SE-BL63yE9Op"
      },
      "source": [
        "house_title=soup.find_all('h2',class_=\"heading-6 font-semi-bold nb__1AShY\")"
      ],
      "execution_count": 5,
      "outputs": []
    },
    {
      "cell_type": "code",
      "metadata": {
        "id": "hyDLazKqlSIb"
      },
      "source": [
        "house_titles=[]\n",
        "for i in house_title:\n",
        "  house_titles.append(i.text.replace(\"\\n\",\"\"))"
      ],
      "execution_count": 6,
      "outputs": []
    },
    {
      "cell_type": "code",
      "metadata": {
        "id": "MnktXtT0lcQx",
        "colab": {
          "base_uri": "https://localhost:8080/"
        },
        "outputId": "03326f8f-028a-4e02-807d-519f4a91e848"
      },
      "source": [
        "house_titles"
      ],
      "execution_count": 7,
      "outputs": [
        {
          "output_type": "execute_result",
          "data": {
            "text/plain": [
              "['1 BHK Flat  For Sale  In G+14 Grand Township With 7star Amenities In Delhi Ncr ',\n",
              " '1 BHK In Independent House  For Sale  In Azad Nagar ',\n",
              " '3 BHK Flat  For Sale  In Apartment In Gulabi Bagh ',\n",
              " '3 BHK In Independent House  For Sale  In Pratap Nagar ',\n",
              " '2 BHK Flat  For Sale  In Gulabi Bagh ',\n",
              " '2 BHK Flat  For Sale  In Kishan Ganj ',\n",
              " '4+ BHK Flat  For Sale  In Gulabi Bagh ',\n",
              " '1 BHK Flat  For Sale  In Gulabi Bagh ',\n",
              " '2 BHK Flat  For Sale  In Gulabi Bagh ',\n",
              " '3 BHK Flat  For Sale  In Apartment In Gulabi Bagh ']"
            ]
          },
          "metadata": {
            "tags": []
          },
          "execution_count": 7
        }
      ]
    },
    {
      "cell_type": "code",
      "metadata": {
        "id": "ae3khChwlehr"
      },
      "source": [
        "location=soup.find_all('div',class_='nb__2CMjv')"
      ],
      "execution_count": 8,
      "outputs": []
    },
    {
      "cell_type": "code",
      "metadata": {
        "id": "bHtWMkGflz8L"
      },
      "source": [
        "location_names=[]\n",
        "for i in location:\n",
        "  location_names.append(i.text.replace(\"\\n\",\"\"))"
      ],
      "execution_count": 9,
      "outputs": []
    },
    {
      "cell_type": "code",
      "metadata": {
        "colab": {
          "base_uri": "https://localhost:8080/"
        },
        "id": "Exp2rDldy3iu",
        "outputId": "e477159d-0a5d-4b76-cb4a-43776b37a831"
      },
      "source": [
        "location_names"
      ],
      "execution_count": 10,
      "outputs": [
        {
          "output_type": "execute_result",
          "data": {
            "text/plain": [
              "['Vrindaban chattikara road',\n",
              " 'Independent House, Vir Banda Bairagi Marg near Metro Station ',\n",
              " 'Azad nagar near Pratap Nagar metro station ',\n",
              " 'Independent House, Bansal Marg near Singh Burger ',\n",
              " 'Standalone Building, Azad Nagar, near Pratap Nagar Metro Station',\n",
              " 'Standalone Building, Railway Officers Colony,  near North MCD Pratibha Vidyalaya Railway Colony Kishan Ganj',\n",
              " 'Standalone building, Vir Banda Bairagi Marg, Azad Nagar near  Pratap Nagar metro station',\n",
              " 'Standalone building, Vir Banda Bairagi Marg, Azad Nagar near  Pratap Nagar metro station',\n",
              " 'Standalone building, Vir Banda Bairagi Marg, Azad Nagar near  Pratap Nagar metro station',\n",
              " 'Azad nagar near Pratap Nagar metro station ']"
            ]
          },
          "metadata": {
            "tags": []
          },
          "execution_count": 10
        }
      ]
    },
    {
      "cell_type": "code",
      "metadata": {
        "id": "xbox8jGCl9Io"
      },
      "source": [
        "emi=soup.find_all('div',class_='font-semi-bold heading-6')"
      ],
      "execution_count": 11,
      "outputs": []
    },
    {
      "cell_type": "code",
      "metadata": {
        "colab": {
          "base_uri": "https://localhost:8080/"
        },
        "id": "YhgS4tikA5rA",
        "outputId": "e4b4ab5d-1a75-4400-9a51-2a75daf71bcd"
      },
      "source": [
        "emi"
      ],
      "execution_count": 12,
      "outputs": [
        {
          "output_type": "execute_result",
          "data": {
            "text/plain": [
              "[<div class=\"font-semi-bold heading-6\" id=\"minRent\" itemprop=\"valueReference\" itemscope=\"\" itemtype=\"http://schema.org/PropertyValue\"><meta content=\"Minimum Rent\" itemprop=\"name\"/><meta content=\"INR\" itemprop=\"unitCode\"/><div class=\"nb__3oNyC\">900 sqft</div></div>,\n",
              " <div class=\"font-semi-bold heading-6\" id=\"roomType\"><span>₹</span>22,925/Month</div>,\n",
              " <div class=\"font-semi-bold heading-6\"><meta content=\"Minimum Deposit\" itemprop=\"name\"/><span>₹<!-- -->40 Lacs</span></div>,\n",
              " <div class=\"font-semi-bold heading-6\" id=\"minRent\" itemprop=\"valueReference\" itemscope=\"\" itemtype=\"http://schema.org/PropertyValue\"><meta content=\"Minimum Rent\" itemprop=\"name\"/><meta content=\"INR\" itemprop=\"unitCode\"/><div class=\"nb__3oNyC\">540 sqft</div></div>,\n",
              " <div class=\"font-semi-bold heading-6\" id=\"roomType\"><span>₹</span>11,462/Month</div>,\n",
              " <div class=\"font-semi-bold heading-6\"><meta content=\"Minimum Deposit\" itemprop=\"name\"/><span>₹<!-- -->20 Lacs</span></div>,\n",
              " <div class=\"font-semi-bold heading-6\" id=\"minRent\" itemprop=\"valueReference\" itemscope=\"\" itemtype=\"http://schema.org/PropertyValue\"><meta content=\"Minimum Rent\" itemprop=\"name\"/><meta content=\"INR\" itemprop=\"unitCode\"/><div class=\"nb__3oNyC\">850 sqft</div></div>,\n",
              " <div class=\"font-semi-bold heading-6\" id=\"roomType\"><span>₹</span>45,851/Month</div>,\n",
              " <div class=\"font-semi-bold heading-6\"><meta content=\"Minimum Deposit\" itemprop=\"name\"/><span>₹<!-- -->80 Lacs</span></div>,\n",
              " <div class=\"font-semi-bold heading-6\" id=\"minRent\" itemprop=\"valueReference\" itemscope=\"\" itemtype=\"http://schema.org/PropertyValue\"><meta content=\"Minimum Rent\" itemprop=\"name\"/><meta content=\"INR\" itemprop=\"unitCode\"/><div class=\"nb__3oNyC\">1,000 sqft</div></div>,\n",
              " <div class=\"font-semi-bold heading-6\" id=\"roomType\"><span>₹</span>48,717/Month</div>,\n",
              " <div class=\"font-semi-bold heading-6\"><meta content=\"Minimum Deposit\" itemprop=\"name\"/><span>₹<!-- -->85 Lacs</span></div>,\n",
              " <div class=\"font-semi-bold heading-6\" id=\"minRent\" itemprop=\"valueReference\" itemscope=\"\" itemtype=\"http://schema.org/PropertyValue\"><meta content=\"Minimum Rent\" itemprop=\"name\"/><meta content=\"INR\" itemprop=\"unitCode\"/><div class=\"nb__3oNyC\">500 sqft</div></div>,\n",
              " <div class=\"font-semi-bold heading-6\" id=\"roomType\"><span>₹</span>20,060/Month</div>,\n",
              " <div class=\"font-semi-bold heading-6\"><meta content=\"Minimum Deposit\" itemprop=\"name\"/><span>₹<!-- -->35 Lacs</span></div>,\n",
              " <div class=\"font-semi-bold heading-6\" id=\"minRent\" itemprop=\"valueReference\" itemscope=\"\" itemtype=\"http://schema.org/PropertyValue\"><meta content=\"Minimum Rent\" itemprop=\"name\"/><meta content=\"INR\" itemprop=\"unitCode\"/><div class=\"nb__3oNyC\">783 sqft</div></div>,\n",
              " <div class=\"font-semi-bold heading-6\" id=\"roomType\"><span>₹</span>31,522/Month</div>,\n",
              " <div class=\"font-semi-bold heading-6\"><meta content=\"Minimum Deposit\" itemprop=\"name\"/><span>₹<!-- -->55 Lacs</span></div>,\n",
              " <div class=\"font-semi-bold heading-6\" id=\"minRent\" itemprop=\"valueReference\" itemscope=\"\" itemtype=\"http://schema.org/PropertyValue\"><meta content=\"Minimum Rent\" itemprop=\"name\"/><meta content=\"INR\" itemprop=\"unitCode\"/><div class=\"nb__3oNyC\">3,000 sqft</div></div>,\n",
              " <div class=\"font-semi-bold heading-6\" id=\"roomType\"><span>₹</span>85,971/Month</div>,\n",
              " <div class=\"font-semi-bold heading-6\"><meta content=\"Minimum Deposit\" itemprop=\"name\"/><span>₹<!-- -->1.5 Crores</span></div>,\n",
              " <div class=\"font-semi-bold heading-6\" id=\"minRent\" itemprop=\"valueReference\" itemscope=\"\" itemtype=\"http://schema.org/PropertyValue\"><meta content=\"Minimum Rent\" itemprop=\"name\"/><meta content=\"INR\" itemprop=\"unitCode\"/><div class=\"nb__3oNyC\">600 sqft</div></div>,\n",
              " <div class=\"font-semi-bold heading-6\" id=\"roomType\"><span>₹</span>16,048/Month</div>,\n",
              " <div class=\"font-semi-bold heading-6\"><meta content=\"Minimum Deposit\" itemprop=\"name\"/><span>₹<!-- -->28 Lacs</span></div>,\n",
              " <div class=\"font-semi-bold heading-6\" id=\"minRent\" itemprop=\"valueReference\" itemscope=\"\" itemtype=\"http://schema.org/PropertyValue\"><meta content=\"Minimum Rent\" itemprop=\"name\"/><meta content=\"INR\" itemprop=\"unitCode\"/><div class=\"nb__3oNyC\">700 sqft</div></div>,\n",
              " <div class=\"font-semi-bold heading-6\" id=\"roomType\"><span>₹</span>18,340/Month</div>,\n",
              " <div class=\"font-semi-bold heading-6\"><meta content=\"Minimum Deposit\" itemprop=\"name\"/><span>₹<!-- -->32 Lacs</span></div>,\n",
              " <div class=\"font-semi-bold heading-6\" id=\"minRent\" itemprop=\"valueReference\" itemscope=\"\" itemtype=\"http://schema.org/PropertyValue\"><meta content=\"Minimum Rent\" itemprop=\"name\"/><meta content=\"INR\" itemprop=\"unitCode\"/><div class=\"nb__3oNyC\">850 sqft</div></div>,\n",
              " <div class=\"font-semi-bold heading-6\" id=\"roomType\"><span>₹</span>48,717/Month</div>,\n",
              " <div class=\"font-semi-bold heading-6\"><meta content=\"Minimum Deposit\" itemprop=\"name\"/><span>₹<!-- -->85 Lacs</span></div>]"
            ]
          },
          "metadata": {
            "tags": []
          },
          "execution_count": 12
        }
      ]
    },
    {
      "cell_type": "code",
      "metadata": {
        "id": "SY3c37P1l-ge"
      },
      "source": [
        "best_price=soup.find_all('div',class_='nb__2NPHR')"
      ],
      "execution_count": 13,
      "outputs": []
    },
    {
      "cell_type": "code",
      "metadata": {
        "id": "V5dKKOLpmYNz"
      },
      "source": [
        "best=[]\n",
        "for i in best_price:\n",
        "  best.append(i.text.replace(\"\\n\",\"\"))"
      ],
      "execution_count": 14,
      "outputs": []
    },
    {
      "cell_type": "code",
      "metadata": {
        "id": "n5frPH1y_7kE"
      },
      "source": [
        "EMI1=[]\n",
        "for i in emi:\n",
        "  EMI1.append(i.text)"
      ],
      "execution_count": 15,
      "outputs": []
    },
    {
      "cell_type": "code",
      "metadata": {
        "colab": {
          "base_uri": "https://localhost:8080/"
        },
        "id": "LXxJVF9PaNAu",
        "outputId": "2d7ec0ae-fb77-4647-aa9e-de1aa0068eb1"
      },
      "source": [
        "EMI1"
      ],
      "execution_count": 16,
      "outputs": [
        {
          "output_type": "execute_result",
          "data": {
            "text/plain": [
              "['900 sqft',\n",
              " '₹22,925/Month',\n",
              " '₹40 Lacs',\n",
              " '540 sqft',\n",
              " '₹11,462/Month',\n",
              " '₹20 Lacs',\n",
              " '850 sqft',\n",
              " '₹45,851/Month',\n",
              " '₹80 Lacs',\n",
              " '1,000 sqft',\n",
              " '₹48,717/Month',\n",
              " '₹85 Lacs',\n",
              " '500 sqft',\n",
              " '₹20,060/Month',\n",
              " '₹35 Lacs',\n",
              " '783 sqft',\n",
              " '₹31,522/Month',\n",
              " '₹55 Lacs',\n",
              " '3,000 sqft',\n",
              " '₹85,971/Month',\n",
              " '₹1.5 Crores',\n",
              " '600 sqft',\n",
              " '₹16,048/Month',\n",
              " '₹28 Lacs',\n",
              " '700 sqft',\n",
              " '₹18,340/Month',\n",
              " '₹32 Lacs',\n",
              " '850 sqft',\n",
              " '₹48,717/Month',\n",
              " '₹85 Lacs']"
            ]
          },
          "metadata": {
            "tags": []
          },
          "execution_count": 16
        }
      ]
    },
    {
      "cell_type": "code",
      "metadata": {
        "id": "qt9_wAhkairf"
      },
      "source": [
        "data=pd.DataFrame(EMI1,columns=['EMI'])"
      ],
      "execution_count": 17,
      "outputs": []
    },
    {
      "cell_type": "code",
      "metadata": {
        "colab": {
          "base_uri": "https://localhost:8080/",
          "height": 979
        },
        "id": "Q0nsjpHgbdaQ",
        "outputId": "70780a6e-3455-46b3-ced2-dbb693a00910"
      },
      "source": [
        "data"
      ],
      "execution_count": 18,
      "outputs": [
        {
          "output_type": "execute_result",
          "data": {
            "text/html": [
              "<div>\n",
              "<style scoped>\n",
              "    .dataframe tbody tr th:only-of-type {\n",
              "        vertical-align: middle;\n",
              "    }\n",
              "\n",
              "    .dataframe tbody tr th {\n",
              "        vertical-align: top;\n",
              "    }\n",
              "\n",
              "    .dataframe thead th {\n",
              "        text-align: right;\n",
              "    }\n",
              "</style>\n",
              "<table border=\"1\" class=\"dataframe\">\n",
              "  <thead>\n",
              "    <tr style=\"text-align: right;\">\n",
              "      <th></th>\n",
              "      <th>EMI</th>\n",
              "    </tr>\n",
              "  </thead>\n",
              "  <tbody>\n",
              "    <tr>\n",
              "      <th>0</th>\n",
              "      <td>900 sqft</td>\n",
              "    </tr>\n",
              "    <tr>\n",
              "      <th>1</th>\n",
              "      <td>₹22,925/Month</td>\n",
              "    </tr>\n",
              "    <tr>\n",
              "      <th>2</th>\n",
              "      <td>₹40 Lacs</td>\n",
              "    </tr>\n",
              "    <tr>\n",
              "      <th>3</th>\n",
              "      <td>540 sqft</td>\n",
              "    </tr>\n",
              "    <tr>\n",
              "      <th>4</th>\n",
              "      <td>₹11,462/Month</td>\n",
              "    </tr>\n",
              "    <tr>\n",
              "      <th>5</th>\n",
              "      <td>₹20 Lacs</td>\n",
              "    </tr>\n",
              "    <tr>\n",
              "      <th>6</th>\n",
              "      <td>850 sqft</td>\n",
              "    </tr>\n",
              "    <tr>\n",
              "      <th>7</th>\n",
              "      <td>₹45,851/Month</td>\n",
              "    </tr>\n",
              "    <tr>\n",
              "      <th>8</th>\n",
              "      <td>₹80 Lacs</td>\n",
              "    </tr>\n",
              "    <tr>\n",
              "      <th>9</th>\n",
              "      <td>1,000 sqft</td>\n",
              "    </tr>\n",
              "    <tr>\n",
              "      <th>10</th>\n",
              "      <td>₹48,717/Month</td>\n",
              "    </tr>\n",
              "    <tr>\n",
              "      <th>11</th>\n",
              "      <td>₹85 Lacs</td>\n",
              "    </tr>\n",
              "    <tr>\n",
              "      <th>12</th>\n",
              "      <td>500 sqft</td>\n",
              "    </tr>\n",
              "    <tr>\n",
              "      <th>13</th>\n",
              "      <td>₹20,060/Month</td>\n",
              "    </tr>\n",
              "    <tr>\n",
              "      <th>14</th>\n",
              "      <td>₹35 Lacs</td>\n",
              "    </tr>\n",
              "    <tr>\n",
              "      <th>15</th>\n",
              "      <td>783 sqft</td>\n",
              "    </tr>\n",
              "    <tr>\n",
              "      <th>16</th>\n",
              "      <td>₹31,522/Month</td>\n",
              "    </tr>\n",
              "    <tr>\n",
              "      <th>17</th>\n",
              "      <td>₹55 Lacs</td>\n",
              "    </tr>\n",
              "    <tr>\n",
              "      <th>18</th>\n",
              "      <td>3,000 sqft</td>\n",
              "    </tr>\n",
              "    <tr>\n",
              "      <th>19</th>\n",
              "      <td>₹85,971/Month</td>\n",
              "    </tr>\n",
              "    <tr>\n",
              "      <th>20</th>\n",
              "      <td>₹1.5 Crores</td>\n",
              "    </tr>\n",
              "    <tr>\n",
              "      <th>21</th>\n",
              "      <td>600 sqft</td>\n",
              "    </tr>\n",
              "    <tr>\n",
              "      <th>22</th>\n",
              "      <td>₹16,048/Month</td>\n",
              "    </tr>\n",
              "    <tr>\n",
              "      <th>23</th>\n",
              "      <td>₹28 Lacs</td>\n",
              "    </tr>\n",
              "    <tr>\n",
              "      <th>24</th>\n",
              "      <td>700 sqft</td>\n",
              "    </tr>\n",
              "    <tr>\n",
              "      <th>25</th>\n",
              "      <td>₹18,340/Month</td>\n",
              "    </tr>\n",
              "    <tr>\n",
              "      <th>26</th>\n",
              "      <td>₹32 Lacs</td>\n",
              "    </tr>\n",
              "    <tr>\n",
              "      <th>27</th>\n",
              "      <td>850 sqft</td>\n",
              "    </tr>\n",
              "    <tr>\n",
              "      <th>28</th>\n",
              "      <td>₹48,717/Month</td>\n",
              "    </tr>\n",
              "    <tr>\n",
              "      <th>29</th>\n",
              "      <td>₹85 Lacs</td>\n",
              "    </tr>\n",
              "  </tbody>\n",
              "</table>\n",
              "</div>"
            ],
            "text/plain": [
              "              EMI\n",
              "0        900 sqft\n",
              "1   ₹22,925/Month\n",
              "2        ₹40 Lacs\n",
              "3        540 sqft\n",
              "4   ₹11,462/Month\n",
              "5        ₹20 Lacs\n",
              "6        850 sqft\n",
              "7   ₹45,851/Month\n",
              "8        ₹80 Lacs\n",
              "9      1,000 sqft\n",
              "10  ₹48,717/Month\n",
              "11       ₹85 Lacs\n",
              "12       500 sqft\n",
              "13  ₹20,060/Month\n",
              "14       ₹35 Lacs\n",
              "15       783 sqft\n",
              "16  ₹31,522/Month\n",
              "17       ₹55 Lacs\n",
              "18     3,000 sqft\n",
              "19  ₹85,971/Month\n",
              "20    ₹1.5 Crores\n",
              "21       600 sqft\n",
              "22  ₹16,048/Month\n",
              "23       ₹28 Lacs\n",
              "24       700 sqft\n",
              "25  ₹18,340/Month\n",
              "26       ₹32 Lacs\n",
              "27       850 sqft\n",
              "28  ₹48,717/Month\n",
              "29       ₹85 Lacs"
            ]
          },
          "metadata": {
            "tags": []
          },
          "execution_count": 18
        }
      ]
    },
    {
      "cell_type": "code",
      "metadata": {
        "id": "3JwMGzi4cG7P"
      },
      "source": [
        "area=data[data.EMI.str.contains('sqft',case=False)]"
      ],
      "execution_count": 19,
      "outputs": []
    },
    {
      "cell_type": "code",
      "metadata": {
        "id": "2P4LVaCmczLL"
      },
      "source": [
        "area1=area.rename(columns={'EMi':'Area'})"
      ],
      "execution_count": 20,
      "outputs": []
    },
    {
      "cell_type": "code",
      "metadata": {
        "id": "5eXSg_0cawBQ"
      },
      "source": [
        "price=data[data.EMI.str.contains('Lacs',case=False)]"
      ],
      "execution_count": 21,
      "outputs": []
    },
    {
      "cell_type": "code",
      "metadata": {
        "id": "JWR8xVg_b2jC"
      },
      "source": [
        "EMI_per_month=data[data.EMI.str.contains('Month',case=False)]"
      ],
      "execution_count": 22,
      "outputs": []
    },
    {
      "cell_type": "code",
      "metadata": {
        "id": "m-Ey3kjSc3dn"
      },
      "source": [
        "EMI_per_month1=EMI_per_month.rename(columns={'EMI':'EMI_per_month'})"
      ],
      "execution_count": 23,
      "outputs": []
    },
    {
      "cell_type": "code",
      "metadata": {
        "colab": {
          "base_uri": "https://localhost:8080/",
          "height": 328
        },
        "id": "aCvQFsVia7sX",
        "outputId": "1e0051d6-6bfd-40d8-f16b-87692b685b98"
      },
      "source": [
        "price1=price.rename(columns={'EMI':'Price'})\n",
        "price1"
      ],
      "execution_count": 24,
      "outputs": [
        {
          "output_type": "execute_result",
          "data": {
            "text/html": [
              "<div>\n",
              "<style scoped>\n",
              "    .dataframe tbody tr th:only-of-type {\n",
              "        vertical-align: middle;\n",
              "    }\n",
              "\n",
              "    .dataframe tbody tr th {\n",
              "        vertical-align: top;\n",
              "    }\n",
              "\n",
              "    .dataframe thead th {\n",
              "        text-align: right;\n",
              "    }\n",
              "</style>\n",
              "<table border=\"1\" class=\"dataframe\">\n",
              "  <thead>\n",
              "    <tr style=\"text-align: right;\">\n",
              "      <th></th>\n",
              "      <th>Price</th>\n",
              "    </tr>\n",
              "  </thead>\n",
              "  <tbody>\n",
              "    <tr>\n",
              "      <th>2</th>\n",
              "      <td>₹40 Lacs</td>\n",
              "    </tr>\n",
              "    <tr>\n",
              "      <th>5</th>\n",
              "      <td>₹20 Lacs</td>\n",
              "    </tr>\n",
              "    <tr>\n",
              "      <th>8</th>\n",
              "      <td>₹80 Lacs</td>\n",
              "    </tr>\n",
              "    <tr>\n",
              "      <th>11</th>\n",
              "      <td>₹85 Lacs</td>\n",
              "    </tr>\n",
              "    <tr>\n",
              "      <th>14</th>\n",
              "      <td>₹35 Lacs</td>\n",
              "    </tr>\n",
              "    <tr>\n",
              "      <th>17</th>\n",
              "      <td>₹55 Lacs</td>\n",
              "    </tr>\n",
              "    <tr>\n",
              "      <th>23</th>\n",
              "      <td>₹28 Lacs</td>\n",
              "    </tr>\n",
              "    <tr>\n",
              "      <th>26</th>\n",
              "      <td>₹32 Lacs</td>\n",
              "    </tr>\n",
              "    <tr>\n",
              "      <th>29</th>\n",
              "      <td>₹85 Lacs</td>\n",
              "    </tr>\n",
              "  </tbody>\n",
              "</table>\n",
              "</div>"
            ],
            "text/plain": [
              "       Price\n",
              "2   ₹40 Lacs\n",
              "5   ₹20 Lacs\n",
              "8   ₹80 Lacs\n",
              "11  ₹85 Lacs\n",
              "14  ₹35 Lacs\n",
              "17  ₹55 Lacs\n",
              "23  ₹28 Lacs\n",
              "26  ₹32 Lacs\n",
              "29  ₹85 Lacs"
            ]
          },
          "metadata": {
            "tags": []
          },
          "execution_count": 24
        }
      ]
    },
    {
      "cell_type": "code",
      "metadata": {
        "id": "e_P6AHAhdhKa"
      },
      "source": [
        "areas=area1.reset_index()\n",
        "EMI_per_months=EMI_per_month1.reset_index()"
      ],
      "execution_count": 25,
      "outputs": []
    },
    {
      "cell_type": "code",
      "metadata": {
        "id": "cOFppyTQeHPA"
      },
      "source": [
        "House=pd.concat([areas,EMI_per_months],axis=1)"
      ],
      "execution_count": 26,
      "outputs": []
    },
    {
      "cell_type": "code",
      "metadata": {
        "id": "chlZByUVegkj"
      },
      "source": [
        "House=House.drop(['index'],axis=1)"
      ],
      "execution_count": 27,
      "outputs": []
    },
    {
      "cell_type": "code",
      "metadata": {
        "id": "lYXnzk31ehjy"
      },
      "source": [
        "House['house_titles']=house_titles"
      ],
      "execution_count": 28,
      "outputs": []
    },
    {
      "cell_type": "code",
      "metadata": {
        "id": "k_45GM4tkGWS"
      },
      "source": [
        "House['location_names']=location_names"
      ],
      "execution_count": 29,
      "outputs": []
    },
    {
      "cell_type": "code",
      "metadata": {
        "id": "yGDJmwhxjtT7"
      },
      "source": [
        "House=House[['house_titles','location_names','EMI_per_month','EMI']]"
      ],
      "execution_count": 30,
      "outputs": []
    },
    {
      "cell_type": "code",
      "metadata": {
        "id": "VByjK5-7jvjt"
      },
      "source": [
        "House=House.rename(columns={'EMI':'Area'})"
      ],
      "execution_count": 31,
      "outputs": []
    },
    {
      "cell_type": "code",
      "metadata": {
        "colab": {
          "base_uri": "https://localhost:8080/",
          "height": 359
        },
        "id": "BrD1Rs8GksiL",
        "outputId": "6d612c77-0f92-4cf7-da22-2fa75237c426"
      },
      "source": [
        "House"
      ],
      "execution_count": 32,
      "outputs": [
        {
          "output_type": "execute_result",
          "data": {
            "text/html": [
              "<div>\n",
              "<style scoped>\n",
              "    .dataframe tbody tr th:only-of-type {\n",
              "        vertical-align: middle;\n",
              "    }\n",
              "\n",
              "    .dataframe tbody tr th {\n",
              "        vertical-align: top;\n",
              "    }\n",
              "\n",
              "    .dataframe thead th {\n",
              "        text-align: right;\n",
              "    }\n",
              "</style>\n",
              "<table border=\"1\" class=\"dataframe\">\n",
              "  <thead>\n",
              "    <tr style=\"text-align: right;\">\n",
              "      <th></th>\n",
              "      <th>house_titles</th>\n",
              "      <th>location_names</th>\n",
              "      <th>EMI_per_month</th>\n",
              "      <th>Area</th>\n",
              "    </tr>\n",
              "  </thead>\n",
              "  <tbody>\n",
              "    <tr>\n",
              "      <th>0</th>\n",
              "      <td>1 BHK Flat  For Sale  In G+14 Grand Township W...</td>\n",
              "      <td>Vrindaban chattikara road</td>\n",
              "      <td>₹22,925/Month</td>\n",
              "      <td>900 sqft</td>\n",
              "    </tr>\n",
              "    <tr>\n",
              "      <th>1</th>\n",
              "      <td>1 BHK In Independent House  For Sale  In Azad ...</td>\n",
              "      <td>Independent House, Vir Banda Bairagi Marg near...</td>\n",
              "      <td>₹11,462/Month</td>\n",
              "      <td>540 sqft</td>\n",
              "    </tr>\n",
              "    <tr>\n",
              "      <th>2</th>\n",
              "      <td>3 BHK Flat  For Sale  In Apartment In Gulabi B...</td>\n",
              "      <td>Azad nagar near Pratap Nagar metro station</td>\n",
              "      <td>₹45,851/Month</td>\n",
              "      <td>850 sqft</td>\n",
              "    </tr>\n",
              "    <tr>\n",
              "      <th>3</th>\n",
              "      <td>3 BHK In Independent House  For Sale  In Prata...</td>\n",
              "      <td>Independent House, Bansal Marg near Singh Burger</td>\n",
              "      <td>₹48,717/Month</td>\n",
              "      <td>1,000 sqft</td>\n",
              "    </tr>\n",
              "    <tr>\n",
              "      <th>4</th>\n",
              "      <td>2 BHK Flat  For Sale  In Gulabi Bagh</td>\n",
              "      <td>Standalone Building, Azad Nagar, near Pratap N...</td>\n",
              "      <td>₹20,060/Month</td>\n",
              "      <td>500 sqft</td>\n",
              "    </tr>\n",
              "    <tr>\n",
              "      <th>5</th>\n",
              "      <td>2 BHK Flat  For Sale  In Kishan Ganj</td>\n",
              "      <td>Standalone Building, Railway Officers Colony, ...</td>\n",
              "      <td>₹31,522/Month</td>\n",
              "      <td>783 sqft</td>\n",
              "    </tr>\n",
              "    <tr>\n",
              "      <th>6</th>\n",
              "      <td>4+ BHK Flat  For Sale  In Gulabi Bagh</td>\n",
              "      <td>Standalone building, Vir Banda Bairagi Marg, A...</td>\n",
              "      <td>₹85,971/Month</td>\n",
              "      <td>3,000 sqft</td>\n",
              "    </tr>\n",
              "    <tr>\n",
              "      <th>7</th>\n",
              "      <td>1 BHK Flat  For Sale  In Gulabi Bagh</td>\n",
              "      <td>Standalone building, Vir Banda Bairagi Marg, A...</td>\n",
              "      <td>₹16,048/Month</td>\n",
              "      <td>600 sqft</td>\n",
              "    </tr>\n",
              "    <tr>\n",
              "      <th>8</th>\n",
              "      <td>2 BHK Flat  For Sale  In Gulabi Bagh</td>\n",
              "      <td>Standalone building, Vir Banda Bairagi Marg, A...</td>\n",
              "      <td>₹18,340/Month</td>\n",
              "      <td>700 sqft</td>\n",
              "    </tr>\n",
              "    <tr>\n",
              "      <th>9</th>\n",
              "      <td>3 BHK Flat  For Sale  In Apartment In Gulabi B...</td>\n",
              "      <td>Azad nagar near Pratap Nagar metro station</td>\n",
              "      <td>₹48,717/Month</td>\n",
              "      <td>850 sqft</td>\n",
              "    </tr>\n",
              "  </tbody>\n",
              "</table>\n",
              "</div>"
            ],
            "text/plain": [
              "                                        house_titles  ...        Area\n",
              "0  1 BHK Flat  For Sale  In G+14 Grand Township W...  ...    900 sqft\n",
              "1  1 BHK In Independent House  For Sale  In Azad ...  ...    540 sqft\n",
              "2  3 BHK Flat  For Sale  In Apartment In Gulabi B...  ...    850 sqft\n",
              "3  3 BHK In Independent House  For Sale  In Prata...  ...  1,000 sqft\n",
              "4              2 BHK Flat  For Sale  In Gulabi Bagh   ...    500 sqft\n",
              "5              2 BHK Flat  For Sale  In Kishan Ganj   ...    783 sqft\n",
              "6             4+ BHK Flat  For Sale  In Gulabi Bagh   ...  3,000 sqft\n",
              "7              1 BHK Flat  For Sale  In Gulabi Bagh   ...    600 sqft\n",
              "8              2 BHK Flat  For Sale  In Gulabi Bagh   ...    700 sqft\n",
              "9  3 BHK Flat  For Sale  In Apartment In Gulabi B...  ...    850 sqft\n",
              "\n",
              "[10 rows x 4 columns]"
            ]
          },
          "metadata": {
            "tags": []
          },
          "execution_count": 32
        }
      ]
    },
    {
      "cell_type": "code",
      "metadata": {
        "id": "PAs3CUp1m1W4"
      },
      "source": [
        "import numpy as np\n",
        "new= data[data['EMI'].str.contains('Lacs|Crores', case=False)]"
      ],
      "execution_count": 33,
      "outputs": []
    },
    {
      "cell_type": "code",
      "metadata": {
        "colab": {
          "base_uri": "https://localhost:8080/",
          "height": 359
        },
        "id": "_qpovTSgo6rB",
        "outputId": "cf18dc91-66b1-4c78-ec36-d3f65f553ac6"
      },
      "source": [
        "new=new.reset_index()\n",
        "new"
      ],
      "execution_count": 34,
      "outputs": [
        {
          "output_type": "execute_result",
          "data": {
            "text/html": [
              "<div>\n",
              "<style scoped>\n",
              "    .dataframe tbody tr th:only-of-type {\n",
              "        vertical-align: middle;\n",
              "    }\n",
              "\n",
              "    .dataframe tbody tr th {\n",
              "        vertical-align: top;\n",
              "    }\n",
              "\n",
              "    .dataframe thead th {\n",
              "        text-align: right;\n",
              "    }\n",
              "</style>\n",
              "<table border=\"1\" class=\"dataframe\">\n",
              "  <thead>\n",
              "    <tr style=\"text-align: right;\">\n",
              "      <th></th>\n",
              "      <th>index</th>\n",
              "      <th>EMI</th>\n",
              "    </tr>\n",
              "  </thead>\n",
              "  <tbody>\n",
              "    <tr>\n",
              "      <th>0</th>\n",
              "      <td>2</td>\n",
              "      <td>₹40 Lacs</td>\n",
              "    </tr>\n",
              "    <tr>\n",
              "      <th>1</th>\n",
              "      <td>5</td>\n",
              "      <td>₹20 Lacs</td>\n",
              "    </tr>\n",
              "    <tr>\n",
              "      <th>2</th>\n",
              "      <td>8</td>\n",
              "      <td>₹80 Lacs</td>\n",
              "    </tr>\n",
              "    <tr>\n",
              "      <th>3</th>\n",
              "      <td>11</td>\n",
              "      <td>₹85 Lacs</td>\n",
              "    </tr>\n",
              "    <tr>\n",
              "      <th>4</th>\n",
              "      <td>14</td>\n",
              "      <td>₹35 Lacs</td>\n",
              "    </tr>\n",
              "    <tr>\n",
              "      <th>5</th>\n",
              "      <td>17</td>\n",
              "      <td>₹55 Lacs</td>\n",
              "    </tr>\n",
              "    <tr>\n",
              "      <th>6</th>\n",
              "      <td>20</td>\n",
              "      <td>₹1.5 Crores</td>\n",
              "    </tr>\n",
              "    <tr>\n",
              "      <th>7</th>\n",
              "      <td>23</td>\n",
              "      <td>₹28 Lacs</td>\n",
              "    </tr>\n",
              "    <tr>\n",
              "      <th>8</th>\n",
              "      <td>26</td>\n",
              "      <td>₹32 Lacs</td>\n",
              "    </tr>\n",
              "    <tr>\n",
              "      <th>9</th>\n",
              "      <td>29</td>\n",
              "      <td>₹85 Lacs</td>\n",
              "    </tr>\n",
              "  </tbody>\n",
              "</table>\n",
              "</div>"
            ],
            "text/plain": [
              "   index          EMI\n",
              "0      2     ₹40 Lacs\n",
              "1      5     ₹20 Lacs\n",
              "2      8     ₹80 Lacs\n",
              "3     11     ₹85 Lacs\n",
              "4     14     ₹35 Lacs\n",
              "5     17     ₹55 Lacs\n",
              "6     20  ₹1.5 Crores\n",
              "7     23     ₹28 Lacs\n",
              "8     26     ₹32 Lacs\n",
              "9     29     ₹85 Lacs"
            ]
          },
          "metadata": {
            "tags": []
          },
          "execution_count": 34
        }
      ]
    },
    {
      "cell_type": "code",
      "metadata": {
        "id": "npBETguIo7re"
      },
      "source": [
        "House['Prices']=new['EMI']"
      ],
      "execution_count": 35,
      "outputs": []
    },
    {
      "cell_type": "code",
      "metadata": {
        "colab": {
          "base_uri": "https://localhost:8080/",
          "height": 359
        },
        "id": "2_rhPi_5pH9R",
        "outputId": "0967b86c-5fcd-490d-cf62-6cd6744e13d8"
      },
      "source": [
        "House"
      ],
      "execution_count": 36,
      "outputs": [
        {
          "output_type": "execute_result",
          "data": {
            "text/html": [
              "<div>\n",
              "<style scoped>\n",
              "    .dataframe tbody tr th:only-of-type {\n",
              "        vertical-align: middle;\n",
              "    }\n",
              "\n",
              "    .dataframe tbody tr th {\n",
              "        vertical-align: top;\n",
              "    }\n",
              "\n",
              "    .dataframe thead th {\n",
              "        text-align: right;\n",
              "    }\n",
              "</style>\n",
              "<table border=\"1\" class=\"dataframe\">\n",
              "  <thead>\n",
              "    <tr style=\"text-align: right;\">\n",
              "      <th></th>\n",
              "      <th>house_titles</th>\n",
              "      <th>location_names</th>\n",
              "      <th>EMI_per_month</th>\n",
              "      <th>Area</th>\n",
              "      <th>Prices</th>\n",
              "    </tr>\n",
              "  </thead>\n",
              "  <tbody>\n",
              "    <tr>\n",
              "      <th>0</th>\n",
              "      <td>1 BHK Flat  For Sale  In G+14 Grand Township W...</td>\n",
              "      <td>Vrindaban chattikara road</td>\n",
              "      <td>₹22,925/Month</td>\n",
              "      <td>900 sqft</td>\n",
              "      <td>₹40 Lacs</td>\n",
              "    </tr>\n",
              "    <tr>\n",
              "      <th>1</th>\n",
              "      <td>1 BHK In Independent House  For Sale  In Azad ...</td>\n",
              "      <td>Independent House, Vir Banda Bairagi Marg near...</td>\n",
              "      <td>₹11,462/Month</td>\n",
              "      <td>540 sqft</td>\n",
              "      <td>₹20 Lacs</td>\n",
              "    </tr>\n",
              "    <tr>\n",
              "      <th>2</th>\n",
              "      <td>3 BHK Flat  For Sale  In Apartment In Gulabi B...</td>\n",
              "      <td>Azad nagar near Pratap Nagar metro station</td>\n",
              "      <td>₹45,851/Month</td>\n",
              "      <td>850 sqft</td>\n",
              "      <td>₹80 Lacs</td>\n",
              "    </tr>\n",
              "    <tr>\n",
              "      <th>3</th>\n",
              "      <td>3 BHK In Independent House  For Sale  In Prata...</td>\n",
              "      <td>Independent House, Bansal Marg near Singh Burger</td>\n",
              "      <td>₹48,717/Month</td>\n",
              "      <td>1,000 sqft</td>\n",
              "      <td>₹85 Lacs</td>\n",
              "    </tr>\n",
              "    <tr>\n",
              "      <th>4</th>\n",
              "      <td>2 BHK Flat  For Sale  In Gulabi Bagh</td>\n",
              "      <td>Standalone Building, Azad Nagar, near Pratap N...</td>\n",
              "      <td>₹20,060/Month</td>\n",
              "      <td>500 sqft</td>\n",
              "      <td>₹35 Lacs</td>\n",
              "    </tr>\n",
              "    <tr>\n",
              "      <th>5</th>\n",
              "      <td>2 BHK Flat  For Sale  In Kishan Ganj</td>\n",
              "      <td>Standalone Building, Railway Officers Colony, ...</td>\n",
              "      <td>₹31,522/Month</td>\n",
              "      <td>783 sqft</td>\n",
              "      <td>₹55 Lacs</td>\n",
              "    </tr>\n",
              "    <tr>\n",
              "      <th>6</th>\n",
              "      <td>4+ BHK Flat  For Sale  In Gulabi Bagh</td>\n",
              "      <td>Standalone building, Vir Banda Bairagi Marg, A...</td>\n",
              "      <td>₹85,971/Month</td>\n",
              "      <td>3,000 sqft</td>\n",
              "      <td>₹1.5 Crores</td>\n",
              "    </tr>\n",
              "    <tr>\n",
              "      <th>7</th>\n",
              "      <td>1 BHK Flat  For Sale  In Gulabi Bagh</td>\n",
              "      <td>Standalone building, Vir Banda Bairagi Marg, A...</td>\n",
              "      <td>₹16,048/Month</td>\n",
              "      <td>600 sqft</td>\n",
              "      <td>₹28 Lacs</td>\n",
              "    </tr>\n",
              "    <tr>\n",
              "      <th>8</th>\n",
              "      <td>2 BHK Flat  For Sale  In Gulabi Bagh</td>\n",
              "      <td>Standalone building, Vir Banda Bairagi Marg, A...</td>\n",
              "      <td>₹18,340/Month</td>\n",
              "      <td>700 sqft</td>\n",
              "      <td>₹32 Lacs</td>\n",
              "    </tr>\n",
              "    <tr>\n",
              "      <th>9</th>\n",
              "      <td>3 BHK Flat  For Sale  In Apartment In Gulabi B...</td>\n",
              "      <td>Azad nagar near Pratap Nagar metro station</td>\n",
              "      <td>₹48,717/Month</td>\n",
              "      <td>850 sqft</td>\n",
              "      <td>₹85 Lacs</td>\n",
              "    </tr>\n",
              "  </tbody>\n",
              "</table>\n",
              "</div>"
            ],
            "text/plain": [
              "                                        house_titles  ...       Prices\n",
              "0  1 BHK Flat  For Sale  In G+14 Grand Township W...  ...     ₹40 Lacs\n",
              "1  1 BHK In Independent House  For Sale  In Azad ...  ...     ₹20 Lacs\n",
              "2  3 BHK Flat  For Sale  In Apartment In Gulabi B...  ...     ₹80 Lacs\n",
              "3  3 BHK In Independent House  For Sale  In Prata...  ...     ₹85 Lacs\n",
              "4              2 BHK Flat  For Sale  In Gulabi Bagh   ...     ₹35 Lacs\n",
              "5              2 BHK Flat  For Sale  In Kishan Ganj   ...     ₹55 Lacs\n",
              "6             4+ BHK Flat  For Sale  In Gulabi Bagh   ...  ₹1.5 Crores\n",
              "7              1 BHK Flat  For Sale  In Gulabi Bagh   ...     ₹28 Lacs\n",
              "8              2 BHK Flat  For Sale  In Gulabi Bagh   ...     ₹32 Lacs\n",
              "9  3 BHK Flat  For Sale  In Apartment In Gulabi B...  ...     ₹85 Lacs\n",
              "\n",
              "[10 rows x 5 columns]"
            ]
          },
          "metadata": {
            "tags": []
          },
          "execution_count": 36
        }
      ]
    }
  ]
}
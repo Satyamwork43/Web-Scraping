{
  "nbformat": 4,
  "nbformat_minor": 0,
  "metadata": {
    "colab": {
      "name": "Web scraping_3.ipynb",
      "provenance": []
    },
    "kernelspec": {
      "name": "python3",
      "display_name": "Python 3"
    },
    "language_info": {
      "name": "python"
    }
  },
  "cells": [
    {
      "cell_type": "markdown",
      "metadata": {
        "id": "SMAoBJYa5N-T"
      },
      "source": [
        "#Write a python program to display IMDB’s Top rated 100 Indian movies’ data (i.e. Name, IMDB rating, Year of release) and make data frame"
      ]
    },
    {
      "cell_type": "code",
      "metadata": {
        "id": "1d7uKsfa5Gaq"
      },
      "source": [
        "import pandas as pd\n",
        "from bs4 import BeautifulSoup as bs\n",
        "import requests"
      ],
      "execution_count": 1,
      "outputs": []
    },
    {
      "cell_type": "code",
      "metadata": {
        "id": "9Yn7x_Nw5fT_"
      },
      "source": [
        "link='https://www.imdb.com/list/ls009997493/'"
      ],
      "execution_count": 2,
      "outputs": []
    },
    {
      "cell_type": "code",
      "metadata": {
        "colab": {
          "base_uri": "https://localhost:8080/"
        },
        "id": "W8cBuGzFEwTP",
        "outputId": "5f336f7d-2719-409b-b950-9f16b545f5fd"
      },
      "source": [
        "page=requests.get(link)\n",
        "page"
      ],
      "execution_count": 3,
      "outputs": [
        {
          "output_type": "execute_result",
          "data": {
            "text/plain": [
              "<Response [200]>"
            ]
          },
          "metadata": {
            "tags": []
          },
          "execution_count": 3
        }
      ]
    },
    {
      "cell_type": "code",
      "metadata": {
        "id": "L-c46OKZE0XZ"
      },
      "source": [
        "soup=bs(page.content,\"html.parser\")"
      ],
      "execution_count": 4,
      "outputs": []
    },
    {
      "cell_type": "code",
      "metadata": {
        "id": "SE-BL63yE9Op"
      },
      "source": [
        "H3=soup.find_all('h3',class_=\"lister-item-header\")"
      ],
      "execution_count": 5,
      "outputs": []
    },
    {
      "cell_type": "code",
      "metadata": {
        "colab": {
          "base_uri": "https://localhost:8080/"
        },
        "id": "rH3VwXr-HtNr",
        "outputId": "7d3e4998-0c12-46d9-cdde-c00e9322acb5"
      },
      "source": [
        "len(H3)"
      ],
      "execution_count": 6,
      "outputs": [
        {
          "output_type": "execute_result",
          "data": {
            "text/plain": [
              "100"
            ]
          },
          "metadata": {
            "tags": []
          },
          "execution_count": 6
        }
      ]
    },
    {
      "cell_type": "code",
      "metadata": {
        "id": "O1SEJoKcFtYB"
      },
      "source": [
        "movie_title=[]\n",
        "for i in range(0,len(H3)):\n",
        "  movie_title.append(H3[i].get_text().replace(\"\\n\",\"\"))"
      ],
      "execution_count": 7,
      "outputs": []
    },
    {
      "cell_type": "code",
      "metadata": {
        "colab": {
          "base_uri": "https://localhost:8080/"
        },
        "id": "nizQpSgRGMLB",
        "outputId": "ed3d8833-5d1e-46cf-d01b-51a2e673c87f"
      },
      "source": [
        "movie_title"
      ],
      "execution_count": 8,
      "outputs": [
        {
          "output_type": "execute_result",
          "data": {
            "text/plain": [
              "['1.Rang De Basanti(2006)',\n",
              " '2.3 Idiots(2009)',\n",
              " '3.Like Stars on Earth(2007)',\n",
              " '4.Dil Chahta Hai(2001)',\n",
              " '5.Swades(2004)',\n",
              " '6.Lagaan: Once Upon a Time in India(2001)',\n",
              " '7.Gangs of Wasseypur(2012)',\n",
              " '8.Barfi!(2012)',\n",
              " '9.Anand(1971)',\n",
              " '10.Munna Bhai M.B.B.S.(2003)',\n",
              " '11.A Wednesday(2008)',\n",
              " '12.Andaz Apna Apna(1994)',\n",
              " '13.Sholay(1975)',\n",
              " '14.Bhaag Milkha Bhaag(2013)',\n",
              " '15.Hera Pheri(2000)',\n",
              " '16.Udaan(2010)',\n",
              " '17.Kahaani(2012)',\n",
              " '18.Black(2005)',\n",
              " '19.Chak De! India(2007)',\n",
              " '20.Khosla Ka Ghosla!(2006)',\n",
              " '21.Jo Jeeta Wohi Sikandar(1992)',\n",
              " '22.Zindagi Na Milegi Dobara(2011)',\n",
              " '23.Paan Singh Tomar(2012)',\n",
              " '24.Dilwale Dulhania Le Jayenge(1995)',\n",
              " '25.Omkara(2006)',\n",
              " '26.Lage Raho Munna Bhai(2006)',\n",
              " '27.Iqbal(2005)',\n",
              " '28.The Lunchbox(2013)',\n",
              " '29.Black Friday(2004)',\n",
              " '30.Company(2002)',\n",
              " '31.Hanky Panky(1979)',\n",
              " '32.Dev.D(2009)',\n",
              " '33.Jaane Bhi Do Yaaro(1983)',\n",
              " '34.OMG: Oh My God!(2012)',\n",
              " '35.Mughal-E-Azam(1960)',\n",
              " '36.Gulaal(2009)',\n",
              " '37.Dor(2006)',\n",
              " '38.Jab We Met(2007)',\n",
              " '39.Pyaasa(1957)',\n",
              " '40.The Legend of Bhagat Singh(2002)',\n",
              " '41.Masoom(1983)',\n",
              " '42.Salaam Bombay!(1988)',\n",
              " '43.Satya(1998)',\n",
              " '44.Vicky Donor(2012)',\n",
              " '45.Lakshya(2004)',\n",
              " '46.Vaastav: The Reality(1999)',\n",
              " '47.Kal Ho Naa Ho(2003)',\n",
              " '48.Oye Lucky! Lucky Oye!(2008)',\n",
              " '49.Sarfarosh(1999)',\n",
              " '50.Gangaajal(2003)',\n",
              " '51.Angoor(1982)',\n",
              " '52.Madras Cafe(2013)',\n",
              " '53.English Vinglish(2012)',\n",
              " '54.Chupke Chupke(1975)',\n",
              " '55.Johnny Gaddaar(2007)',\n",
              " '56.Maqbool(2003)',\n",
              " '57.Hazaaron Khwaishein Aisi(2003)',\n",
              " '58.Rock On!!(2008)',\n",
              " '59.Don(1978)',\n",
              " '60.Chhoti Si Baat(1976)',\n",
              " '61.Guide(1965)',\n",
              " '62.Raanjhanaa(2013)',\n",
              " '63.Deewaar(1975)',\n",
              " '64.Special 26(2013)',\n",
              " '65.Padosan(1968)',\n",
              " '66.Mumbai Meri Jaan(2008)',\n",
              " '67.Ab Tak Chhappan(2004)',\n",
              " '68.Kai Po Che(2013)',\n",
              " '69.Awaara(1951)',\n",
              " '70.Shree 420(1955)',\n",
              " '71.Earth(1998)',\n",
              " '72.Gunda(1998)',\n",
              " '73.Parinda(1989)',\n",
              " '74.Dasvidaniya(2008)',\n",
              " '75.Hey Ram(2000)',\n",
              " '76.Pinjar(2003)',\n",
              " '77.Socha Na Tha(2005)',\n",
              " '78.Guru(2007)',\n",
              " '79.Bawarchi(1972)',\n",
              " '80.Manorama: Six Feet Under(2007)',\n",
              " '81.Mr. India(1987)',\n",
              " '82.Aamir(2008)',\n",
              " '83.Zakhm(1998)',\n",
              " '84.Water(I) (2005)',\n",
              " '85.Stanley Ka Dabba(2011)',\n",
              " '86.Agneepath(1990)',\n",
              " '87.My Name Is Khan(2010)',\n",
              " '88.Qayamat Se Qayamat Tak(1988)',\n",
              " '89.3 Deewarein(2003)',\n",
              " '90.Abhimaan(1973)',\n",
              " '91.Sarkar(2005)',\n",
              " '92.Bheja Fry(2007)',\n",
              " '93.Mother India(1957)',\n",
              " '94.Jaane Tu(2008)',\n",
              " '95.Delhi Belly(2011)',\n",
              " '96.Wake Up Sid(2009)',\n",
              " '97.Rangeela(1995)',\n",
              " '98.The Chess Players(1977)',\n",
              " '99.Pyaar Ka Punchnama(2011)',\n",
              " '100.Ek Hasina Thi(2004)']"
            ]
          },
          "metadata": {
            "tags": []
          },
          "execution_count": 8
        }
      ]
    },
    {
      "cell_type": "code",
      "metadata": {
        "id": "S3GefutgGT1w"
      },
      "source": [
        "r1=soup.find_all('span',class_=\"runtime\")"
      ],
      "execution_count": 9,
      "outputs": []
    },
    {
      "cell_type": "code",
      "metadata": {
        "id": "1rm7hNO9IfJ2"
      },
      "source": [
        "run_time=[]\n",
        "for i in range(0,len(r1)):\n",
        "  run_time.append(r1[i].get_text().replace(\"/n\",\"\"))"
      ],
      "execution_count": 10,
      "outputs": []
    },
    {
      "cell_type": "code",
      "metadata": {
        "colab": {
          "base_uri": "https://localhost:8080/"
        },
        "id": "OxB66Ky9Ixn9",
        "outputId": "808e5376-afc0-4971-818b-7e9529978c2b"
      },
      "source": [
        "len(run_time)"
      ],
      "execution_count": 11,
      "outputs": [
        {
          "output_type": "execute_result",
          "data": {
            "text/plain": [
              "100"
            ]
          },
          "metadata": {
            "tags": []
          },
          "execution_count": 11
        }
      ]
    },
    {
      "cell_type": "code",
      "metadata": {
        "id": "X5amONU7Iza_"
      },
      "source": [
        "g1=soup.find_all('span',class_=\"genre\")"
      ],
      "execution_count": 12,
      "outputs": []
    },
    {
      "cell_type": "code",
      "metadata": {
        "id": "Ic4FOE7WJD7u"
      },
      "source": [
        "genre=[]\n",
        "for i in range(0,len(g1)):\n",
        "  genre.append(g1[i].get_text().replace(\"\\n\",\"\"))"
      ],
      "execution_count": 13,
      "outputs": []
    },
    {
      "cell_type": "code",
      "metadata": {
        "colab": {
          "base_uri": "https://localhost:8080/"
        },
        "id": "gL-i7rb1JWH9",
        "outputId": "639e06d8-ad47-42ed-ffa4-bbaa9ddb5999"
      },
      "source": [
        "len(genre)"
      ],
      "execution_count": 14,
      "outputs": [
        {
          "output_type": "execute_result",
          "data": {
            "text/plain": [
              "100"
            ]
          },
          "metadata": {
            "tags": []
          },
          "execution_count": 14
        }
      ]
    },
    {
      "cell_type": "code",
      "metadata": {
        "id": "8gtPYYbPJXzB"
      },
      "source": [
        "rate=soup.find_all('div',class_=\"ipl-rating-star small\")"
      ],
      "execution_count": 15,
      "outputs": []
    },
    {
      "cell_type": "code",
      "metadata": {
        "id": "spoE2D1iJimu"
      },
      "source": [
        "rating=[]\n",
        "for i in range(0,len(rate)):\n",
        "  rating.append(rate[i].get_text().replace('\\n',''))"
      ],
      "execution_count": 16,
      "outputs": []
    },
    {
      "cell_type": "code",
      "metadata": {
        "colab": {
          "base_uri": "https://localhost:8080/"
        },
        "id": "I5Qfd1z1Jyvz",
        "outputId": "a31b81c6-aabc-459c-ad14-2b09f073f2e4"
      },
      "source": [
        "len(rating)"
      ],
      "execution_count": 17,
      "outputs": [
        {
          "output_type": "execute_result",
          "data": {
            "text/plain": [
              "100"
            ]
          },
          "metadata": {
            "tags": []
          },
          "execution_count": 17
        }
      ]
    },
    {
      "cell_type": "code",
      "metadata": {
        "id": "VSwnaT32PVGh"
      },
      "source": [
        "y1=soup.find_all('span',class_=\"lister-item-year text-muted unbold\")"
      ],
      "execution_count": 18,
      "outputs": []
    },
    {
      "cell_type": "code",
      "metadata": {
        "id": "ytjEJS3vQ3Lo"
      },
      "source": [
        "year=[]\n",
        "for i in range(0,len(y1)):\n",
        "  year.append(y1[i].get_text())"
      ],
      "execution_count": 19,
      "outputs": []
    },
    {
      "cell_type": "code",
      "metadata": {
        "colab": {
          "base_uri": "https://localhost:8080/"
        },
        "id": "Fqb7vdbyRFRc",
        "outputId": "e889b3ca-53fd-41ff-f55e-d73ea5bd9376"
      },
      "source": [
        "len(year)"
      ],
      "execution_count": 20,
      "outputs": [
        {
          "output_type": "execute_result",
          "data": {
            "text/plain": [
              "100"
            ]
          },
          "metadata": {
            "tags": []
          },
          "execution_count": 20
        }
      ]
    },
    {
      "cell_type": "code",
      "metadata": {
        "id": "qUSfi7cZRFwM"
      },
      "source": [
        "data=pd.DataFrame(movie_title,columns=['Title'])"
      ],
      "execution_count": 21,
      "outputs": []
    },
    {
      "cell_type": "code",
      "metadata": {
        "id": "byVlrSZ_Sgnh"
      },
      "source": [
        "data['Year']=data['Title'].str.extract(r\"\\((.*?)\\)\", expand=False)"
      ],
      "execution_count": 22,
      "outputs": []
    },
    {
      "cell_type": "code",
      "metadata": {
        "colab": {
          "base_uri": "https://localhost:8080/",
          "height": 419
        },
        "id": "s_oLTv1QSwyj",
        "outputId": "21d4840c-aa46-4e0b-b8ad-f880028cda6d"
      },
      "source": [
        "data"
      ],
      "execution_count": 23,
      "outputs": [
        {
          "output_type": "execute_result",
          "data": {
            "text/html": [
              "<div>\n",
              "<style scoped>\n",
              "    .dataframe tbody tr th:only-of-type {\n",
              "        vertical-align: middle;\n",
              "    }\n",
              "\n",
              "    .dataframe tbody tr th {\n",
              "        vertical-align: top;\n",
              "    }\n",
              "\n",
              "    .dataframe thead th {\n",
              "        text-align: right;\n",
              "    }\n",
              "</style>\n",
              "<table border=\"1\" class=\"dataframe\">\n",
              "  <thead>\n",
              "    <tr style=\"text-align: right;\">\n",
              "      <th></th>\n",
              "      <th>Title</th>\n",
              "      <th>Year</th>\n",
              "    </tr>\n",
              "  </thead>\n",
              "  <tbody>\n",
              "    <tr>\n",
              "      <th>0</th>\n",
              "      <td>1.Rang De Basanti(2006)</td>\n",
              "      <td>2006</td>\n",
              "    </tr>\n",
              "    <tr>\n",
              "      <th>1</th>\n",
              "      <td>2.3 Idiots(2009)</td>\n",
              "      <td>2009</td>\n",
              "    </tr>\n",
              "    <tr>\n",
              "      <th>2</th>\n",
              "      <td>3.Like Stars on Earth(2007)</td>\n",
              "      <td>2007</td>\n",
              "    </tr>\n",
              "    <tr>\n",
              "      <th>3</th>\n",
              "      <td>4.Dil Chahta Hai(2001)</td>\n",
              "      <td>2001</td>\n",
              "    </tr>\n",
              "    <tr>\n",
              "      <th>4</th>\n",
              "      <td>5.Swades(2004)</td>\n",
              "      <td>2004</td>\n",
              "    </tr>\n",
              "    <tr>\n",
              "      <th>...</th>\n",
              "      <td>...</td>\n",
              "      <td>...</td>\n",
              "    </tr>\n",
              "    <tr>\n",
              "      <th>95</th>\n",
              "      <td>96.Wake Up Sid(2009)</td>\n",
              "      <td>2009</td>\n",
              "    </tr>\n",
              "    <tr>\n",
              "      <th>96</th>\n",
              "      <td>97.Rangeela(1995)</td>\n",
              "      <td>1995</td>\n",
              "    </tr>\n",
              "    <tr>\n",
              "      <th>97</th>\n",
              "      <td>98.The Chess Players(1977)</td>\n",
              "      <td>1977</td>\n",
              "    </tr>\n",
              "    <tr>\n",
              "      <th>98</th>\n",
              "      <td>99.Pyaar Ka Punchnama(2011)</td>\n",
              "      <td>2011</td>\n",
              "    </tr>\n",
              "    <tr>\n",
              "      <th>99</th>\n",
              "      <td>100.Ek Hasina Thi(2004)</td>\n",
              "      <td>2004</td>\n",
              "    </tr>\n",
              "  </tbody>\n",
              "</table>\n",
              "<p>100 rows × 2 columns</p>\n",
              "</div>"
            ],
            "text/plain": [
              "                          Title  Year\n",
              "0       1.Rang De Basanti(2006)  2006\n",
              "1              2.3 Idiots(2009)  2009\n",
              "2   3.Like Stars on Earth(2007)  2007\n",
              "3        4.Dil Chahta Hai(2001)  2001\n",
              "4                5.Swades(2004)  2004\n",
              "..                          ...   ...\n",
              "95         96.Wake Up Sid(2009)  2009\n",
              "96            97.Rangeela(1995)  1995\n",
              "97   98.The Chess Players(1977)  1977\n",
              "98  99.Pyaar Ka Punchnama(2011)  2011\n",
              "99      100.Ek Hasina Thi(2004)  2004\n",
              "\n",
              "[100 rows x 2 columns]"
            ]
          },
          "metadata": {
            "tags": []
          },
          "execution_count": 23
        }
      ]
    },
    {
      "cell_type": "code",
      "metadata": {
        "id": "M2rO3d6JUWrt"
      },
      "source": [
        "for i in range(0,len(data['Title'])):\n",
        "  data['Title'][i]=data['Title'][i][:-6]\n",
        "\n",
        "for i in range(0,len(data['Title'])):\n",
        "  data['Title'][i]=data['Title'][i][2:] "
      ],
      "execution_count": 24,
      "outputs": []
    },
    {
      "cell_type": "code",
      "metadata": {
        "colab": {
          "base_uri": "https://localhost:8080/",
          "height": 419
        },
        "id": "6VySnjBCW6Mq",
        "outputId": "23b8f2af-1fcd-4a44-a641-b5b64f9aaced"
      },
      "source": [
        "data"
      ],
      "execution_count": 25,
      "outputs": [
        {
          "output_type": "execute_result",
          "data": {
            "text/html": [
              "<div>\n",
              "<style scoped>\n",
              "    .dataframe tbody tr th:only-of-type {\n",
              "        vertical-align: middle;\n",
              "    }\n",
              "\n",
              "    .dataframe tbody tr th {\n",
              "        vertical-align: top;\n",
              "    }\n",
              "\n",
              "    .dataframe thead th {\n",
              "        text-align: right;\n",
              "    }\n",
              "</style>\n",
              "<table border=\"1\" class=\"dataframe\">\n",
              "  <thead>\n",
              "    <tr style=\"text-align: right;\">\n",
              "      <th></th>\n",
              "      <th>Title</th>\n",
              "      <th>Year</th>\n",
              "    </tr>\n",
              "  </thead>\n",
              "  <tbody>\n",
              "    <tr>\n",
              "      <th>0</th>\n",
              "      <td>Rang De Basanti</td>\n",
              "      <td>2006</td>\n",
              "    </tr>\n",
              "    <tr>\n",
              "      <th>1</th>\n",
              "      <td>3 Idiots</td>\n",
              "      <td>2009</td>\n",
              "    </tr>\n",
              "    <tr>\n",
              "      <th>2</th>\n",
              "      <td>Like Stars on Earth</td>\n",
              "      <td>2007</td>\n",
              "    </tr>\n",
              "    <tr>\n",
              "      <th>3</th>\n",
              "      <td>Dil Chahta Hai</td>\n",
              "      <td>2001</td>\n",
              "    </tr>\n",
              "    <tr>\n",
              "      <th>4</th>\n",
              "      <td>Swades</td>\n",
              "      <td>2004</td>\n",
              "    </tr>\n",
              "    <tr>\n",
              "      <th>...</th>\n",
              "      <td>...</td>\n",
              "      <td>...</td>\n",
              "    </tr>\n",
              "    <tr>\n",
              "      <th>95</th>\n",
              "      <td>.Wake Up Sid</td>\n",
              "      <td>2009</td>\n",
              "    </tr>\n",
              "    <tr>\n",
              "      <th>96</th>\n",
              "      <td>.Rangeela</td>\n",
              "      <td>1995</td>\n",
              "    </tr>\n",
              "    <tr>\n",
              "      <th>97</th>\n",
              "      <td>.The Chess Players</td>\n",
              "      <td>1977</td>\n",
              "    </tr>\n",
              "    <tr>\n",
              "      <th>98</th>\n",
              "      <td>.Pyaar Ka Punchnama</td>\n",
              "      <td>2011</td>\n",
              "    </tr>\n",
              "    <tr>\n",
              "      <th>99</th>\n",
              "      <td>0.Ek Hasina Thi</td>\n",
              "      <td>2004</td>\n",
              "    </tr>\n",
              "  </tbody>\n",
              "</table>\n",
              "<p>100 rows × 2 columns</p>\n",
              "</div>"
            ],
            "text/plain": [
              "                  Title  Year\n",
              "0       Rang De Basanti  2006\n",
              "1              3 Idiots  2009\n",
              "2   Like Stars on Earth  2007\n",
              "3        Dil Chahta Hai  2001\n",
              "4                Swades  2004\n",
              "..                  ...   ...\n",
              "95         .Wake Up Sid  2009\n",
              "96            .Rangeela  1995\n",
              "97   .The Chess Players  1977\n",
              "98  .Pyaar Ka Punchnama  2011\n",
              "99      0.Ek Hasina Thi  2004\n",
              "\n",
              "[100 rows x 2 columns]"
            ]
          },
          "metadata": {
            "tags": []
          },
          "execution_count": 25
        }
      ]
    },
    {
      "cell_type": "code",
      "metadata": {
        "id": "CZ06Rr0yW_DH"
      },
      "source": [
        "data['Title']=data['Title'].str.replace('.','')"
      ],
      "execution_count": 26,
      "outputs": []
    },
    {
      "cell_type": "code",
      "metadata": {
        "id": "bqkTv7BaXHsx"
      },
      "source": [
        "data['runtime']=run_time"
      ],
      "execution_count": 27,
      "outputs": []
    },
    {
      "cell_type": "code",
      "metadata": {
        "id": "Erwbn3HhXgyk"
      },
      "source": [
        "data['Title']=data['Title'].str.replace('0Ek Hasina Thi','Ek Hasina Thi')"
      ],
      "execution_count": 28,
      "outputs": []
    },
    {
      "cell_type": "code",
      "metadata": {
        "id": "GX2d6vUfXtUU"
      },
      "source": [
        "data['Genre']=genre"
      ],
      "execution_count": 29,
      "outputs": []
    },
    {
      "cell_type": "code",
      "metadata": {
        "id": "-VB6nu-BXt9D"
      },
      "source": [
        "data['Rating']=rating"
      ],
      "execution_count": 30,
      "outputs": []
    },
    {
      "cell_type": "code",
      "metadata": {
        "colab": {
          "base_uri": "https://localhost:8080/",
          "height": 419
        },
        "id": "sT13BOmvX8FN",
        "outputId": "50d3a49f-55b5-4d72-ad6d-38da4d6a4d19"
      },
      "source": [
        "data"
      ],
      "execution_count": 31,
      "outputs": [
        {
          "output_type": "execute_result",
          "data": {
            "text/html": [
              "<div>\n",
              "<style scoped>\n",
              "    .dataframe tbody tr th:only-of-type {\n",
              "        vertical-align: middle;\n",
              "    }\n",
              "\n",
              "    .dataframe tbody tr th {\n",
              "        vertical-align: top;\n",
              "    }\n",
              "\n",
              "    .dataframe thead th {\n",
              "        text-align: right;\n",
              "    }\n",
              "</style>\n",
              "<table border=\"1\" class=\"dataframe\">\n",
              "  <thead>\n",
              "    <tr style=\"text-align: right;\">\n",
              "      <th></th>\n",
              "      <th>Title</th>\n",
              "      <th>Year</th>\n",
              "      <th>runtime</th>\n",
              "      <th>Genre</th>\n",
              "      <th>Rating</th>\n",
              "    </tr>\n",
              "  </thead>\n",
              "  <tbody>\n",
              "    <tr>\n",
              "      <th>0</th>\n",
              "      <td>Rang De Basanti</td>\n",
              "      <td>2006</td>\n",
              "      <td>167 min</td>\n",
              "      <td>Comedy, Crime, Drama</td>\n",
              "      <td>8.1</td>\n",
              "    </tr>\n",
              "    <tr>\n",
              "      <th>1</th>\n",
              "      <td>3 Idiots</td>\n",
              "      <td>2009</td>\n",
              "      <td>170 min</td>\n",
              "      <td>Comedy, Drama</td>\n",
              "      <td>8.4</td>\n",
              "    </tr>\n",
              "    <tr>\n",
              "      <th>2</th>\n",
              "      <td>Like Stars on Earth</td>\n",
              "      <td>2007</td>\n",
              "      <td>165 min</td>\n",
              "      <td>Drama, Family</td>\n",
              "      <td>8.4</td>\n",
              "    </tr>\n",
              "    <tr>\n",
              "      <th>3</th>\n",
              "      <td>Dil Chahta Hai</td>\n",
              "      <td>2001</td>\n",
              "      <td>183 min</td>\n",
              "      <td>Comedy, Drama, Romance</td>\n",
              "      <td>8.1</td>\n",
              "    </tr>\n",
              "    <tr>\n",
              "      <th>4</th>\n",
              "      <td>Swades</td>\n",
              "      <td>2004</td>\n",
              "      <td>189 min</td>\n",
              "      <td>Drama</td>\n",
              "      <td>8.2</td>\n",
              "    </tr>\n",
              "    <tr>\n",
              "      <th>...</th>\n",
              "      <td>...</td>\n",
              "      <td>...</td>\n",
              "      <td>...</td>\n",
              "      <td>...</td>\n",
              "      <td>...</td>\n",
              "    </tr>\n",
              "    <tr>\n",
              "      <th>95</th>\n",
              "      <td>Wake Up Sid</td>\n",
              "      <td>2009</td>\n",
              "      <td>138 min</td>\n",
              "      <td>Comedy, Drama, Romance</td>\n",
              "      <td>7.6</td>\n",
              "    </tr>\n",
              "    <tr>\n",
              "      <th>96</th>\n",
              "      <td>Rangeela</td>\n",
              "      <td>1995</td>\n",
              "      <td>142 min</td>\n",
              "      <td>Comedy, Drama, Musical</td>\n",
              "      <td>7.5</td>\n",
              "    </tr>\n",
              "    <tr>\n",
              "      <th>97</th>\n",
              "      <td>The Chess Players</td>\n",
              "      <td>1977</td>\n",
              "      <td>129 min</td>\n",
              "      <td>Comedy, Drama, History</td>\n",
              "      <td>7.6</td>\n",
              "    </tr>\n",
              "    <tr>\n",
              "      <th>98</th>\n",
              "      <td>Pyaar Ka Punchnama</td>\n",
              "      <td>2011</td>\n",
              "      <td>149 min</td>\n",
              "      <td>Comedy, Drama, Romance</td>\n",
              "      <td>7.6</td>\n",
              "    </tr>\n",
              "    <tr>\n",
              "      <th>99</th>\n",
              "      <td>Ek Hasina Thi</td>\n",
              "      <td>2004</td>\n",
              "      <td>120 min</td>\n",
              "      <td>Crime, Drama, Mystery</td>\n",
              "      <td>7.5</td>\n",
              "    </tr>\n",
              "  </tbody>\n",
              "</table>\n",
              "<p>100 rows × 5 columns</p>\n",
              "</div>"
            ],
            "text/plain": [
              "                  Title  Year  ...                               Genre Rating\n",
              "0       Rang De Basanti  2006  ...    Comedy, Crime, Drama                8.1\n",
              "1              3 Idiots  2009  ...           Comedy, Drama                8.4\n",
              "2   Like Stars on Earth  2007  ...           Drama, Family                8.4\n",
              "3        Dil Chahta Hai  2001  ...  Comedy, Drama, Romance                8.1\n",
              "4                Swades  2004  ...                   Drama                8.2\n",
              "..                  ...   ...  ...                                 ...    ...\n",
              "95          Wake Up Sid  2009  ...  Comedy, Drama, Romance                7.6\n",
              "96             Rangeela  1995  ...  Comedy, Drama, Musical                7.5\n",
              "97    The Chess Players  1977  ...  Comedy, Drama, History                7.6\n",
              "98   Pyaar Ka Punchnama  2011  ...  Comedy, Drama, Romance                7.6\n",
              "99        Ek Hasina Thi  2004  ...   Crime, Drama, Mystery                7.5\n",
              "\n",
              "[100 rows x 5 columns]"
            ]
          },
          "metadata": {
            "tags": []
          },
          "execution_count": 31
        }
      ]
    },
    {
      "cell_type": "markdown",
      "metadata": {
        "id": "83bohpW_bhx9"
      },
      "source": [
        "#I did some extra things to make my this project good"
      ]
    }
  ]
}
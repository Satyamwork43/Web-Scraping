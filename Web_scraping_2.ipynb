{
  "nbformat": 4,
  "nbformat_minor": 0,
  "metadata": {
    "colab": {
      "name": "Web scraping_2.ipynb",
      "provenance": []
    },
    "kernelspec": {
      "name": "python3",
      "display_name": "Python 3"
    },
    "language_info": {
      "name": "python"
    }
  },
  "cells": [
    {
      "cell_type": "markdown",
      "metadata": {
        "id": "SMAoBJYa5N-T"
      },
      "source": [
        "#Write a python program to display IMDB’s Top rated 100 movies’ data (i.e. Name, IMDB rating, Year of release) and make data frame"
      ]
    },
    {
      "cell_type": "code",
      "metadata": {
        "id": "1d7uKsfa5Gaq"
      },
      "source": [
        "import pandas as pd\n",
        "from bs4 import BeautifulSoup as bs\n",
        "import requests"
      ],
      "execution_count": 1,
      "outputs": []
    },
    {
      "cell_type": "code",
      "metadata": {
        "id": "9Yn7x_Nw5fT_"
      },
      "source": [
        "link='https://www.imdb.com/list/ls091520106/'"
      ],
      "execution_count": 2,
      "outputs": []
    },
    {
      "cell_type": "code",
      "metadata": {
        "colab": {
          "base_uri": "https://localhost:8080/"
        },
        "id": "W8cBuGzFEwTP",
        "outputId": "6609210a-4a6f-4d0d-94e4-0b43ec90cb8c"
      },
      "source": [
        "page=requests.get(link)\n",
        "page"
      ],
      "execution_count": 3,
      "outputs": [
        {
          "output_type": "execute_result",
          "data": {
            "text/plain": [
              "<Response [200]>"
            ]
          },
          "metadata": {
            "tags": []
          },
          "execution_count": 3
        }
      ]
    },
    {
      "cell_type": "code",
      "metadata": {
        "id": "L-c46OKZE0XZ"
      },
      "source": [
        "soup=bs(page.content,\"html.parser\")"
      ],
      "execution_count": 4,
      "outputs": []
    },
    {
      "cell_type": "code",
      "metadata": {
        "id": "SE-BL63yE9Op"
      },
      "source": [
        "H3=soup.find_all('h3',class_='lister-item-header')"
      ],
      "execution_count": 5,
      "outputs": []
    },
    {
      "cell_type": "code",
      "metadata": {
        "colab": {
          "base_uri": "https://localhost:8080/"
        },
        "id": "rH3VwXr-HtNr",
        "outputId": "49fd2084-e309-48d6-9fc6-5a66fe663733"
      },
      "source": [
        "len(H3)"
      ],
      "execution_count": 6,
      "outputs": [
        {
          "output_type": "execute_result",
          "data": {
            "text/plain": [
              "100"
            ]
          },
          "metadata": {
            "tags": []
          },
          "execution_count": 6
        }
      ]
    },
    {
      "cell_type": "code",
      "metadata": {
        "id": "O1SEJoKcFtYB"
      },
      "source": [
        "movie_title=[]\n",
        "for i in range(0,len(H3)):\n",
        "  movie_title.append(H3[i].get_text().replace(\"\\n\",\"\"))"
      ],
      "execution_count": 7,
      "outputs": []
    },
    {
      "cell_type": "code",
      "metadata": {
        "colab": {
          "base_uri": "https://localhost:8080/"
        },
        "id": "nizQpSgRGMLB",
        "outputId": "97de7df1-d9ae-4fac-c554-537da60b053a"
      },
      "source": [
        "movie_title"
      ],
      "execution_count": 8,
      "outputs": [
        {
          "output_type": "execute_result",
          "data": {
            "text/plain": [
              "['1.The Shawshank Redemption(1994)',\n",
              " '2.The Godfather(1972)',\n",
              " '3.The Godfather: Part II(1974)',\n",
              " '4.The Dark Knight(2008)',\n",
              " '5.12 Angry Men(1957)',\n",
              " \"6.Schindler's List(1993)\",\n",
              " '7.The Lord of the Rings: The Return of the King(2003)',\n",
              " '8.Pulp Fiction(1994)',\n",
              " '9.The Good, the Bad and the Ugly(1966)',\n",
              " '10.Fight Club(1999)',\n",
              " '11.Joker(2019)',\n",
              " '12.The Lord of the Rings: The Fellowship of the Ring(2001)',\n",
              " '13.Forrest Gump(1994)',\n",
              " '14.Inception(2010)',\n",
              " '15.Star Wars: Episode V - The Empire Strikes Back(1980)',\n",
              " '16.The Lord of the Rings: The Two Towers(2002)',\n",
              " '17.The Matrix(1999)',\n",
              " \"18.One Flew Over the Cuckoo's Nest(1975)\",\n",
              " '19.Goodfellas(1990)',\n",
              " '20.Seven Samurai(1954)',\n",
              " '21.Se7en(1995)',\n",
              " '22.City of God(2002)',\n",
              " '23.Life Is Beautiful(1997)',\n",
              " '24.The Silence of the Lambs(1991)',\n",
              " '25.Star Wars: Episode IV - A New Hope(1977)',\n",
              " \"26.It's a Wonderful Life(1946)\",\n",
              " '27.Saving Private Ryan(1998)',\n",
              " '28.Spirited Away(2001)',\n",
              " '29.The Green Mile(1999)',\n",
              " '30.Léon: The Professional(1994)',\n",
              " '31.Hara-Kiri(1962)',\n",
              " '32.Interstellar(2014)',\n",
              " '33.The Usual Suspects(1995)',\n",
              " '34.The Lion King(1994)',\n",
              " '35.American History X(1998)',\n",
              " '36.Back to the Future(1985)',\n",
              " '37.The Pianist(2002)',\n",
              " '38.Modern Times(1936)',\n",
              " '39.Terminator 2: Judgment Day(1991)',\n",
              " '40.The Intouchables(2011)',\n",
              " '41.Psycho(1960)',\n",
              " '42.Gladiator(2000)',\n",
              " '43.City Lights(1931)',\n",
              " '44.The Departed(2006)',\n",
              " '45.Whiplash(2014)',\n",
              " '46.Once Upon a Time in the West(1968)',\n",
              " '47.The Prestige(2006)',\n",
              " '48.Avengers: Endgame(2019)',\n",
              " '49.Casablanca(1942)',\n",
              " '50.Grave of the Fireflies(1988)',\n",
              " '51.Rear Window(1954)',\n",
              " '52.Cinema Paradiso(1988)',\n",
              " '53.Alien(1979)',\n",
              " '54.Indiana Jones and the Raiders of the Lost Ark(1981)',\n",
              " '55.Memento(2000)',\n",
              " '56.Apocalypse Now(1979)',\n",
              " '57.The Great Dictator(1940)',\n",
              " '58.The Lives of Others(2006)',\n",
              " '59.Avengers: Infinity War(2018)',\n",
              " '60.Django Unchained(2012)',\n",
              " '61.Spider-Man: Into the Spider-Verse(2018)',\n",
              " '62.The Shining(1980)',\n",
              " '63.Paths of Glory(1957)',\n",
              " '64.WALL·E(2008)',\n",
              " '65.Sunset Blvd.(1950)',\n",
              " '66.Dr. Strangelove or: How I Learned to Stop Worrying and Love the Bomb(1964)',\n",
              " '67.Princess Mononoke(1997)',\n",
              " '68.Oldboy(2003)',\n",
              " '69.Witness for the Prosecution(1957)',\n",
              " '70.The Dark Knight Rises(2012)',\n",
              " '71.Once Upon a Time in America(1984)',\n",
              " '72.Parasite(2019)',\n",
              " '73.Aliens(1986)',\n",
              " '74.American Beauty(1999)',\n",
              " '75.Coco(I) (2017)',\n",
              " '76.Your Name.(2016)',\n",
              " '77.Braveheart(1995)',\n",
              " '78.Das Boot(1981)',\n",
              " '79.3 Idiots(2009)',\n",
              " '80.Like Stars on Earth(2007)',\n",
              " '81.Star Wars: Episode VI - Return of the Jedi(1983)',\n",
              " '82.Toy Story(1995)',\n",
              " '83.Reservoir Dogs(1992)',\n",
              " '84.Amadeus(1984)',\n",
              " '85.Dangal(2016)',\n",
              " '86.Good Will Hunting(1997)',\n",
              " '87.Inglourious Basterds(2009)',\n",
              " '88.M(1931)',\n",
              " '89.Requiem for a Dream(2000)',\n",
              " '90.2001: A Space Odyssey(1968)',\n",
              " '91.Vertigo(1958)',\n",
              " '92.Eternal Sunshine of the Spotless Mind(2004)',\n",
              " '93.Citizen Kane(1941)',\n",
              " '94.Full Metal Jacket(1987)',\n",
              " '95.The Hunt(2012)',\n",
              " '96.North by Northwest(1959)',\n",
              " '97.A Clockwork Orange(1971)',\n",
              " '98.Snatch(2000)',\n",
              " '99.Amélie(2001)',\n",
              " '100.The Kid(1921)']"
            ]
          },
          "metadata": {
            "tags": []
          },
          "execution_count": 8
        }
      ]
    },
    {
      "cell_type": "code",
      "metadata": {
        "id": "S3GefutgGT1w"
      },
      "source": [
        "r1=soup.find_all('span',class_=\"runtime\")"
      ],
      "execution_count": 9,
      "outputs": []
    },
    {
      "cell_type": "code",
      "metadata": {
        "id": "1rm7hNO9IfJ2"
      },
      "source": [
        "run_time=[]\n",
        "for i in range(0,len(r1)):\n",
        "  run_time.append(r1[i].get_text().replace(\"/n\",\"\"))"
      ],
      "execution_count": 10,
      "outputs": []
    },
    {
      "cell_type": "code",
      "metadata": {
        "colab": {
          "base_uri": "https://localhost:8080/"
        },
        "id": "OxB66Ky9Ixn9",
        "outputId": "f305e7aa-8876-4495-9380-e6299f1047bb"
      },
      "source": [
        "len(run_time)"
      ],
      "execution_count": 11,
      "outputs": [
        {
          "output_type": "execute_result",
          "data": {
            "text/plain": [
              "100"
            ]
          },
          "metadata": {
            "tags": []
          },
          "execution_count": 11
        }
      ]
    },
    {
      "cell_type": "code",
      "metadata": {
        "id": "X5amONU7Iza_"
      },
      "source": [
        "g1=soup.find_all('span',class_=\"genre\")"
      ],
      "execution_count": 12,
      "outputs": []
    },
    {
      "cell_type": "code",
      "metadata": {
        "id": "Ic4FOE7WJD7u"
      },
      "source": [
        "genre=[]\n",
        "for i in range(0,len(g1)):\n",
        "  genre.append(g1[i].get_text().replace(\"\\n\",\"\"))"
      ],
      "execution_count": 13,
      "outputs": []
    },
    {
      "cell_type": "code",
      "metadata": {
        "colab": {
          "base_uri": "https://localhost:8080/"
        },
        "id": "gL-i7rb1JWH9",
        "outputId": "b6de384a-62d7-48b7-a04c-27c5ad5c8f6c"
      },
      "source": [
        "len(genre)"
      ],
      "execution_count": 14,
      "outputs": [
        {
          "output_type": "execute_result",
          "data": {
            "text/plain": [
              "100"
            ]
          },
          "metadata": {
            "tags": []
          },
          "execution_count": 14
        }
      ]
    },
    {
      "cell_type": "code",
      "metadata": {
        "id": "8gtPYYbPJXzB"
      },
      "source": [
        "rate=soup.find_all('div',class_=\"ipl-rating-star small\")"
      ],
      "execution_count": 15,
      "outputs": []
    },
    {
      "cell_type": "code",
      "metadata": {
        "id": "spoE2D1iJimu"
      },
      "source": [
        "rating=[]\n",
        "for i in range(0,len(rate)):\n",
        "  rating.append(rate[i].get_text().replace('\\n',''))"
      ],
      "execution_count": 16,
      "outputs": []
    },
    {
      "cell_type": "code",
      "metadata": {
        "colab": {
          "base_uri": "https://localhost:8080/"
        },
        "id": "I5Qfd1z1Jyvz",
        "outputId": "70294dee-4c64-4ea8-cf04-543e6280de34"
      },
      "source": [
        "len(rating)"
      ],
      "execution_count": 17,
      "outputs": [
        {
          "output_type": "execute_result",
          "data": {
            "text/plain": [
              "100"
            ]
          },
          "metadata": {
            "tags": []
          },
          "execution_count": 17
        }
      ]
    },
    {
      "cell_type": "code",
      "metadata": {
        "id": "9Z8WUxb0M-W3"
      },
      "source": [
        "p1=soup.find_all('p',class_='')"
      ],
      "execution_count": 18,
      "outputs": []
    },
    {
      "cell_type": "code",
      "metadata": {
        "id": "rVbsYW_gNZqa"
      },
      "source": [
        "about_movie=[]\n",
        "for i in range(0,len(p1)):\n",
        "  about_movie.append(p1[i].get_text().replace('\\n',''))"
      ],
      "execution_count": 19,
      "outputs": []
    },
    {
      "cell_type": "code",
      "metadata": {
        "id": "pWyCekYtQRGS"
      },
      "source": [
        "about_movie=about_movie[1:]"
      ],
      "execution_count": 20,
      "outputs": []
    },
    {
      "cell_type": "code",
      "metadata": {
        "colab": {
          "base_uri": "https://localhost:8080/"
        },
        "id": "wzLwAXKSYPPC",
        "outputId": "4542416b-1177-4fbe-9363-0157ff1089ff"
      },
      "source": [
        "about_movie"
      ],
      "execution_count": 21,
      "outputs": [
        {
          "output_type": "execute_result",
          "data": {
            "text/plain": [
              "['Two imprisoned men bond over a number of years, finding solace and eventual redemption through acts of common decency.',\n",
              " \"An organized crime dynasty's aging patriarch transfers control of his clandestine empire to his reluctant son.\",\n",
              " 'The early life and career of Vito Corleone in 1920s New York City is portrayed, while his son, Michael, expands and tightens his grip on the family crime syndicate.',\n",
              " 'When the menace known as the Joker wreaks havoc and chaos on the people of Gotham, Batman must accept one of the greatest psychological and physical tests of his ability to fight injustice.',\n",
              " 'A jury holdout attempts to prevent a miscarriage of justice by forcing his colleagues to reconsider the evidence.',\n",
              " 'In German-occupied Poland during World War II, industrialist Oskar Schindler gradually becomes concerned for his Jewish workforce after witnessing their persecution by the Nazis.',\n",
              " \"Gandalf and Aragorn lead the World of Men against Sauron's army to draw his gaze from Frodo and Sam as they approach Mount Doom with the One Ring.\",\n",
              " 'The lives of two mob hitmen, a boxer, a gangster and his wife, and a pair of diner bandits intertwine in four tales of violence and redemption.',\n",
              " 'A bounty hunting scam joins two men in an uneasy alliance against a third in a race to find a fortune in gold buried in a remote cemetery.',\n",
              " 'An insomniac office worker and a devil-may-care soap maker form an underground fight club that evolves into much more.',\n",
              " 'In Gotham City, mentally troubled comedian Arthur Fleck is disregarded and mistreated by society. He then embarks on a downward spiral of revolution and bloody crime. This path brings him face-to-face with his alter-ego: the Joker.',\n",
              " 'A meek Hobbit from the Shire and eight companions set out on a journey to destroy the powerful One Ring and save Middle-earth from the Dark Lord Sauron.',\n",
              " 'The presidencies of Kennedy and Johnson, the Vietnam War, the Watergate scandal and other historical events unfold from the perspective of an Alabama man with an IQ of 75, whose only desire is to be reunited with his childhood sweetheart.',\n",
              " 'A thief who steals corporate secrets through the use of dream-sharing technology is given the inverse task of planting an idea into the mind of a C.E.O.',\n",
              " 'After the Rebels are brutally overpowered by the Empire on the ice planet Hoth, Luke Skywalker begins Jedi training with Yoda, while his friends are pursued across the galaxy by Darth Vader and bounty hunter Boba Fett.',\n",
              " \"While Frodo and Sam edge closer to Mordor with the help of the shifty Gollum, the divided fellowship makes a stand against Sauron's new ally, Saruman, and his hordes of Isengard.\",\n",
              " 'When a beautiful stranger leads computer hacker Neo to a forbidding underworld, he discovers the shocking truth--the life he knows is the elaborate deception of an evil cyber-intelligence.',\n",
              " 'A criminal pleads insanity and is admitted to a mental institution, where he rebels against the oppressive nurse and rallies up the scared patients.',\n",
              " 'The story of Henry Hill and his life in the mob, covering his relationship with his wife Karen Hill and his mob partners Jimmy Conway and Tommy DeVito in the Italian-American crime syndicate.',\n",
              " 'A poor village under attack by bandits recruits seven unemployed samurai to help them defend themselves.',\n",
              " 'Two detectives, a rookie and a veteran, hunt a serial killer who uses the seven deadly sins as his motives.',\n",
              " \"In the slums of Rio, two kids' paths diverge as one struggles to become a photographer and the other a kingpin.\",\n",
              " 'When an open-minded Jewish librarian and his son become victims of the Holocaust, he uses a perfect mixture of will, humor, and imagination to protect his son from the dangers around their camp.',\n",
              " 'A young F.B.I. cadet must receive the help of an incarcerated and manipulative cannibal killer to help catch another serial killer, a madman who skins his victims.',\n",
              " \"Luke Skywalker joins forces with a Jedi Knight, a cocky pilot, a Wookiee and two droids to save the galaxy from the Empire's world-destroying battle station, while also attempting to rescue Princess Leia from the mysterious Darth Vader.\",\n",
              " 'An angel is sent from Heaven to help a desperately frustrated businessman by showing him what life would have been like if he had never existed.',\n",
              " 'Following the Normandy Landings, a group of U.S. soldiers go behind enemy lines to retrieve a paratrooper whose brothers have been killed in action.',\n",
              " \"During her family's move to the suburbs, a sullen 10-year-old girl wanders into a world ruled by gods, witches, and spirits, and where humans are changed into beasts.\",\n",
              " 'The lives of guards on Death Row are affected by one of their charges: a black man accused of child murder and rape, yet who has a mysterious gift.',\n",
              " \"Mathilda, a 12-year-old girl, is reluctantly taken in by Léon, a professional assassin, after her family is murdered. An unusual relationship forms as she becomes his protégée and learns the assassin's trade.\",\n",
              " \"When a ronin requesting seppuku at a feudal lord's palace is told of the brutal suicide of another ronin who previously visited, he reveals how their pasts are intertwined - and in doing so challenges the clan's integrity.\",\n",
              " \"A team of explorers travel through a wormhole in space in an attempt to ensure humanity's survival.\",\n",
              " 'A sole survivor tells of the twisty events leading up to a horrific gun battle on a boat, which began when five criminals met at a seemingly random police lineup.',\n",
              " 'Lion prince Simba and his father are targeted by his bitter uncle, who wants to ascend the throne himself.',\n",
              " 'A former neo-nazi skinhead tries to prevent his younger brother from going down the same wrong path that he did.',\n",
              " 'Marty McFly, a 17-year-old high school student, is accidentally sent thirty years into the past in a time-traveling DeLorean invented by his close friend, the eccentric scientist Doc Brown.',\n",
              " 'A Polish Jewish musician struggles to survive the destruction of the Warsaw ghetto of World War II.',\n",
              " 'The Tramp struggles to live in modern industrial society with the help of a young homeless woman.',\n",
              " 'A cyborg, identical to the one who failed to kill Sarah Connor, must now protect her ten year old son, John Connor, from a more advanced and powerful cyborg.',\n",
              " 'After he becomes a quadriplegic from a paragliding accident, an aristocrat hires a young man from the projects to be his caregiver.',\n",
              " \"A Phoenix secretary embezzles $40,000 from her employer's client, goes on the run, and checks into a remote motel run by a young man under the domination of his mother.\",\n",
              " 'A former Roman General sets out to exact vengeance against the corrupt emperor who murdered his family and sent him into slavery.',\n",
              " 'With the aid of a wealthy erratic tippler, a dewy-eyed tramp who has fallen in love with a sightless flower girl accumulates money to be able to help her medically.',\n",
              " 'An undercover cop and a mole in the police attempt to identify each other while infiltrating an Irish gang in South Boston.',\n",
              " \"A promising young drummer enrolls at a cut-throat music conservatory where his dreams of greatness are mentored by an instructor who will stop at nothing to realize a student's potential.\",\n",
              " 'A mysterious stranger with a harmonica joins forces with a notorious desperado to protect a beautiful widow from a ruthless assassin working for the railroad.',\n",
              " 'After a tragic accident, two stage magicians engage in a battle to create the ultimate illusion while sacrificing everything they have to outwit each other.',\n",
              " \"After the devastating events of Avengers: Infinity War (2018), the universe is in ruins. With the help of remaining allies, the Avengers assemble once more in order to reverse Thanos' actions and restore balance to the universe.\",\n",
              " 'A cynical expatriate American cafe owner struggles to decide whether or not to help his former lover and her fugitive husband escape the Nazis in French Morocco.',\n",
              " 'A young boy and his little sister struggle to survive in Japan during World War II.',\n",
              " 'A wheelchair-bound photographer spies on his neighbors from his apartment window and becomes convinced one of them has committed murder.',\n",
              " \"A filmmaker recalls his childhood when falling in love with the pictures at the cinema of his home village and forms a deep friendship with the cinema's projectionist.\",\n",
              " 'After a space merchant vessel receives an unknown transmission as a distress call, one of the crew is attacked by a mysterious life form and they soon realize that its life cycle has merely begun.',\n",
              " \"In 1936, archaeologist and adventurer Indiana Jones is hired by the U.S. government to find the Ark of the Covenant before Adolf Hitler's Nazis can obtain its awesome powers.\",\n",
              " \"A man with short-term memory loss attempts to track down his wife's murderer.\",\n",
              " 'A U.S. Army officer serving in Vietnam is tasked with assassinating a renegade Special Forces Colonel who sees himself as a god.',\n",
              " \"Dictator Adenoid Hynkel tries to expand his empire while a poor Jewish barber tries to avoid persecution from Hynkel's regime.\",\n",
              " 'In 1984 East Berlin, an agent of the secret police, conducting surveillance on a writer and his lover, finds himself becoming increasingly absorbed by their lives.',\n",
              " 'The Avengers and their allies must be willing to sacrifice all in an attempt to defeat the powerful Thanos before his blitz of devastation and ruin puts an end to the universe.',\n",
              " 'With the help of a German bounty-hunter, a freed slave sets out to rescue his wife from a brutal plantation-owner in Mississippi.',\n",
              " 'Teen Miles Morales becomes the Spider-Man of his universe, and must join with five spider-powered individuals from other dimensions to stop a threat for all realities.',\n",
              " 'A family heads to an isolated hotel for the winter where a sinister presence influences the father into violence, while his psychic son sees horrific forebodings from both past and future.',\n",
              " 'After refusing to attack an enemy position, a general accuses the soldiers of cowardice and their commanding officer must defend them.',\n",
              " 'In the distant future, a small waste-collecting robot inadvertently embarks on a space journey that will ultimately decide the fate of mankind.',\n",
              " 'A screenwriter develops a dangerous relationship with a faded film star determined to make a triumphant return.',\n",
              " 'An insane general triggers a path to nuclear holocaust that a War Room full of politicians and generals frantically tries to stop.',\n",
              " \"On a journey to find the cure for a Tatarigami's curse, Ashitaka finds himself in the middle of a war between the forest gods and Tatara, a mining colony. In this quest he also meets San, the Mononoke Hime.\",\n",
              " 'After being kidnapped and imprisoned for fifteen years, Oh Dae-Su is released, only to find that he must find his captor in five days.',\n",
              " 'A veteran British barrister must defend his client in a murder trial that has surprise after surprise.',\n",
              " \"Eight years after the Joker's reign of anarchy, Batman, with the help of the enigmatic Catwoman, is forced from his exile to save Gotham City from the brutal guerrilla terrorist Bane.\",\n",
              " 'A former Prohibition-era Jewish gangster returns to the Lower East Side of Manhattan over thirty years later, where he once again must confront the ghosts and regrets of his old life.',\n",
              " 'Greed and class discrimination threaten the newly formed symbiotic relationship between the wealthy Park family and the destitute Kim clan.',\n",
              " 'Fifty-seven years after surviving an apocalyptic attack aboard her space vessel by merciless space creatures, Officer Ripley awakens from hyper-sleep and tries to warn anyone who will listen about the predators.',\n",
              " \"A sexually frustrated suburban father has a mid-life crisis after becoming infatuated with his daughter's best friend.\",\n",
              " \"Aspiring musician Miguel, confronted with his family's ancestral ban on music, enters the Land of the Dead to find his great-great-grandfather, a legendary singer.\",\n",
              " 'Two strangers find themselves linked in a bizarre way. When a connection forms, will distance be the only thing to keep them apart?',\n",
              " 'Scottish warrior William Wallace leads his countrymen in a rebellion to free his homeland from the tyranny of King Edward I of England.',\n",
              " 'The claustrophobic world of a WWII German U-boat; boredom, filth and sheer terror.',\n",
              " 'Two friends are searching for their long lost companion. They revisit their college days and recall the memories of their friend who inspired them to think differently, even as the rest of the world called them \"idiots\".',\n",
              " 'An eight-year-old boy is thought to be a lazy trouble-maker, until the new art teacher has the patience and compassion to discover the real problem behind his struggles in school.',\n",
              " \"After a daring mission to rescue Han Solo from Jabba the Hutt, the Rebels dispatch to Endor to destroy the second Death Star. Meanwhile, Luke struggles to help Darth Vader back from the dark side without falling into the Emperor's trap.\",\n",
              " \"A cowboy doll is profoundly threatened and jealous when a new spaceman figure supplants him as top toy in a boy's room.\",\n",
              " 'When a simple jewelry heist goes horribly wrong, the surviving criminals begin to suspect that one of them is a police informant.',\n",
              " \"The life, success and troubles of Wolfgang Amadeus Mozart, as told by Antonio Salieri, the contemporaneous composer who was insanely jealous of Mozart's talent and claimed to have murdered him.\",\n",
              " 'Former wrestler Mahavir Singh Phogat and his two wrestler daughters struggle towards glory at the Commonwealth Games in the face of societal oppression.',\n",
              " 'Will Hunting, a janitor at M.I.T., has a gift for mathematics, but needs help from a psychologist to find direction in his life.',\n",
              " \"In Nazi-occupied France during World War II, a plan to assassinate Nazi leaders by a group of Jewish U.S. soldiers coincides with a theatre owner's vengeful plans for the same.\",\n",
              " 'When the police in a German city are unable to catch a child-murderer, other criminals join in the manhunt.',\n",
              " 'The drug-induced utopias of four Coney Island people are shattered when their addictions run deep.',\n",
              " 'After discovering a mysterious artifact buried beneath the Lunar surface, mankind sets off on a quest to find its origins with help from intelligent supercomputer H.A.L. 9000.',\n",
              " 'A former police detective juggles wrestling with his personal demons and becoming obsessed with a hauntingly beautiful woman.',\n",
              " 'When their relationship turns sour, a couple undergoes a medical procedure to have each other erased from their memories.',\n",
              " \"Following the death of publishing tycoon Charles Foster Kane, reporters scramble to uncover the meaning of his final utterance; 'Rosebud'.\",\n",
              " 'A pragmatic U.S. Marine observes the dehumanizing effects the Vietnam War has on his fellow recruits from their brutal boot camp training to the bloody street fighting in Hue.',\n",
              " \"A teacher lives a lonely life, all the while struggling over his son's custody. His life slowly gets better as he finds love and receives good news from his son, but his new luck is about to be brutally shattered by an innocent little lie.\",\n",
              " 'A New York City advertising executive goes on the run after being mistaken for a government agent by a group of foreign spies.',\n",
              " \"In the future, a sadistic gang leader is imprisoned and volunteers for a conduct-aversion experiment, but it doesn't go as planned.\",\n",
              " 'Unscrupulous boxing promoters, violent bookmakers, a Russian gangster, incompetent amateur robbers and supposedly Jewish jewelers fight to track down a priceless stolen diamond.',\n",
              " 'Amélie is an innocent and naive girl in Paris with her own sense of justice. She decides to help those around her and, along the way, discovers love.',\n",
              " 'The Tramp cares for an abandoned child, but events put that relationship in jeopardy.']"
            ]
          },
          "metadata": {
            "tags": []
          },
          "execution_count": 21
        }
      ]
    },
    {
      "cell_type": "code",
      "metadata": {
        "id": "VSwnaT32PVGh"
      },
      "source": [
        "y1=soup.find_all('span',class_=\"lister-item-year text-muted unbold\")"
      ],
      "execution_count": 22,
      "outputs": []
    },
    {
      "cell_type": "code",
      "metadata": {
        "id": "ytjEJS3vQ3Lo"
      },
      "source": [
        "year=[]\n",
        "for i in range(0,len(y1)):\n",
        "  year.append(y1[i].get_text())"
      ],
      "execution_count": 23,
      "outputs": []
    },
    {
      "cell_type": "code",
      "metadata": {
        "colab": {
          "base_uri": "https://localhost:8080/"
        },
        "id": "Fqb7vdbyRFRc",
        "outputId": "7358c0f0-9649-44dd-d8f5-2b838165d370"
      },
      "source": [
        "len(year)"
      ],
      "execution_count": 24,
      "outputs": [
        {
          "output_type": "execute_result",
          "data": {
            "text/plain": [
              "100"
            ]
          },
          "metadata": {
            "tags": []
          },
          "execution_count": 24
        }
      ]
    },
    {
      "cell_type": "code",
      "metadata": {
        "id": "qUSfi7cZRFwM"
      },
      "source": [
        "data=pd.DataFrame(movie_title,columns=['Title'])"
      ],
      "execution_count": 25,
      "outputs": []
    },
    {
      "cell_type": "code",
      "metadata": {
        "id": "byVlrSZ_Sgnh"
      },
      "source": [
        "data['Year']=data['Title'].str.extract(r\"\\((.*?)\\)\", expand=False)"
      ],
      "execution_count": 26,
      "outputs": []
    },
    {
      "cell_type": "code",
      "metadata": {
        "colab": {
          "base_uri": "https://localhost:8080/",
          "height": 419
        },
        "id": "s_oLTv1QSwyj",
        "outputId": "a5146378-2c65-4937-dd1f-d2fe3ddc8756"
      },
      "source": [
        "data"
      ],
      "execution_count": 27,
      "outputs": [
        {
          "output_type": "execute_result",
          "data": {
            "text/html": [
              "<div>\n",
              "<style scoped>\n",
              "    .dataframe tbody tr th:only-of-type {\n",
              "        vertical-align: middle;\n",
              "    }\n",
              "\n",
              "    .dataframe tbody tr th {\n",
              "        vertical-align: top;\n",
              "    }\n",
              "\n",
              "    .dataframe thead th {\n",
              "        text-align: right;\n",
              "    }\n",
              "</style>\n",
              "<table border=\"1\" class=\"dataframe\">\n",
              "  <thead>\n",
              "    <tr style=\"text-align: right;\">\n",
              "      <th></th>\n",
              "      <th>Title</th>\n",
              "      <th>Year</th>\n",
              "    </tr>\n",
              "  </thead>\n",
              "  <tbody>\n",
              "    <tr>\n",
              "      <th>0</th>\n",
              "      <td>1.The Shawshank Redemption(1994)</td>\n",
              "      <td>1994</td>\n",
              "    </tr>\n",
              "    <tr>\n",
              "      <th>1</th>\n",
              "      <td>2.The Godfather(1972)</td>\n",
              "      <td>1972</td>\n",
              "    </tr>\n",
              "    <tr>\n",
              "      <th>2</th>\n",
              "      <td>3.The Godfather: Part II(1974)</td>\n",
              "      <td>1974</td>\n",
              "    </tr>\n",
              "    <tr>\n",
              "      <th>3</th>\n",
              "      <td>4.The Dark Knight(2008)</td>\n",
              "      <td>2008</td>\n",
              "    </tr>\n",
              "    <tr>\n",
              "      <th>4</th>\n",
              "      <td>5.12 Angry Men(1957)</td>\n",
              "      <td>1957</td>\n",
              "    </tr>\n",
              "    <tr>\n",
              "      <th>...</th>\n",
              "      <td>...</td>\n",
              "      <td>...</td>\n",
              "    </tr>\n",
              "    <tr>\n",
              "      <th>95</th>\n",
              "      <td>96.North by Northwest(1959)</td>\n",
              "      <td>1959</td>\n",
              "    </tr>\n",
              "    <tr>\n",
              "      <th>96</th>\n",
              "      <td>97.A Clockwork Orange(1971)</td>\n",
              "      <td>1971</td>\n",
              "    </tr>\n",
              "    <tr>\n",
              "      <th>97</th>\n",
              "      <td>98.Snatch(2000)</td>\n",
              "      <td>2000</td>\n",
              "    </tr>\n",
              "    <tr>\n",
              "      <th>98</th>\n",
              "      <td>99.Amélie(2001)</td>\n",
              "      <td>2001</td>\n",
              "    </tr>\n",
              "    <tr>\n",
              "      <th>99</th>\n",
              "      <td>100.The Kid(1921)</td>\n",
              "      <td>1921</td>\n",
              "    </tr>\n",
              "  </tbody>\n",
              "</table>\n",
              "<p>100 rows × 2 columns</p>\n",
              "</div>"
            ],
            "text/plain": [
              "                               Title  Year\n",
              "0   1.The Shawshank Redemption(1994)  1994\n",
              "1              2.The Godfather(1972)  1972\n",
              "2     3.The Godfather: Part II(1974)  1974\n",
              "3            4.The Dark Knight(2008)  2008\n",
              "4               5.12 Angry Men(1957)  1957\n",
              "..                               ...   ...\n",
              "95       96.North by Northwest(1959)  1959\n",
              "96       97.A Clockwork Orange(1971)  1971\n",
              "97                   98.Snatch(2000)  2000\n",
              "98                   99.Amélie(2001)  2001\n",
              "99                 100.The Kid(1921)  1921\n",
              "\n",
              "[100 rows x 2 columns]"
            ]
          },
          "metadata": {
            "tags": []
          },
          "execution_count": 27
        }
      ]
    },
    {
      "cell_type": "code",
      "metadata": {
        "id": "M2rO3d6JUWrt"
      },
      "source": [
        "for i in range(0,len(data['Title'])):\n",
        "  data['Title'][i]=data['Title'][i][:-6]\n",
        "\n",
        "for i in range(0,len(data['Title'])):\n",
        "  data['Title'][i]=data['Title'][i][2:] "
      ],
      "execution_count": 28,
      "outputs": []
    },
    {
      "cell_type": "code",
      "metadata": {
        "colab": {
          "base_uri": "https://localhost:8080/",
          "height": 419
        },
        "id": "6VySnjBCW6Mq",
        "outputId": "5666544d-90c1-4c8e-b81b-d513074f6183"
      },
      "source": [
        "data"
      ],
      "execution_count": 29,
      "outputs": [
        {
          "output_type": "execute_result",
          "data": {
            "text/html": [
              "<div>\n",
              "<style scoped>\n",
              "    .dataframe tbody tr th:only-of-type {\n",
              "        vertical-align: middle;\n",
              "    }\n",
              "\n",
              "    .dataframe tbody tr th {\n",
              "        vertical-align: top;\n",
              "    }\n",
              "\n",
              "    .dataframe thead th {\n",
              "        text-align: right;\n",
              "    }\n",
              "</style>\n",
              "<table border=\"1\" class=\"dataframe\">\n",
              "  <thead>\n",
              "    <tr style=\"text-align: right;\">\n",
              "      <th></th>\n",
              "      <th>Title</th>\n",
              "      <th>Year</th>\n",
              "    </tr>\n",
              "  </thead>\n",
              "  <tbody>\n",
              "    <tr>\n",
              "      <th>0</th>\n",
              "      <td>The Shawshank Redemption</td>\n",
              "      <td>1994</td>\n",
              "    </tr>\n",
              "    <tr>\n",
              "      <th>1</th>\n",
              "      <td>The Godfather</td>\n",
              "      <td>1972</td>\n",
              "    </tr>\n",
              "    <tr>\n",
              "      <th>2</th>\n",
              "      <td>The Godfather: Part II</td>\n",
              "      <td>1974</td>\n",
              "    </tr>\n",
              "    <tr>\n",
              "      <th>3</th>\n",
              "      <td>The Dark Knight</td>\n",
              "      <td>2008</td>\n",
              "    </tr>\n",
              "    <tr>\n",
              "      <th>4</th>\n",
              "      <td>12 Angry Men</td>\n",
              "      <td>1957</td>\n",
              "    </tr>\n",
              "    <tr>\n",
              "      <th>...</th>\n",
              "      <td>...</td>\n",
              "      <td>...</td>\n",
              "    </tr>\n",
              "    <tr>\n",
              "      <th>95</th>\n",
              "      <td>.North by Northwest</td>\n",
              "      <td>1959</td>\n",
              "    </tr>\n",
              "    <tr>\n",
              "      <th>96</th>\n",
              "      <td>.A Clockwork Orange</td>\n",
              "      <td>1971</td>\n",
              "    </tr>\n",
              "    <tr>\n",
              "      <th>97</th>\n",
              "      <td>.Snatch</td>\n",
              "      <td>2000</td>\n",
              "    </tr>\n",
              "    <tr>\n",
              "      <th>98</th>\n",
              "      <td>.Amélie</td>\n",
              "      <td>2001</td>\n",
              "    </tr>\n",
              "    <tr>\n",
              "      <th>99</th>\n",
              "      <td>0.The Kid</td>\n",
              "      <td>1921</td>\n",
              "    </tr>\n",
              "  </tbody>\n",
              "</table>\n",
              "<p>100 rows × 2 columns</p>\n",
              "</div>"
            ],
            "text/plain": [
              "                       Title  Year\n",
              "0   The Shawshank Redemption  1994\n",
              "1              The Godfather  1972\n",
              "2     The Godfather: Part II  1974\n",
              "3            The Dark Knight  2008\n",
              "4               12 Angry Men  1957\n",
              "..                       ...   ...\n",
              "95       .North by Northwest  1959\n",
              "96       .A Clockwork Orange  1971\n",
              "97                   .Snatch  2000\n",
              "98                   .Amélie  2001\n",
              "99                 0.The Kid  1921\n",
              "\n",
              "[100 rows x 2 columns]"
            ]
          },
          "metadata": {
            "tags": []
          },
          "execution_count": 29
        }
      ]
    },
    {
      "cell_type": "code",
      "metadata": {
        "id": "CZ06Rr0yW_DH"
      },
      "source": [
        "data['Title']=data['Title'].str.replace('.','')"
      ],
      "execution_count": 30,
      "outputs": []
    },
    {
      "cell_type": "code",
      "metadata": {
        "id": "bqkTv7BaXHsx"
      },
      "source": [
        "data['runtime']=run_time"
      ],
      "execution_count": 31,
      "outputs": []
    },
    {
      "cell_type": "code",
      "metadata": {
        "id": "Erwbn3HhXgyk"
      },
      "source": [
        "data['Title']=data['Title'].str.replace('0The Kid','The Kid')"
      ],
      "execution_count": 32,
      "outputs": []
    },
    {
      "cell_type": "code",
      "metadata": {
        "id": "GX2d6vUfXtUU"
      },
      "source": [
        "data['Genre']=genre"
      ],
      "execution_count": 33,
      "outputs": []
    },
    {
      "cell_type": "code",
      "metadata": {
        "id": "-VB6nu-BXt9D"
      },
      "source": [
        "data['Rating']=rating"
      ],
      "execution_count": 34,
      "outputs": []
    },
    {
      "cell_type": "code",
      "metadata": {
        "id": "FyV92QAPX7hk"
      },
      "source": [
        "data['About_Movie']=about_movie"
      ],
      "execution_count": 35,
      "outputs": []
    },
    {
      "cell_type": "code",
      "metadata": {
        "colab": {
          "base_uri": "https://localhost:8080/",
          "height": 419
        },
        "id": "sT13BOmvX8FN",
        "outputId": "dba22a30-f25c-410c-8fec-8de7ecbb20bb"
      },
      "source": [
        "data"
      ],
      "execution_count": 36,
      "outputs": [
        {
          "output_type": "execute_result",
          "data": {
            "text/html": [
              "<div>\n",
              "<style scoped>\n",
              "    .dataframe tbody tr th:only-of-type {\n",
              "        vertical-align: middle;\n",
              "    }\n",
              "\n",
              "    .dataframe tbody tr th {\n",
              "        vertical-align: top;\n",
              "    }\n",
              "\n",
              "    .dataframe thead th {\n",
              "        text-align: right;\n",
              "    }\n",
              "</style>\n",
              "<table border=\"1\" class=\"dataframe\">\n",
              "  <thead>\n",
              "    <tr style=\"text-align: right;\">\n",
              "      <th></th>\n",
              "      <th>Title</th>\n",
              "      <th>Year</th>\n",
              "      <th>runtime</th>\n",
              "      <th>Genre</th>\n",
              "      <th>Rating</th>\n",
              "      <th>About_Movie</th>\n",
              "    </tr>\n",
              "  </thead>\n",
              "  <tbody>\n",
              "    <tr>\n",
              "      <th>0</th>\n",
              "      <td>The Shawshank Redemption</td>\n",
              "      <td>1994</td>\n",
              "      <td>142 min</td>\n",
              "      <td>Drama</td>\n",
              "      <td>9.3</td>\n",
              "      <td>Two imprisoned men bond over a number of years...</td>\n",
              "    </tr>\n",
              "    <tr>\n",
              "      <th>1</th>\n",
              "      <td>The Godfather</td>\n",
              "      <td>1972</td>\n",
              "      <td>175 min</td>\n",
              "      <td>Crime, Drama</td>\n",
              "      <td>9.2</td>\n",
              "      <td>An organized crime dynasty's aging patriarch t...</td>\n",
              "    </tr>\n",
              "    <tr>\n",
              "      <th>2</th>\n",
              "      <td>The Godfather: Part II</td>\n",
              "      <td>1974</td>\n",
              "      <td>202 min</td>\n",
              "      <td>Crime, Drama</td>\n",
              "      <td>9</td>\n",
              "      <td>The early life and career of Vito Corleone in ...</td>\n",
              "    </tr>\n",
              "    <tr>\n",
              "      <th>3</th>\n",
              "      <td>The Dark Knight</td>\n",
              "      <td>2008</td>\n",
              "      <td>152 min</td>\n",
              "      <td>Action, Crime, Drama</td>\n",
              "      <td>9</td>\n",
              "      <td>When the menace known as the Joker wreaks havo...</td>\n",
              "    </tr>\n",
              "    <tr>\n",
              "      <th>4</th>\n",
              "      <td>12 Angry Men</td>\n",
              "      <td>1957</td>\n",
              "      <td>96 min</td>\n",
              "      <td>Crime, Drama</td>\n",
              "      <td>9</td>\n",
              "      <td>A jury holdout attempts to prevent a miscarria...</td>\n",
              "    </tr>\n",
              "    <tr>\n",
              "      <th>...</th>\n",
              "      <td>...</td>\n",
              "      <td>...</td>\n",
              "      <td>...</td>\n",
              "      <td>...</td>\n",
              "      <td>...</td>\n",
              "      <td>...</td>\n",
              "    </tr>\n",
              "    <tr>\n",
              "      <th>95</th>\n",
              "      <td>North by Northwest</td>\n",
              "      <td>1959</td>\n",
              "      <td>136 min</td>\n",
              "      <td>Adventure, Mystery, Thriller</td>\n",
              "      <td>8.3</td>\n",
              "      <td>A New York City advertising executive goes on ...</td>\n",
              "    </tr>\n",
              "    <tr>\n",
              "      <th>96</th>\n",
              "      <td>A Clockwork Orange</td>\n",
              "      <td>1971</td>\n",
              "      <td>136 min</td>\n",
              "      <td>Crime, Drama, Sci-Fi</td>\n",
              "      <td>8.3</td>\n",
              "      <td>In the future, a sadistic gang leader is impri...</td>\n",
              "    </tr>\n",
              "    <tr>\n",
              "      <th>97</th>\n",
              "      <td>Snatch</td>\n",
              "      <td>2000</td>\n",
              "      <td>102 min</td>\n",
              "      <td>Comedy, Crime</td>\n",
              "      <td>8.3</td>\n",
              "      <td>Unscrupulous boxing promoters, violent bookmak...</td>\n",
              "    </tr>\n",
              "    <tr>\n",
              "      <th>98</th>\n",
              "      <td>Amélie</td>\n",
              "      <td>2001</td>\n",
              "      <td>122 min</td>\n",
              "      <td>Comedy, Romance</td>\n",
              "      <td>8.3</td>\n",
              "      <td>Amélie is an innocent and naive girl in Paris ...</td>\n",
              "    </tr>\n",
              "    <tr>\n",
              "      <th>99</th>\n",
              "      <td>The Kid</td>\n",
              "      <td>1921</td>\n",
              "      <td>68 min</td>\n",
              "      <td>Comedy, Drama, Family</td>\n",
              "      <td>8.3</td>\n",
              "      <td>The Tramp cares for an abandoned child, but ev...</td>\n",
              "    </tr>\n",
              "  </tbody>\n",
              "</table>\n",
              "<p>100 rows × 6 columns</p>\n",
              "</div>"
            ],
            "text/plain": [
              "                       Title  ...                                        About_Movie\n",
              "0   The Shawshank Redemption  ...  Two imprisoned men bond over a number of years...\n",
              "1              The Godfather  ...  An organized crime dynasty's aging patriarch t...\n",
              "2     The Godfather: Part II  ...  The early life and career of Vito Corleone in ...\n",
              "3            The Dark Knight  ...  When the menace known as the Joker wreaks havo...\n",
              "4               12 Angry Men  ...  A jury holdout attempts to prevent a miscarria...\n",
              "..                       ...  ...                                                ...\n",
              "95        North by Northwest  ...  A New York City advertising executive goes on ...\n",
              "96        A Clockwork Orange  ...  In the future, a sadistic gang leader is impri...\n",
              "97                    Snatch  ...  Unscrupulous boxing promoters, violent bookmak...\n",
              "98                    Amélie  ...  Amélie is an innocent and naive girl in Paris ...\n",
              "99                   The Kid  ...  The Tramp cares for an abandoned child, but ev...\n",
              "\n",
              "[100 rows x 6 columns]"
            ]
          },
          "metadata": {
            "tags": []
          },
          "execution_count": 36
        }
      ]
    },
    {
      "cell_type": "markdown",
      "metadata": {
        "id": "83bohpW_bhx9"
      },
      "source": [
        "#I did some extra things to make my this project good"
      ]
    }
  ]
}
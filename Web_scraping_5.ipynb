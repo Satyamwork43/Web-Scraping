{
  "nbformat": 4,
  "nbformat_minor": 0,
  "metadata": {
    "colab": {
      "name": "Web scraping_5.ipynb",
      "provenance": []
    },
    "kernelspec": {
      "name": "python3",
      "display_name": "Python 3"
    },
    "language_info": {
      "name": "python"
    }
  },
  "cells": [
    {
      "cell_type": "markdown",
      "metadata": {
        "id": "SMAoBJYa5N-T"
      },
      "source": [
        "#Write a python program to scrape cricket rankings from ‘www.icc-cricket.com’. You have to scrape:\n",
        "i) Top 10 ODI teams in men’s cricket along with the records for matches, points and rating.\n",
        "ii) Top 10 ODI Batsmen in men along with the records of their team and rating.\n",
        "iii) Top 10 ODI bowlers along with the records of their team and rating"
      ]
    },
    {
      "cell_type": "code",
      "metadata": {
        "id": "1d7uKsfa5Gaq"
      },
      "source": [
        "import pandas as pd\n",
        "from bs4 import BeautifulSoup as bs\n",
        "import requests"
      ],
      "execution_count": 1,
      "outputs": []
    },
    {
      "cell_type": "code",
      "metadata": {
        "id": "9Yn7x_Nw5fT_"
      },
      "source": [
        "link='https://www.icc-cricket.com/rankings/mens/team-rankings/odi'"
      ],
      "execution_count": 2,
      "outputs": []
    },
    {
      "cell_type": "code",
      "metadata": {
        "colab": {
          "base_uri": "https://localhost:8080/"
        },
        "id": "W8cBuGzFEwTP",
        "outputId": "b36d3a6e-92e6-4464-d7d7-9e55b057bedd"
      },
      "source": [
        "page=requests.get(link)\n",
        "page"
      ],
      "execution_count": 3,
      "outputs": [
        {
          "output_type": "execute_result",
          "data": {
            "text/plain": [
              "<Response [200]>"
            ]
          },
          "metadata": {
            "tags": []
          },
          "execution_count": 3
        }
      ]
    },
    {
      "cell_type": "code",
      "metadata": {
        "id": "L-c46OKZE0XZ"
      },
      "source": [
        "soup=bs(page.content,\"html.parser\")"
      ],
      "execution_count": 4,
      "outputs": []
    },
    {
      "cell_type": "code",
      "metadata": {
        "id": "SE-BL63yE9Op"
      },
      "source": [
        "T=soup.find_all('span',class_=\"u-hide-phablet\")"
      ],
      "execution_count": 5,
      "outputs": []
    },
    {
      "cell_type": "code",
      "metadata": {
        "colab": {
          "base_uri": "https://localhost:8080/"
        },
        "id": "rH3VwXr-HtNr",
        "outputId": "9617e54f-acad-46cf-ee07-c8e7a16a3a9c"
      },
      "source": [
        "len(T)"
      ],
      "execution_count": 6,
      "outputs": [
        {
          "output_type": "execute_result",
          "data": {
            "text/plain": [
              "25"
            ]
          },
          "metadata": {
            "tags": []
          },
          "execution_count": 6
        }
      ]
    },
    {
      "cell_type": "code",
      "metadata": {
        "id": "O1SEJoKcFtYB"
      },
      "source": [
        "Team_Name=[]\n",
        "for i in range(0,len(T)):\n",
        "  Team_Name.append(T[i].get_text().replace(\"\\n\",\"\"))"
      ],
      "execution_count": 7,
      "outputs": []
    },
    {
      "cell_type": "code",
      "metadata": {
        "colab": {
          "base_uri": "https://localhost:8080/"
        },
        "id": "nizQpSgRGMLB",
        "outputId": "f370a55c-d75f-44bc-ddc5-1c59c4eb9cd7"
      },
      "source": [
        "Team_Name=Team_Name[:10]\n",
        "Team_Name"
      ],
      "execution_count": 8,
      "outputs": [
        {
          "output_type": "execute_result",
          "data": {
            "text/plain": [
              "['New Zealand',\n",
              " 'Australia',\n",
              " 'India',\n",
              " 'England',\n",
              " 'South Africa',\n",
              " 'Pakistan',\n",
              " 'Bangladesh',\n",
              " 'West Indies',\n",
              " 'Sri Lanka',\n",
              " 'Afghanistan']"
            ]
          },
          "metadata": {
            "tags": []
          },
          "execution_count": 8
        }
      ]
    },
    {
      "cell_type": "code",
      "metadata": {
        "id": "S3GefutgGT1w"
      },
      "source": [
        "M=soup.find_all('td',class_=\"rankings-block__banner--matches\")"
      ],
      "execution_count": 9,
      "outputs": []
    },
    {
      "cell_type": "code",
      "metadata": {
        "id": "1rm7hNO9IfJ2"
      },
      "source": [
        "Match=[]\n",
        "for i in range(0,len(M)):\n",
        "  Match.append(M[i].get_text().replace(\"\\n\",\"\"))"
      ],
      "execution_count": 10,
      "outputs": []
    },
    {
      "cell_type": "code",
      "metadata": {
        "colab": {
          "base_uri": "https://localhost:8080/"
        },
        "id": "OxB66Ky9Ixn9",
        "outputId": "7fe3d7d5-b779-46dd-e81d-138bc8edaf88"
      },
      "source": [
        "Match"
      ],
      "execution_count": 11,
      "outputs": [
        {
          "output_type": "execute_result",
          "data": {
            "text/plain": [
              "['17']"
            ]
          },
          "metadata": {
            "tags": []
          },
          "execution_count": 11
        }
      ]
    },
    {
      "cell_type": "code",
      "metadata": {
        "id": "pzrVQa0CdEim"
      },
      "source": [
        "top_matches=soup.find_all('td',class_=\"table-body__cell u-center-text\")"
      ],
      "execution_count": 12,
      "outputs": []
    },
    {
      "cell_type": "code",
      "metadata": {
        "id": "74ypeYcrd516"
      },
      "source": [
        "tops_match=[]\n",
        "for i in top_matches:\n",
        "  tops_match.append(i.text.replace(\"\\n\",\"\"))"
      ],
      "execution_count": 13,
      "outputs": []
    },
    {
      "cell_type": "code",
      "metadata": {
        "colab": {
          "base_uri": "https://localhost:8080/"
        },
        "id": "qsvSDa0beOFU",
        "outputId": "ab260313-d5aa-4b9c-d7eb-2110dbf794ab"
      },
      "source": [
        "tops_match"
      ],
      "execution_count": 14,
      "outputs": [
        {
          "output_type": "execute_result",
          "data": {
            "text/plain": [
              "['25',\n",
              " '2,945',\n",
              " '29',\n",
              " '3,344',\n",
              " '27',\n",
              " '3,100',\n",
              " '20',\n",
              " '2,137',\n",
              " '24',\n",
              " '2,323',\n",
              " '27',\n",
              " '2,438',\n",
              " '27',\n",
              " '2,222',\n",
              " '24',\n",
              " '1,876',\n",
              " '17',\n",
              " '1,054',\n",
              " '7',\n",
              " '336',\n",
              " '21',\n",
              " '897',\n",
              " '15',\n",
              " '588',\n",
              " '7',\n",
              " '258',\n",
              " '7',\n",
              " '240',\n",
              " '5',\n",
              " '119',\n",
              " '9',\n",
              " '190',\n",
              " '6',\n",
              " '97',\n",
              " '8',\n",
              " '93',\n",
              " '5',\n",
              " '0']"
            ]
          },
          "metadata": {
            "tags": []
          },
          "execution_count": 14
        }
      ]
    },
    {
      "cell_type": "code",
      "metadata": {
        "id": "dTEvZKlKvLpp"
      },
      "source": [
        "#full=soup.find_all('td',class_='rankings-block__banner--matches')\n",
        "#full"
      ],
      "execution_count": 15,
      "outputs": []
    },
    {
      "cell_type": "code",
      "metadata": {
        "id": "Age19NbuvLmR"
      },
      "source": [
        "#full_body=[]\n",
        "#for i in full:\n",
        " # full_body.append(i.text)"
      ],
      "execution_count": 16,
      "outputs": []
    },
    {
      "cell_type": "code",
      "metadata": {
        "id": "vAxfQZk_0nVg"
      },
      "source": [
        "maa1=[]\n",
        "maa2=[]\n",
        "for i in range(0,len(tops_match)):\n",
        "  if i == 0 or i/2 == i//2:\n",
        "    maa1.append(tops_match[i])\n",
        "  else:\n",
        "    maa2.append(tops_match[i])"
      ],
      "execution_count": 17,
      "outputs": []
    },
    {
      "cell_type": "code",
      "metadata": {
        "id": "4QpQyZqv6EuI"
      },
      "source": [
        "maa1=Match+maa1\n",
        "maa1=maa1[:10]"
      ],
      "execution_count": 18,
      "outputs": []
    },
    {
      "cell_type": "code",
      "metadata": {
        "colab": {
          "base_uri": "https://localhost:8080/"
        },
        "id": "A-WI45hufMNZ",
        "outputId": "f66b9647-b6ec-40ba-d17e-ffa862a3b833"
      },
      "source": [
        "maa1"
      ],
      "execution_count": 19,
      "outputs": [
        {
          "output_type": "execute_result",
          "data": {
            "text/plain": [
              "['17', '25', '29', '27', '20', '24', '27', '27', '24', '17']"
            ]
          },
          "metadata": {
            "tags": []
          },
          "execution_count": 19
        }
      ]
    },
    {
      "cell_type": "code",
      "metadata": {
        "id": "UCXxbynZfOvb"
      },
      "source": [
        "top_ratings=soup.find_all('td',class_=\"rankings-block__banner--points\")"
      ],
      "execution_count": 20,
      "outputs": []
    },
    {
      "cell_type": "code",
      "metadata": {
        "id": "C3xIfvtGfOdR"
      },
      "source": [
        "top_ratings0=[]\n",
        "for i in top_ratings:\n",
        "  top_ratings0.append(i.text.replace(\"\\n\",\"\"))"
      ],
      "execution_count": 21,
      "outputs": []
    },
    {
      "cell_type": "code",
      "metadata": {
        "id": "r3131EMs6GTr"
      },
      "source": [
        "maa2=top_ratings0+maa2\n",
        "maa2=maa2[:10]"
      ],
      "execution_count": 22,
      "outputs": []
    },
    {
      "cell_type": "code",
      "metadata": {
        "colab": {
          "base_uri": "https://localhost:8080/"
        },
        "id": "fxMgx0xbf3hl",
        "outputId": "431b2d8b-dea6-48a6-ac16-777244f59565"
      },
      "source": [
        "maa2"
      ],
      "execution_count": 23,
      "outputs": [
        {
          "output_type": "execute_result",
          "data": {
            "text/plain": [
              "['2,054',\n",
              " '2,945',\n",
              " '3,344',\n",
              " '3,100',\n",
              " '2,137',\n",
              " '2,323',\n",
              " '2,438',\n",
              " '2,222',\n",
              " '1,876',\n",
              " '1,054']"
            ]
          },
          "metadata": {
            "tags": []
          },
          "execution_count": 23
        }
      ]
    },
    {
      "cell_type": "code",
      "metadata": {
        "id": "58sKKAkWgWxv"
      },
      "source": [
        "t_r=soup.find_all('td',class_=\"rankings-block__banner--rating u-text-right\")"
      ],
      "execution_count": 24,
      "outputs": []
    },
    {
      "cell_type": "code",
      "metadata": {
        "id": "5iJkc7BhgdBg"
      },
      "source": [
        "t_rs=[]\n",
        "for i in t_r:\n",
        "  t_rs.append(i.text.replace('\\n',''))"
      ],
      "execution_count": 25,
      "outputs": []
    },
    {
      "cell_type": "code",
      "metadata": {
        "colab": {
          "base_uri": "https://localhost:8080/"
        },
        "id": "bfIXFgalxZie",
        "outputId": "d0946268-a688-44ed-9634-af6f9bbd2f1b"
      },
      "source": [
        "rating=soup.find_all('td',class_=\"table-body__cell u-text-right rating\")\n",
        "rating"
      ],
      "execution_count": 26,
      "outputs": [
        {
          "output_type": "execute_result",
          "data": {
            "text/plain": [
              "[<td class=\"table-body__cell u-text-right rating\">118</td>,\n",
              " <td class=\"table-body__cell u-text-right rating\">115</td>,\n",
              " <td class=\"table-body__cell u-text-right rating\">115</td>,\n",
              " <td class=\"table-body__cell u-text-right rating\">107</td>,\n",
              " <td class=\"table-body__cell u-text-right rating\">97</td>,\n",
              " <td class=\"table-body__cell u-text-right rating\">90</td>,\n",
              " <td class=\"table-body__cell u-text-right rating\">82</td>,\n",
              " <td class=\"table-body__cell u-text-right rating\">78</td>,\n",
              " <td class=\"table-body__cell u-text-right rating\">62</td>,\n",
              " <td class=\"table-body__cell u-text-right rating\">48</td>,\n",
              " <td class=\"table-body__cell u-text-right rating\">43</td>,\n",
              " <td class=\"table-body__cell u-text-right rating\">39</td>,\n",
              " <td class=\"table-body__cell u-text-right rating\">37</td>,\n",
              " <td class=\"table-body__cell u-text-right rating\">34</td>,\n",
              " <td class=\"table-body__cell u-text-right rating\">24</td>,\n",
              " <td class=\"table-body__cell u-text-right rating\">21</td>,\n",
              " <td class=\"table-body__cell u-text-right rating\">16</td>,\n",
              " <td class=\"table-body__cell u-text-right rating\">12</td>,\n",
              " <td class=\"table-body__cell u-text-right rating\">0</td>]"
            ]
          },
          "metadata": {
            "tags": []
          },
          "execution_count": 26
        }
      ]
    },
    {
      "cell_type": "code",
      "metadata": {
        "id": "8I8DRHhK7WhY"
      },
      "source": [
        "rating1=[]\n",
        "for i in rating:\n",
        "  rating1.append(i.text.replace('\\n\\n',''))"
      ],
      "execution_count": 27,
      "outputs": []
    },
    {
      "cell_type": "code",
      "metadata": {
        "id": "kLzzmX3c7d3i"
      },
      "source": [
        "rating1=t_rs+rating1\n",
        "rating1=rating1[:10]"
      ],
      "execution_count": 28,
      "outputs": []
    },
    {
      "cell_type": "code",
      "metadata": {
        "colab": {
          "base_uri": "https://localhost:8080/"
        },
        "id": "PVDQ5fAr_Tna",
        "outputId": "335a3442-b7bf-4409-d253-30f6b5b297c4"
      },
      "source": [
        "rating1"
      ],
      "execution_count": 29,
      "outputs": [
        {
          "output_type": "execute_result",
          "data": {
            "text/plain": [
              "['                            121                            ',\n",
              " '118',\n",
              " '115',\n",
              " '115',\n",
              " '107',\n",
              " '97',\n",
              " '90',\n",
              " '82',\n",
              " '78',\n",
              " '62']"
            ]
          },
          "metadata": {
            "tags": []
          },
          "execution_count": 29
        }
      ]
    },
    {
      "cell_type": "code",
      "metadata": {
        "id": "QqHeJDfr7e5z"
      },
      "source": [
        "data=pd.DataFrame(Team_Name,columns=['Team_Name'])"
      ],
      "execution_count": 30,
      "outputs": []
    },
    {
      "cell_type": "code",
      "metadata": {
        "id": "S8CWI5Ib_ZWK"
      },
      "source": [
        "Ratings=pd.DataFrame(rating1,columns=['Ratings'])"
      ],
      "execution_count": 31,
      "outputs": []
    },
    {
      "cell_type": "code",
      "metadata": {
        "colab": {
          "base_uri": "https://localhost:8080/",
          "height": 359
        },
        "id": "6fTzz2eZ_j9N",
        "outputId": "638834b8-2618-407e-f331-977c1e003414"
      },
      "source": [
        "Ratings"
      ],
      "execution_count": 32,
      "outputs": [
        {
          "output_type": "execute_result",
          "data": {
            "text/html": [
              "<div>\n",
              "<style scoped>\n",
              "    .dataframe tbody tr th:only-of-type {\n",
              "        vertical-align: middle;\n",
              "    }\n",
              "\n",
              "    .dataframe tbody tr th {\n",
              "        vertical-align: top;\n",
              "    }\n",
              "\n",
              "    .dataframe thead th {\n",
              "        text-align: right;\n",
              "    }\n",
              "</style>\n",
              "<table border=\"1\" class=\"dataframe\">\n",
              "  <thead>\n",
              "    <tr style=\"text-align: right;\">\n",
              "      <th></th>\n",
              "      <th>Ratings</th>\n",
              "    </tr>\n",
              "  </thead>\n",
              "  <tbody>\n",
              "    <tr>\n",
              "      <th>0</th>\n",
              "      <td>121               ...</td>\n",
              "    </tr>\n",
              "    <tr>\n",
              "      <th>1</th>\n",
              "      <td>118</td>\n",
              "    </tr>\n",
              "    <tr>\n",
              "      <th>2</th>\n",
              "      <td>115</td>\n",
              "    </tr>\n",
              "    <tr>\n",
              "      <th>3</th>\n",
              "      <td>115</td>\n",
              "    </tr>\n",
              "    <tr>\n",
              "      <th>4</th>\n",
              "      <td>107</td>\n",
              "    </tr>\n",
              "    <tr>\n",
              "      <th>5</th>\n",
              "      <td>97</td>\n",
              "    </tr>\n",
              "    <tr>\n",
              "      <th>6</th>\n",
              "      <td>90</td>\n",
              "    </tr>\n",
              "    <tr>\n",
              "      <th>7</th>\n",
              "      <td>82</td>\n",
              "    </tr>\n",
              "    <tr>\n",
              "      <th>8</th>\n",
              "      <td>78</td>\n",
              "    </tr>\n",
              "    <tr>\n",
              "      <th>9</th>\n",
              "      <td>62</td>\n",
              "    </tr>\n",
              "  </tbody>\n",
              "</table>\n",
              "</div>"
            ],
            "text/plain": [
              "                                             Ratings\n",
              "0                              121               ...\n",
              "1                                                118\n",
              "2                                                115\n",
              "3                                                115\n",
              "4                                                107\n",
              "5                                                 97\n",
              "6                                                 90\n",
              "7                                                 82\n",
              "8                                                 78\n",
              "9                                                 62"
            ]
          },
          "metadata": {
            "tags": []
          },
          "execution_count": 32
        }
      ]
    },
    {
      "cell_type": "code",
      "metadata": {
        "id": "PC00WwQL9mSL"
      },
      "source": [
        "data['Matches']=maa1"
      ],
      "execution_count": 33,
      "outputs": []
    },
    {
      "cell_type": "code",
      "metadata": {
        "id": "9BXQZIze9vVb"
      },
      "source": [
        "data['Points']=maa2"
      ],
      "execution_count": 34,
      "outputs": []
    },
    {
      "cell_type": "code",
      "metadata": {
        "id": "GtpsQIMd-QHJ"
      },
      "source": [
        "data=pd.concat([data,Ratings],axis=1)"
      ],
      "execution_count": 35,
      "outputs": []
    },
    {
      "cell_type": "markdown",
      "metadata": {
        "id": "RptEQ0mAcIdr"
      },
      "source": [
        "# Top 10 ODI teams in men’s cricket along with the records for matches, points and rating"
      ]
    },
    {
      "cell_type": "code",
      "metadata": {
        "colab": {
          "base_uri": "https://localhost:8080/",
          "height": 359
        },
        "id": "mbm8rZGr-iY8",
        "outputId": "8281daed-9426-4167-8603-d7b8dafed166"
      },
      "source": [
        "data"
      ],
      "execution_count": 36,
      "outputs": [
        {
          "output_type": "execute_result",
          "data": {
            "text/html": [
              "<div>\n",
              "<style scoped>\n",
              "    .dataframe tbody tr th:only-of-type {\n",
              "        vertical-align: middle;\n",
              "    }\n",
              "\n",
              "    .dataframe tbody tr th {\n",
              "        vertical-align: top;\n",
              "    }\n",
              "\n",
              "    .dataframe thead th {\n",
              "        text-align: right;\n",
              "    }\n",
              "</style>\n",
              "<table border=\"1\" class=\"dataframe\">\n",
              "  <thead>\n",
              "    <tr style=\"text-align: right;\">\n",
              "      <th></th>\n",
              "      <th>Team_Name</th>\n",
              "      <th>Matches</th>\n",
              "      <th>Points</th>\n",
              "      <th>Ratings</th>\n",
              "    </tr>\n",
              "  </thead>\n",
              "  <tbody>\n",
              "    <tr>\n",
              "      <th>0</th>\n",
              "      <td>New Zealand</td>\n",
              "      <td>17</td>\n",
              "      <td>2,054</td>\n",
              "      <td>121               ...</td>\n",
              "    </tr>\n",
              "    <tr>\n",
              "      <th>1</th>\n",
              "      <td>Australia</td>\n",
              "      <td>25</td>\n",
              "      <td>2,945</td>\n",
              "      <td>118</td>\n",
              "    </tr>\n",
              "    <tr>\n",
              "      <th>2</th>\n",
              "      <td>India</td>\n",
              "      <td>29</td>\n",
              "      <td>3,344</td>\n",
              "      <td>115</td>\n",
              "    </tr>\n",
              "    <tr>\n",
              "      <th>3</th>\n",
              "      <td>England</td>\n",
              "      <td>27</td>\n",
              "      <td>3,100</td>\n",
              "      <td>115</td>\n",
              "    </tr>\n",
              "    <tr>\n",
              "      <th>4</th>\n",
              "      <td>South Africa</td>\n",
              "      <td>20</td>\n",
              "      <td>2,137</td>\n",
              "      <td>107</td>\n",
              "    </tr>\n",
              "    <tr>\n",
              "      <th>5</th>\n",
              "      <td>Pakistan</td>\n",
              "      <td>24</td>\n",
              "      <td>2,323</td>\n",
              "      <td>97</td>\n",
              "    </tr>\n",
              "    <tr>\n",
              "      <th>6</th>\n",
              "      <td>Bangladesh</td>\n",
              "      <td>27</td>\n",
              "      <td>2,438</td>\n",
              "      <td>90</td>\n",
              "    </tr>\n",
              "    <tr>\n",
              "      <th>7</th>\n",
              "      <td>West Indies</td>\n",
              "      <td>27</td>\n",
              "      <td>2,222</td>\n",
              "      <td>82</td>\n",
              "    </tr>\n",
              "    <tr>\n",
              "      <th>8</th>\n",
              "      <td>Sri Lanka</td>\n",
              "      <td>24</td>\n",
              "      <td>1,876</td>\n",
              "      <td>78</td>\n",
              "    </tr>\n",
              "    <tr>\n",
              "      <th>9</th>\n",
              "      <td>Afghanistan</td>\n",
              "      <td>17</td>\n",
              "      <td>1,054</td>\n",
              "      <td>62</td>\n",
              "    </tr>\n",
              "  </tbody>\n",
              "</table>\n",
              "</div>"
            ],
            "text/plain": [
              "      Team_Name  ...                                            Ratings\n",
              "0   New Zealand  ...                              121               ...\n",
              "1     Australia  ...                                                118\n",
              "2         India  ...                                                115\n",
              "3       England  ...                                                115\n",
              "4  South Africa  ...                                                107\n",
              "5      Pakistan  ...                                                 97\n",
              "6    Bangladesh  ...                                                 90\n",
              "7   West Indies  ...                                                 82\n",
              "8     Sri Lanka  ...                                                 78\n",
              "9   Afghanistan  ...                                                 62\n",
              "\n",
              "[10 rows x 4 columns]"
            ]
          },
          "metadata": {
            "tags": []
          },
          "execution_count": 36
        }
      ]
    },
    {
      "cell_type": "markdown",
      "metadata": {
        "id": "Aoc4hFKzCbSR"
      },
      "source": [
        "#Top 10 ODI Batsmen in men along with the records of their team and rating. "
      ]
    },
    {
      "cell_type": "code",
      "metadata": {
        "id": "59LHHwuICa2l"
      },
      "source": [
        "link1='https://www.icc-cricket.com/rankings/mens/player-rankings/odi/batting'"
      ],
      "execution_count": 37,
      "outputs": []
    },
    {
      "cell_type": "code",
      "metadata": {
        "colab": {
          "base_uri": "https://localhost:8080/"
        },
        "id": "gQRLwKZiD73N",
        "outputId": "410927a8-8b71-4ec5-ba7e-c5e08b661d9b"
      },
      "source": [
        "page1=requests.get(link1)\n",
        "page1"
      ],
      "execution_count": 38,
      "outputs": [
        {
          "output_type": "execute_result",
          "data": {
            "text/plain": [
              "<Response [200]>"
            ]
          },
          "metadata": {
            "tags": []
          },
          "execution_count": 38
        }
      ]
    },
    {
      "cell_type": "code",
      "metadata": {
        "id": "x5ZzcaruEB71"
      },
      "source": [
        "soup1=bs(page1.content,\"html.parser\")"
      ],
      "execution_count": 39,
      "outputs": []
    },
    {
      "cell_type": "code",
      "metadata": {
        "id": "0xDo9YrAES7e"
      },
      "source": [
        "Batsmen=soup1.find_all('td',class_=\"table-body__cell rankings-table__name name\")"
      ],
      "execution_count": 40,
      "outputs": []
    },
    {
      "cell_type": "code",
      "metadata": {
        "colab": {
          "base_uri": "https://localhost:8080/"
        },
        "id": "oCy6pITCXB1v",
        "outputId": "05d0462f-4b34-48c7-c7e2-cc76b7abcfc8"
      },
      "source": [
        "bat=soup1.find_all('div',class_=\"rankings-block__banner--name-large\")\n",
        "bat"
      ],
      "execution_count": 41,
      "outputs": [
        {
          "output_type": "execute_result",
          "data": {
            "text/plain": [
              "[<div class=\"rankings-block__banner--name-large\">Babar Azam</div>]"
            ]
          },
          "metadata": {
            "tags": []
          },
          "execution_count": 41
        }
      ]
    },
    {
      "cell_type": "code",
      "metadata": {
        "id": "2Tby8YjfXVtc"
      },
      "source": [
        "top_bat=[]\n",
        "for i in bat:\n",
        "  top_bat.append(i.text.replace(\"\\n\",\"\"))"
      ],
      "execution_count": 42,
      "outputs": []
    },
    {
      "cell_type": "code",
      "metadata": {
        "colab": {
          "base_uri": "https://localhost:8080/"
        },
        "id": "DmWulCyFX930",
        "outputId": "a2e736c0-f8bd-4fbf-d8c6-518f72426ccb"
      },
      "source": [
        "top_bat"
      ],
      "execution_count": 43,
      "outputs": [
        {
          "output_type": "execute_result",
          "data": {
            "text/plain": [
              "['Babar Azam']"
            ]
          },
          "metadata": {
            "tags": []
          },
          "execution_count": 43
        }
      ]
    },
    {
      "cell_type": "code",
      "metadata": {
        "id": "4fKHf_QQEg_x"
      },
      "source": [
        "Batsmen_Name=[]\n",
        "for i in Batsmen:\n",
        "  Batsmen_Name.append(i.text.replace(\"\\n\",\"\"))"
      ],
      "execution_count": 44,
      "outputs": []
    },
    {
      "cell_type": "code",
      "metadata": {
        "id": "OUi5Ji2NIktF"
      },
      "source": [
        "Batsmen_Name=top_bat+Batsmen_Name"
      ],
      "execution_count": 45,
      "outputs": []
    },
    {
      "cell_type": "code",
      "metadata": {
        "colab": {
          "base_uri": "https://localhost:8080/"
        },
        "id": "EAw0GjkrExUg",
        "outputId": "686b0101-9f9a-459a-ad7f-6438cf5e2514"
      },
      "source": [
        "Batsmen_Names=Batsmen_Name[:10]\n",
        "Batsmen_Names"
      ],
      "execution_count": 46,
      "outputs": [
        {
          "output_type": "execute_result",
          "data": {
            "text/plain": [
              "['Babar Azam',\n",
              " 'Virat Kohli',\n",
              " 'Rohit Sharma',\n",
              " 'Ross Taylor',\n",
              " 'Aaron Finch',\n",
              " 'Jonny Bairstow',\n",
              " 'Fakhar Zaman',\n",
              " 'Francois du Plessis',\n",
              " 'David Warner',\n",
              " 'Shai Hope']"
            ]
          },
          "metadata": {
            "tags": []
          },
          "execution_count": 46
        }
      ]
    },
    {
      "cell_type": "code",
      "metadata": {
        "id": "QZhWNpedZPF8"
      },
      "source": [
        "to_te=soup1.find_all('div',class_=\"rankings-block__banner--nationality\")"
      ],
      "execution_count": 47,
      "outputs": []
    },
    {
      "cell_type": "code",
      "metadata": {
        "id": "I22zX39CZeRU"
      },
      "source": [
        "to_team=[]\n",
        "for i in to_te:\n",
        "  to_team.append(i.text.replace(\"\\n\",\"\"))"
      ],
      "execution_count": 48,
      "outputs": []
    },
    {
      "cell_type": "code",
      "metadata": {
        "id": "OF6ilSLNEyjp"
      },
      "source": [
        "Te=soup1.find_all('span',class_=\"table-body__logo-text\")"
      ],
      "execution_count": 49,
      "outputs": []
    },
    {
      "cell_type": "code",
      "metadata": {
        "id": "Pe5uRy7xFdZ7"
      },
      "source": [
        "Team=[]\n",
        "for i in Te:\n",
        "  Team.append(i.text.replace(\"\\n\",\"\"))"
      ],
      "execution_count": 50,
      "outputs": []
    },
    {
      "cell_type": "code",
      "metadata": {
        "colab": {
          "base_uri": "https://localhost:8080/"
        },
        "id": "AOaaz2vgFp-d",
        "outputId": "8e2b660f-be78-476f-f5c0-7e8f42256786"
      },
      "source": [
        "Team=to_team+Team\n",
        "Teams=Team[:10]\n",
        "Teams"
      ],
      "execution_count": 51,
      "outputs": [
        {
          "output_type": "execute_result",
          "data": {
            "text/plain": [
              "['PAK', 'IND', 'IND', 'NZ', 'AUS', 'ENG', 'PAK', 'SA', 'AUS', 'WI']"
            ]
          },
          "metadata": {
            "tags": []
          },
          "execution_count": 51
        }
      ]
    },
    {
      "cell_type": "code",
      "metadata": {
        "id": "2nDE2hJOaC_Y"
      },
      "source": [
        "top_re=soup1.find_all('div',class_=\"rankings-block__banner--rating\")"
      ],
      "execution_count": 52,
      "outputs": []
    },
    {
      "cell_type": "code",
      "metadata": {
        "id": "M1hL1ND4aOOf"
      },
      "source": [
        "top_rat=[]\n",
        "for i in top_re:\n",
        "  top_rat.append(i.text.replace(\"\\n\",\"\"))"
      ],
      "execution_count": 53,
      "outputs": []
    },
    {
      "cell_type": "code",
      "metadata": {
        "id": "qoC2apMmFq1v"
      },
      "source": [
        "Ra=soup1.find_all('td',class_=\"table-body__cell rating\")"
      ],
      "execution_count": 54,
      "outputs": []
    },
    {
      "cell_type": "code",
      "metadata": {
        "id": "_S6mQ-Y6F_YZ"
      },
      "source": [
        "Rating=[]\n",
        "for i in Ra:\n",
        "  Rating.append(i.text.replace(\"\\n\",\"\"))"
      ],
      "execution_count": 55,
      "outputs": []
    },
    {
      "cell_type": "code",
      "metadata": {
        "colab": {
          "base_uri": "https://localhost:8080/"
        },
        "id": "SoXFXhT1GMmp",
        "outputId": "2c1b0f23-df4a-44d3-e983-90e2d10312d9"
      },
      "source": [
        "Rating=top_rat+Rating\n",
        "Ratings=Rating[:10]\n",
        "Ratings"
      ],
      "execution_count": 56,
      "outputs": [
        {
          "output_type": "execute_result",
          "data": {
            "text/plain": [
              "['865', '857', '825', '801', '791', '785', '778', '778', '773', '773']"
            ]
          },
          "metadata": {
            "tags": []
          },
          "execution_count": 56
        }
      ]
    },
    {
      "cell_type": "code",
      "metadata": {
        "id": "I495AUXRGT4K"
      },
      "source": [
        "Batsmen=pd.DataFrame(Batsmen_Names,columns=['Batsmen_Name'])"
      ],
      "execution_count": 57,
      "outputs": []
    },
    {
      "cell_type": "code",
      "metadata": {
        "id": "SUSRmlc4Gr6k"
      },
      "source": [
        "Batsmen['Team']=Teams"
      ],
      "execution_count": 58,
      "outputs": []
    },
    {
      "cell_type": "code",
      "metadata": {
        "id": "kiEC-3Q6GwAl"
      },
      "source": [
        "Batsmen['Rating']=Ratings"
      ],
      "execution_count": 59,
      "outputs": []
    },
    {
      "cell_type": "markdown",
      "metadata": {
        "id": "w_1hpCOpbZW_"
      },
      "source": [
        "#Top 10 ODI Batsmen in men along with the records of their team and rating."
      ]
    },
    {
      "cell_type": "code",
      "metadata": {
        "colab": {
          "base_uri": "https://localhost:8080/",
          "height": 359
        },
        "id": "BRem3XWzG0VR",
        "outputId": "d65e03cb-6710-423d-f3f6-ff3a4a322a7c"
      },
      "source": [
        "Batsmen"
      ],
      "execution_count": 60,
      "outputs": [
        {
          "output_type": "execute_result",
          "data": {
            "text/html": [
              "<div>\n",
              "<style scoped>\n",
              "    .dataframe tbody tr th:only-of-type {\n",
              "        vertical-align: middle;\n",
              "    }\n",
              "\n",
              "    .dataframe tbody tr th {\n",
              "        vertical-align: top;\n",
              "    }\n",
              "\n",
              "    .dataframe thead th {\n",
              "        text-align: right;\n",
              "    }\n",
              "</style>\n",
              "<table border=\"1\" class=\"dataframe\">\n",
              "  <thead>\n",
              "    <tr style=\"text-align: right;\">\n",
              "      <th></th>\n",
              "      <th>Batsmen_Name</th>\n",
              "      <th>Team</th>\n",
              "      <th>Rating</th>\n",
              "    </tr>\n",
              "  </thead>\n",
              "  <tbody>\n",
              "    <tr>\n",
              "      <th>0</th>\n",
              "      <td>Babar Azam</td>\n",
              "      <td>PAK</td>\n",
              "      <td>865</td>\n",
              "    </tr>\n",
              "    <tr>\n",
              "      <th>1</th>\n",
              "      <td>Virat Kohli</td>\n",
              "      <td>IND</td>\n",
              "      <td>857</td>\n",
              "    </tr>\n",
              "    <tr>\n",
              "      <th>2</th>\n",
              "      <td>Rohit Sharma</td>\n",
              "      <td>IND</td>\n",
              "      <td>825</td>\n",
              "    </tr>\n",
              "    <tr>\n",
              "      <th>3</th>\n",
              "      <td>Ross Taylor</td>\n",
              "      <td>NZ</td>\n",
              "      <td>801</td>\n",
              "    </tr>\n",
              "    <tr>\n",
              "      <th>4</th>\n",
              "      <td>Aaron Finch</td>\n",
              "      <td>AUS</td>\n",
              "      <td>791</td>\n",
              "    </tr>\n",
              "    <tr>\n",
              "      <th>5</th>\n",
              "      <td>Jonny Bairstow</td>\n",
              "      <td>ENG</td>\n",
              "      <td>785</td>\n",
              "    </tr>\n",
              "    <tr>\n",
              "      <th>6</th>\n",
              "      <td>Fakhar Zaman</td>\n",
              "      <td>PAK</td>\n",
              "      <td>778</td>\n",
              "    </tr>\n",
              "    <tr>\n",
              "      <th>7</th>\n",
              "      <td>Francois du Plessis</td>\n",
              "      <td>SA</td>\n",
              "      <td>778</td>\n",
              "    </tr>\n",
              "    <tr>\n",
              "      <th>8</th>\n",
              "      <td>David Warner</td>\n",
              "      <td>AUS</td>\n",
              "      <td>773</td>\n",
              "    </tr>\n",
              "    <tr>\n",
              "      <th>9</th>\n",
              "      <td>Shai Hope</td>\n",
              "      <td>WI</td>\n",
              "      <td>773</td>\n",
              "    </tr>\n",
              "  </tbody>\n",
              "</table>\n",
              "</div>"
            ],
            "text/plain": [
              "          Batsmen_Name Team Rating\n",
              "0           Babar Azam  PAK    865\n",
              "1          Virat Kohli  IND    857\n",
              "2         Rohit Sharma  IND    825\n",
              "3          Ross Taylor   NZ    801\n",
              "4          Aaron Finch  AUS    791\n",
              "5       Jonny Bairstow  ENG    785\n",
              "6         Fakhar Zaman  PAK    778\n",
              "7  Francois du Plessis   SA    778\n",
              "8         David Warner  AUS    773\n",
              "9            Shai Hope   WI    773"
            ]
          },
          "metadata": {
            "tags": []
          },
          "execution_count": 60
        }
      ]
    },
    {
      "cell_type": "code",
      "metadata": {
        "id": "jDJrwOtSHt5T"
      },
      "source": [
        "Bowlers_Name=[]\n",
        "for i in Batsmen_Name[9:18]:\n",
        "  Bowlers_Name.append(i)"
      ],
      "execution_count": 61,
      "outputs": []
    },
    {
      "cell_type": "code",
      "metadata": {
        "colab": {
          "base_uri": "https://localhost:8080/"
        },
        "id": "hAd2HehAHvC1",
        "outputId": "dce88800-c8bf-451d-cec0-fbfb38222145"
      },
      "source": [
        "Bowlers_Name"
      ],
      "execution_count": 62,
      "outputs": [
        {
          "output_type": "execute_result",
          "data": {
            "text/plain": [
              "['Shai Hope',\n",
              " 'Quinton de Kock',\n",
              " 'Kane Williamson',\n",
              " 'Imam-ul-Haq',\n",
              " 'Mushfiqur Rahim',\n",
              " 'Joe Root',\n",
              " 'Steve Smith',\n",
              " 'Martin Guptill',\n",
              " 'Shikhar Dhawan']"
            ]
          },
          "metadata": {
            "tags": []
          },
          "execution_count": 62
        }
      ]
    },
    {
      "cell_type": "code",
      "metadata": {
        "colab": {
          "base_uri": "https://localhost:8080/"
        },
        "id": "rnXaWtiJN99K",
        "outputId": "b977540d-ace9-4c13-c906-6783387acceb"
      },
      "source": [
        "link2='https://www.icc-cricket.com/rankings/mens/player-rankings/odi/bowling'\n",
        "page2=requests.get(link2)\n",
        "page2"
      ],
      "execution_count": 63,
      "outputs": [
        {
          "output_type": "execute_result",
          "data": {
            "text/plain": [
              "<Response [200]>"
            ]
          },
          "metadata": {
            "tags": []
          },
          "execution_count": 63
        }
      ]
    },
    {
      "cell_type": "code",
      "metadata": {
        "id": "RxVCqJn7N3V1"
      },
      "source": [
        "soup2=bs(page2.content,'html.parser')"
      ],
      "execution_count": 64,
      "outputs": []
    },
    {
      "cell_type": "code",
      "metadata": {
        "id": "7b7lsA7TN4DW"
      },
      "source": [
        "bowers0=soup2.find_all('td',class_=\"table-body__cell rankings-table__name name\")"
      ],
      "execution_count": 65,
      "outputs": []
    },
    {
      "cell_type": "code",
      "metadata": {
        "id": "0cLbg5L5Olx3"
      },
      "source": [
        "bb_name=[]\n",
        "for i in bowers0:\n",
        "  bb_name.append(i.text.replace(\"\\n\",\"\"))"
      ],
      "execution_count": 66,
      "outputs": []
    },
    {
      "cell_type": "code",
      "metadata": {
        "id": "I4ulEV1NO70W"
      },
      "source": [
        "top=soup2.find_all('div',class_=\"rankings-block__banner--name-large\")"
      ],
      "execution_count": 67,
      "outputs": []
    },
    {
      "cell_type": "code",
      "metadata": {
        "id": "blsfhIT0PE0U"
      },
      "source": [
        "tops=[]\n",
        "for i in top:\n",
        "  tops.append(i.text.replace(\"\\n\",\"\"))"
      ],
      "execution_count": 68,
      "outputs": []
    },
    {
      "cell_type": "code",
      "metadata": {
        "colab": {
          "base_uri": "https://localhost:8080/"
        },
        "id": "pVY1kfkpPN9g",
        "outputId": "b6309052-e714-4135-d9fa-79e385d0d2f1"
      },
      "source": [
        "tops"
      ],
      "execution_count": 69,
      "outputs": [
        {
          "output_type": "execute_result",
          "data": {
            "text/plain": [
              "['Trent Boult']"
            ]
          },
          "metadata": {
            "tags": []
          },
          "execution_count": 69
        }
      ]
    },
    {
      "cell_type": "code",
      "metadata": {
        "id": "QFuJsZYXOvb7"
      },
      "source": [
        "top_bowlers=tops+bb_name"
      ],
      "execution_count": 70,
      "outputs": []
    },
    {
      "cell_type": "code",
      "metadata": {
        "id": "YJ-7f8pzOwvF"
      },
      "source": [
        "top_rat=soup2.find_all('td',class_=\"u-text-left\")"
      ],
      "execution_count": 71,
      "outputs": []
    },
    {
      "cell_type": "code",
      "metadata": {
        "id": "4TXSdyvxSine"
      },
      "source": [
        "top_rats=[]\n",
        "for i in top_rat:\n",
        "  top_rats.append(i.text.replace(\"\\n\",\"\"))"
      ],
      "execution_count": 72,
      "outputs": []
    },
    {
      "cell_type": "code",
      "metadata": {
        "colab": {
          "base_uri": "https://localhost:8080/"
        },
        "id": "7NoPFpZcSzZO",
        "outputId": "4f9df937-9391-4aa9-9597-61198b85f5f6"
      },
      "source": [
        "top_rats"
      ],
      "execution_count": 73,
      "outputs": [
        {
          "output_type": "execute_result",
          "data": {
            "text/plain": [
              "['737']"
            ]
          },
          "metadata": {
            "tags": []
          },
          "execution_count": 73
        }
      ]
    },
    {
      "cell_type": "code",
      "metadata": {
        "id": "DMlkznhwS1A3"
      },
      "source": [
        "bower_rating=soup2.find_all('td',class_=\"table-body__cell rating\")"
      ],
      "execution_count": 74,
      "outputs": []
    },
    {
      "cell_type": "code",
      "metadata": {
        "id": "hyJ0eLdrTCtG"
      },
      "source": [
        "bower_ratings=[]\n",
        "for i in bower_rating:\n",
        "  bower_ratings.append(i.text.replace(\"\\n\",\"\"))"
      ],
      "execution_count": 75,
      "outputs": []
    },
    {
      "cell_type": "code",
      "metadata": {
        "id": "RDn38PLQTgYb"
      },
      "source": [
        "total_rating=top_rats+bower_ratings"
      ],
      "execution_count": 76,
      "outputs": []
    },
    {
      "cell_type": "code",
      "metadata": {
        "id": "uq1CkBB1Txc5"
      },
      "source": [
        "top_t=soup2.find_all('div',class_=\"rankings-block__banner--nationality\")"
      ],
      "execution_count": 77,
      "outputs": []
    },
    {
      "cell_type": "code",
      "metadata": {
        "id": "yNKC-FUNUGpd"
      },
      "source": [
        "top_te=[]\n",
        "for i in top_t:\n",
        "  top_te.append(i.text.replace(\"\\n\",\"\"))"
      ],
      "execution_count": 78,
      "outputs": []
    },
    {
      "cell_type": "code",
      "metadata": {
        "colab": {
          "base_uri": "https://localhost:8080/"
        },
        "id": "ovCutYULUT3i",
        "outputId": "98c677cc-8d3f-48cd-d361-6f1f7cd9ea32"
      },
      "source": [
        "top_te"
      ],
      "execution_count": 79,
      "outputs": [
        {
          "output_type": "execute_result",
          "data": {
            "text/plain": [
              "['NZ']"
            ]
          },
          "metadata": {
            "tags": []
          },
          "execution_count": 79
        }
      ]
    },
    {
      "cell_type": "code",
      "metadata": {
        "id": "29Q4eyO-UU6E"
      },
      "source": [
        "bowler_rat=soup2.find_all('span',class_=\"table-body__logo-text\")"
      ],
      "execution_count": 80,
      "outputs": []
    },
    {
      "cell_type": "code",
      "metadata": {
        "id": "7RHIgPxBUhC9"
      },
      "source": [
        "bow_teams=[]\n",
        "for i in bowler_rat:\n",
        "  bow_teams.append(i.text.replace(\"\\n\",\"\"))"
      ],
      "execution_count": 81,
      "outputs": []
    },
    {
      "cell_type": "code",
      "metadata": {
        "id": "YsNKI0lsUynh"
      },
      "source": [
        "total_team=top_te+bow_teams"
      ],
      "execution_count": 82,
      "outputs": []
    },
    {
      "cell_type": "code",
      "metadata": {
        "id": "uXvlvcidU_ss"
      },
      "source": [
        "data_bowler=pd.DataFrame(top_bowlers,columns=['Bowlers'])"
      ],
      "execution_count": 83,
      "outputs": []
    },
    {
      "cell_type": "code",
      "metadata": {
        "id": "UVy9khqyWQmJ"
      },
      "source": [
        "data_bowler['Team']=total_team"
      ],
      "execution_count": 84,
      "outputs": []
    },
    {
      "cell_type": "code",
      "metadata": {
        "id": "XRk25gwoWZ5F"
      },
      "source": [
        "data_bowler['Ratings']=total_rating"
      ],
      "execution_count": 85,
      "outputs": []
    },
    {
      "cell_type": "markdown",
      "metadata": {
        "id": "vVqG-JH5bn1a"
      },
      "source": [
        "#Top 10 ODI bowlers along with the records of their team and rating"
      ]
    },
    {
      "cell_type": "code",
      "metadata": {
        "colab": {
          "base_uri": "https://localhost:8080/",
          "height": 359
        },
        "id": "zEvw57bSVt_8",
        "outputId": "0dbdd92a-a771-4dae-f302-352b6237af76"
      },
      "source": [
        "data_bowler.head(10)"
      ],
      "execution_count": 86,
      "outputs": [
        {
          "output_type": "execute_result",
          "data": {
            "text/html": [
              "<div>\n",
              "<style scoped>\n",
              "    .dataframe tbody tr th:only-of-type {\n",
              "        vertical-align: middle;\n",
              "    }\n",
              "\n",
              "    .dataframe tbody tr th {\n",
              "        vertical-align: top;\n",
              "    }\n",
              "\n",
              "    .dataframe thead th {\n",
              "        text-align: right;\n",
              "    }\n",
              "</style>\n",
              "<table border=\"1\" class=\"dataframe\">\n",
              "  <thead>\n",
              "    <tr style=\"text-align: right;\">\n",
              "      <th></th>\n",
              "      <th>Bowlers</th>\n",
              "      <th>Team</th>\n",
              "      <th>Ratings</th>\n",
              "    </tr>\n",
              "  </thead>\n",
              "  <tbody>\n",
              "    <tr>\n",
              "      <th>0</th>\n",
              "      <td>Trent Boult</td>\n",
              "      <td>NZ</td>\n",
              "      <td>737</td>\n",
              "    </tr>\n",
              "    <tr>\n",
              "      <th>1</th>\n",
              "      <td>Mehedi Hasan</td>\n",
              "      <td>BAN</td>\n",
              "      <td>713</td>\n",
              "    </tr>\n",
              "    <tr>\n",
              "      <th>2</th>\n",
              "      <td>Mujeeb Ur Rahman</td>\n",
              "      <td>AFG</td>\n",
              "      <td>708</td>\n",
              "    </tr>\n",
              "    <tr>\n",
              "      <th>3</th>\n",
              "      <td>Matt Henry</td>\n",
              "      <td>NZ</td>\n",
              "      <td>691</td>\n",
              "    </tr>\n",
              "    <tr>\n",
              "      <th>4</th>\n",
              "      <td>Jasprit Bumrah</td>\n",
              "      <td>IND</td>\n",
              "      <td>690</td>\n",
              "    </tr>\n",
              "    <tr>\n",
              "      <th>5</th>\n",
              "      <td>Kagiso Rabada</td>\n",
              "      <td>SA</td>\n",
              "      <td>666</td>\n",
              "    </tr>\n",
              "    <tr>\n",
              "      <th>6</th>\n",
              "      <td>Chris Woakes</td>\n",
              "      <td>ENG</td>\n",
              "      <td>665</td>\n",
              "    </tr>\n",
              "    <tr>\n",
              "      <th>7</th>\n",
              "      <td>Josh Hazlewood</td>\n",
              "      <td>AUS</td>\n",
              "      <td>660</td>\n",
              "    </tr>\n",
              "    <tr>\n",
              "      <th>8</th>\n",
              "      <td>Pat Cummins</td>\n",
              "      <td>AUS</td>\n",
              "      <td>646</td>\n",
              "    </tr>\n",
              "    <tr>\n",
              "      <th>9</th>\n",
              "      <td>Mustafizur Rahman</td>\n",
              "      <td>BAN</td>\n",
              "      <td>645</td>\n",
              "    </tr>\n",
              "  </tbody>\n",
              "</table>\n",
              "</div>"
            ],
            "text/plain": [
              "             Bowlers Team Ratings\n",
              "0        Trent Boult   NZ     737\n",
              "1       Mehedi Hasan  BAN     713\n",
              "2   Mujeeb Ur Rahman  AFG     708\n",
              "3         Matt Henry   NZ     691\n",
              "4     Jasprit Bumrah  IND     690\n",
              "5      Kagiso Rabada   SA     666\n",
              "6       Chris Woakes  ENG     665\n",
              "7     Josh Hazlewood  AUS     660\n",
              "8        Pat Cummins  AUS     646\n",
              "9  Mustafizur Rahman  BAN     645"
            ]
          },
          "metadata": {
            "tags": []
          },
          "execution_count": 86
        }
      ]
    }
  ]
}
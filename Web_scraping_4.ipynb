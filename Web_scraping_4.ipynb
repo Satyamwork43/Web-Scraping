{
  "nbformat": 4,
  "nbformat_minor": 0,
  "metadata": {
    "colab": {
      "name": "Web scraping_4.ipynb",
      "provenance": []
    },
    "kernelspec": {
      "name": "python3",
      "display_name": "Python 3"
    },
    "language_info": {
      "name": "python"
    }
  },
  "cells": [
    {
      "cell_type": "markdown",
      "metadata": {
        "id": "SMAoBJYa5N-T"
      },
      "source": [
        "#Write a python program to scrap book name, author name, genre and book review of any 5 books from ‘www.bookpage.com"
      ]
    },
    {
      "cell_type": "code",
      "metadata": {
        "id": "1d7uKsfa5Gaq"
      },
      "source": [
        "import pandas as pd\n",
        "from bs4 import BeautifulSoup as bs\n",
        "import requests"
      ],
      "execution_count": 1,
      "outputs": []
    },
    {
      "cell_type": "code",
      "metadata": {
        "id": "9Yn7x_Nw5fT_"
      },
      "source": [
        "link='https://bookpage.com/'"
      ],
      "execution_count": 2,
      "outputs": []
    },
    {
      "cell_type": "code",
      "metadata": {
        "colab": {
          "base_uri": "https://localhost:8080/"
        },
        "id": "W8cBuGzFEwTP",
        "outputId": "1ef54432-371a-466d-b39c-e7064506229d"
      },
      "source": [
        "page=requests.get(link)\n",
        "page"
      ],
      "execution_count": 3,
      "outputs": [
        {
          "output_type": "execute_result",
          "data": {
            "text/plain": [
              "<Response [200]>"
            ]
          },
          "metadata": {
            "tags": []
          },
          "execution_count": 3
        }
      ]
    },
    {
      "cell_type": "code",
      "metadata": {
        "id": "L-c46OKZE0XZ"
      },
      "source": [
        "soup=bs(page.content,\"html.parser\")"
      ],
      "execution_count": 4,
      "outputs": []
    },
    {
      "cell_type": "code",
      "metadata": {
        "id": "SE-BL63yE9Op"
      },
      "source": [
        "H4=soup.find_all('h4',class_=\"italic\")"
      ],
      "execution_count": 5,
      "outputs": []
    },
    {
      "cell_type": "code",
      "metadata": {
        "colab": {
          "base_uri": "https://localhost:8080/"
        },
        "id": "rH3VwXr-HtNr",
        "outputId": "8ca911b6-ebcd-4f0b-c4af-47bcfefb20ec"
      },
      "source": [
        "len(H4)"
      ],
      "execution_count": 6,
      "outputs": [
        {
          "output_type": "execute_result",
          "data": {
            "text/plain": [
              "6"
            ]
          },
          "metadata": {
            "tags": []
          },
          "execution_count": 6
        }
      ]
    },
    {
      "cell_type": "code",
      "metadata": {
        "id": "O1SEJoKcFtYB"
      },
      "source": [
        "book_name=[]\n",
        "for i in range(0,len(H4)):\n",
        "  book_name.append(H4[i].get_text().replace(\"\\n\",\"\"))"
      ],
      "execution_count": 7,
      "outputs": []
    },
    {
      "cell_type": "code",
      "metadata": {
        "colab": {
          "base_uri": "https://localhost:8080/"
        },
        "id": "nizQpSgRGMLB",
        "outputId": "43a20546-4332-462c-8576-b0a27993a471"
      },
      "source": [
        "book_name"
      ],
      "execution_count": 8,
      "outputs": [
        {
          "output_type": "execute_result",
          "data": {
            "text/plain": [
              "['The case of the teenage gumshoe',\n",
              " 'The Hold List: Genre refreshers',\n",
              " 'Act Your Age, Eve Brown',\n",
              " 'Dusk, Night, Dawn',\n",
              " ' ★ The Natural Mother of the Child',\n",
              " 'Professional Troublemaker']"
            ]
          },
          "metadata": {
            "tags": []
          },
          "execution_count": 8
        }
      ]
    },
    {
      "cell_type": "code",
      "metadata": {
        "id": "S3GefutgGT1w"
      },
      "source": [
        "author_name=soup.find_all('p',class_=\"sans bold\")"
      ],
      "execution_count": 9,
      "outputs": []
    },
    {
      "cell_type": "code",
      "metadata": {
        "id": "1rm7hNO9IfJ2"
      },
      "source": [
        "Author=[]\n",
        "for i in range(0,len(author_name)):\n",
        "  Author.append(author_name[i].get_text().replace(\"\\n\",\"\"))"
      ],
      "execution_count": 10,
      "outputs": []
    },
    {
      "cell_type": "code",
      "metadata": {
        "colab": {
          "base_uri": "https://localhost:8080/"
        },
        "id": "OxB66Ky9Ixn9",
        "outputId": "9f062c39-c1f1-4c1c-93ed-09dcff8f698e"
      },
      "source": [
        "Author"
      ],
      "execution_count": 11,
      "outputs": [
        {
          "output_type": "execute_result",
          "data": {
            "text/plain": [
              "['Feature by Linda M. Castellitto',\n",
              " 'Feature by the editors of BookPage',\n",
              " 'Review by Anna Zeitlin',\n",
              " 'Review by Mari Carlson',\n",
              " 'Review by Kelly Blewett',\n",
              " 'Review by Mari Carlson']"
            ]
          },
          "metadata": {
            "tags": []
          },
          "execution_count": 11
        }
      ]
    },
    {
      "cell_type": "code",
      "metadata": {
        "id": "X5amONU7Iza_"
      },
      "source": [
        "g1=soup.find_all('p',class_=\"genre-links hidden-phone\")"
      ],
      "execution_count": 12,
      "outputs": []
    },
    {
      "cell_type": "code",
      "metadata": {
        "id": "Ic4FOE7WJD7u"
      },
      "source": [
        "genre=[]\n",
        "for i in range(0,len(g1)):\n",
        "  genre.append(g1[i].get_text().replace(\"\\n\",\"\"))"
      ],
      "execution_count": 13,
      "outputs": []
    },
    {
      "cell_type": "code",
      "metadata": {
        "colab": {
          "base_uri": "https://localhost:8080/"
        },
        "id": "gL-i7rb1JWH9",
        "outputId": "65a87e9d-a6f3-462f-e56a-e40b1891c875"
      },
      "source": [
        "len(genre)"
      ],
      "execution_count": 14,
      "outputs": [
        {
          "output_type": "execute_result",
          "data": {
            "text/plain": [
              "6"
            ]
          },
          "metadata": {
            "tags": []
          },
          "execution_count": 14
        }
      ]
    },
    {
      "cell_type": "code",
      "metadata": {
        "id": "8gtPYYbPJXzB"
      },
      "source": [
        "re1=soup.find_all('p',class_=\"excerpt\")"
      ],
      "execution_count": 15,
      "outputs": []
    },
    {
      "cell_type": "code",
      "metadata": {
        "id": "spoE2D1iJimu"
      },
      "source": [
        "Review=[]\n",
        "for i in range(0,len(re1)):\n",
        "  Review.append(re1[i].get_text().replace('\\n',''))"
      ],
      "execution_count": 16,
      "outputs": []
    },
    {
      "cell_type": "code",
      "metadata": {
        "colab": {
          "base_uri": "https://localhost:8080/"
        },
        "id": "I5Qfd1z1Jyvz",
        "outputId": "f79c8f7d-3923-4b28-85f1-342088892e8d"
      },
      "source": [
        "len(Review)"
      ],
      "execution_count": 17,
      "outputs": [
        {
          "output_type": "execute_result",
          "data": {
            "text/plain": [
              "6"
            ]
          },
          "metadata": {
            "tags": []
          },
          "execution_count": 17
        }
      ]
    },
    {
      "cell_type": "code",
      "metadata": {
        "id": "YTagu4sRhJLS"
      },
      "source": [
        "data=pd.DataFrame(book_name,columns=['Name'])"
      ],
      "execution_count": 18,
      "outputs": []
    },
    {
      "cell_type": "code",
      "metadata": {
        "id": "dvs0EYkjhSWF"
      },
      "source": [
        "data['Author']=Author"
      ],
      "execution_count": 19,
      "outputs": []
    },
    {
      "cell_type": "code",
      "metadata": {
        "id": "9roMwitxhXZ8"
      },
      "source": [
        "data['Genre']=genre"
      ],
      "execution_count": 20,
      "outputs": []
    },
    {
      "cell_type": "code",
      "metadata": {
        "id": "Dzl-EpnkhdBT"
      },
      "source": [
        "data['Review']=Review"
      ],
      "execution_count": 21,
      "outputs": []
    },
    {
      "cell_type": "code",
      "metadata": {
        "id": "79jebnyRlnbO"
      },
      "source": [
        "data['Author']=data['Author'].str.replace('Review by','')"
      ],
      "execution_count": 22,
      "outputs": []
    },
    {
      "cell_type": "code",
      "metadata": {
        "id": "eLSOIFCpmVAh"
      },
      "source": [
        "data['Author']=data['Author'].str.replace('Feature by','')"
      ],
      "execution_count": 23,
      "outputs": []
    },
    {
      "cell_type": "code",
      "metadata": {
        "colab": {
          "base_uri": "https://localhost:8080/",
          "height": 235
        },
        "id": "7uQL2x6Qhhuq",
        "outputId": "1027f668-a651-4cf6-f40b-09185fcdcf9f"
      },
      "source": [
        "data"
      ],
      "execution_count": 24,
      "outputs": [
        {
          "output_type": "execute_result",
          "data": {
            "text/html": [
              "<div>\n",
              "<style scoped>\n",
              "    .dataframe tbody tr th:only-of-type {\n",
              "        vertical-align: middle;\n",
              "    }\n",
              "\n",
              "    .dataframe tbody tr th {\n",
              "        vertical-align: top;\n",
              "    }\n",
              "\n",
              "    .dataframe thead th {\n",
              "        text-align: right;\n",
              "    }\n",
              "</style>\n",
              "<table border=\"1\" class=\"dataframe\">\n",
              "  <thead>\n",
              "    <tr style=\"text-align: right;\">\n",
              "      <th></th>\n",
              "      <th>Name</th>\n",
              "      <th>Author</th>\n",
              "      <th>Genre</th>\n",
              "      <th>Review</th>\n",
              "    </tr>\n",
              "  </thead>\n",
              "  <tbody>\n",
              "    <tr>\n",
              "      <th>0</th>\n",
              "      <td>The case of the teenage gumshoe</td>\n",
              "      <td>Linda M. Castellitto</td>\n",
              "      <td>YA / YA Fiction</td>\n",
              "      <td>Three persistent teen heroines pursue the trut...</td>\n",
              "    </tr>\n",
              "    <tr>\n",
              "      <th>1</th>\n",
              "      <td>The Hold List: Genre refreshers</td>\n",
              "      <td>the editors of BookPage</td>\n",
              "      <td>Fiction / Speculative Fiction / YA</td>\n",
              "      <td>These five books transformed a well-loved genr...</td>\n",
              "    </tr>\n",
              "    <tr>\n",
              "      <th>2</th>\n",
              "      <td>Act Your Age, Eve Brown</td>\n",
              "      <td>Anna Zeitlin</td>\n",
              "      <td>Audio / Romance / Contemporary Romance</td>\n",
              "      <td>Narrator Ione Butler goes straight for the hea...</td>\n",
              "    </tr>\n",
              "    <tr>\n",
              "      <th>3</th>\n",
              "      <td>Dusk, Night, Dawn</td>\n",
              "      <td>Mari Carlson</td>\n",
              "      <td>Audio / Nonfiction / Spirituality</td>\n",
              "      <td>Anne Lamott’s narration of Dusk, Night, Dawn i...</td>\n",
              "    </tr>\n",
              "    <tr>\n",
              "      <th>4</th>\n",
              "      <td>★ The Natural Mother of the Child</td>\n",
              "      <td>Kelly Blewett</td>\n",
              "      <td>Nonfiction / Memoir / LGBTQ</td>\n",
              "      <td>Krys Malcolm Belc’s growing realization that h...</td>\n",
              "    </tr>\n",
              "    <tr>\n",
              "      <th>5</th>\n",
              "      <td>Professional Troublemaker</td>\n",
              "      <td>Mari Carlson</td>\n",
              "      <td>Audio / Nonfiction / Self-Help</td>\n",
              "      <td>Luvvie Ajayi Jones’ commanding, cheerful voice...</td>\n",
              "    </tr>\n",
              "  </tbody>\n",
              "</table>\n",
              "</div>"
            ],
            "text/plain": [
              "                                 Name  ...                                             Review\n",
              "0     The case of the teenage gumshoe  ...  Three persistent teen heroines pursue the trut...\n",
              "1     The Hold List: Genre refreshers  ...  These five books transformed a well-loved genr...\n",
              "2             Act Your Age, Eve Brown  ...  Narrator Ione Butler goes straight for the hea...\n",
              "3                   Dusk, Night, Dawn  ...  Anne Lamott’s narration of Dusk, Night, Dawn i...\n",
              "4   ★ The Natural Mother of the Child  ...  Krys Malcolm Belc’s growing realization that h...\n",
              "5           Professional Troublemaker  ...  Luvvie Ajayi Jones’ commanding, cheerful voice...\n",
              "\n",
              "[6 rows x 4 columns]"
            ]
          },
          "metadata": {
            "tags": []
          },
          "execution_count": 24
        }
      ]
    },
    {
      "cell_type": "code",
      "metadata": {
        "id": "gIAM07xmqOb-"
      },
      "source": [
        "df=data.set_index('Name')"
      ],
      "execution_count": 25,
      "outputs": []
    },
    {
      "cell_type": "code",
      "metadata": {
        "id": "1QxQcVYDqYZI"
      },
      "source": [
        "df=df.drop('The Hold List: Genre refreshers',axis=0)"
      ],
      "execution_count": 26,
      "outputs": []
    },
    {
      "cell_type": "code",
      "metadata": {
        "colab": {
          "base_uri": "https://localhost:8080/",
          "height": 235
        },
        "id": "C44Zh_Soqg8t",
        "outputId": "8b8851a6-43b2-41d4-c474-b264fd49a632"
      },
      "source": [
        "df"
      ],
      "execution_count": 27,
      "outputs": [
        {
          "output_type": "execute_result",
          "data": {
            "text/html": [
              "<div>\n",
              "<style scoped>\n",
              "    .dataframe tbody tr th:only-of-type {\n",
              "        vertical-align: middle;\n",
              "    }\n",
              "\n",
              "    .dataframe tbody tr th {\n",
              "        vertical-align: top;\n",
              "    }\n",
              "\n",
              "    .dataframe thead th {\n",
              "        text-align: right;\n",
              "    }\n",
              "</style>\n",
              "<table border=\"1\" class=\"dataframe\">\n",
              "  <thead>\n",
              "    <tr style=\"text-align: right;\">\n",
              "      <th></th>\n",
              "      <th>Author</th>\n",
              "      <th>Genre</th>\n",
              "      <th>Review</th>\n",
              "    </tr>\n",
              "    <tr>\n",
              "      <th>Name</th>\n",
              "      <th></th>\n",
              "      <th></th>\n",
              "      <th></th>\n",
              "    </tr>\n",
              "  </thead>\n",
              "  <tbody>\n",
              "    <tr>\n",
              "      <th>The case of the teenage gumshoe</th>\n",
              "      <td>Linda M. Castellitto</td>\n",
              "      <td>YA / YA Fiction</td>\n",
              "      <td>Three persistent teen heroines pursue the trut...</td>\n",
              "    </tr>\n",
              "    <tr>\n",
              "      <th>Act Your Age, Eve Brown</th>\n",
              "      <td>Anna Zeitlin</td>\n",
              "      <td>Audio / Romance / Contemporary Romance</td>\n",
              "      <td>Narrator Ione Butler goes straight for the hea...</td>\n",
              "    </tr>\n",
              "    <tr>\n",
              "      <th>Dusk, Night, Dawn</th>\n",
              "      <td>Mari Carlson</td>\n",
              "      <td>Audio / Nonfiction / Spirituality</td>\n",
              "      <td>Anne Lamott’s narration of Dusk, Night, Dawn i...</td>\n",
              "    </tr>\n",
              "    <tr>\n",
              "      <th>★ The Natural Mother of the Child</th>\n",
              "      <td>Kelly Blewett</td>\n",
              "      <td>Nonfiction / Memoir / LGBTQ</td>\n",
              "      <td>Krys Malcolm Belc’s growing realization that h...</td>\n",
              "    </tr>\n",
              "    <tr>\n",
              "      <th>Professional Troublemaker</th>\n",
              "      <td>Mari Carlson</td>\n",
              "      <td>Audio / Nonfiction / Self-Help</td>\n",
              "      <td>Luvvie Ajayi Jones’ commanding, cheerful voice...</td>\n",
              "    </tr>\n",
              "  </tbody>\n",
              "</table>\n",
              "</div>"
            ],
            "text/plain": [
              "                                                   Author  ...                                             Review\n",
              "Name                                                       ...                                                   \n",
              "The case of the teenage gumshoe      Linda M. Castellitto  ...  Three persistent teen heroines pursue the trut...\n",
              "Act Your Age, Eve Brown                      Anna Zeitlin  ...  Narrator Ione Butler goes straight for the hea...\n",
              "Dusk, Night, Dawn                            Mari Carlson  ...  Anne Lamott’s narration of Dusk, Night, Dawn i...\n",
              " ★ The Natural Mother of the Child          Kelly Blewett  ...  Krys Malcolm Belc’s growing realization that h...\n",
              "Professional Troublemaker                    Mari Carlson  ...  Luvvie Ajayi Jones’ commanding, cheerful voice...\n",
              "\n",
              "[5 rows x 3 columns]"
            ]
          },
          "metadata": {
            "tags": []
          },
          "execution_count": 27
        }
      ]
    },
    {
      "cell_type": "markdown",
      "metadata": {
        "id": "uwTbxaO_htCk"
      },
      "source": [
        "#these are our 5 books"
      ]
    }
  ]
}